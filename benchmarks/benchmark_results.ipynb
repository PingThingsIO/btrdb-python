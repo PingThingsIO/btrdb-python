{
 "cells": [
  {
   "cell_type": "code",
   "execution_count": 177,
   "id": "9f216826-b797-46cb-9d89-97d3eb0ca1bb",
   "metadata": {
    "tags": []
   },
   "outputs": [],
   "source": [
    "import pandas as pd\n",
    "import seaborn as sns\n",
    "import matplotlib.pyplot as plt\n",
    "import btrdb\n",
    "import plotly\n",
    "import pprint\n",
    "import pathlib\n",
    "import numpy as np"
   ]
  },
  {
   "cell_type": "code",
   "execution_count": 8,
   "id": "4716f380-83e2-4721-bb31-7f9f2726d8ed",
   "metadata": {},
   "outputs": [
    {
     "name": "stdout",
     "output_type": "stream",
     "text": [
      "[('pandas', '2.0.2'), ('seaborn', '0.12.2'), ('plotly', '5.15.0')]\n"
     ]
    }
   ],
   "source": [
    "pprint.pprint([(x.__name__, x.__version__) for x in [pd, sns, plotly]])"
   ]
  },
  {
   "cell_type": "code",
   "execution_count": 9,
   "id": "e12bd5cb-7b3e-421a-8e2a-280d2e3ddb07",
   "metadata": {
    "tags": []
   },
   "outputs": [
    {
     "name": "stdout",
     "output_type": "stream",
     "text": [
      "{'build': '5.29.0',\n",
      " 'majorVersion': 5,\n",
      " 'minorVersion': 29,\n",
      " 'proxy': {'proxyEndpoints': []}}\n"
     ]
    }
   ],
   "source": [
    "conn = btrdb.connect(profile=\"andy\")\n",
    "pprint.pprint(conn.info())"
   ]
  },
  {
   "cell_type": "markdown",
   "id": "a5391925-8e40-48fd-b2e6-a49261f43e17",
   "metadata": {},
   "source": [
    "## Benchmark Results for Single Stream Reads"
   ]
  },
  {
   "cell_type": "code",
   "execution_count": 13,
   "id": "36ac2e0b-d24f-4917-9b96-8807bed5633d",
   "metadata": {
    "tags": []
   },
   "outputs": [
    {
     "name": "stdout",
     "output_type": "stream",
     "text": [
      "[PosixPath('single_stream_raw_val.csv'), PosixPath('single_stream_windows.csv'), PosixPath('single_stream_aligned_windows.csv')]\n"
     ]
    }
   ],
   "source": [
    "fnames = list(pathlib.Path().glob(\"single_stream*.csv\"))\n",
    "print(fnames)"
   ]
  },
  {
   "cell_type": "code",
   "execution_count": 14,
   "id": "3aa13f36-7f91-4c9a-acc5-5985913d7ecc",
   "metadata": {
    "tags": []
   },
   "outputs": [],
   "source": [
    "dfs = [pd.read_csv(filepath_or_buffer=f, header=0, index_col=0) for f in fnames]"
   ]
  },
  {
   "cell_type": "code",
   "execution_count": 20,
   "id": "f3c2505b-39e8-45de-b0d5-13574827ccb1",
   "metadata": {
    "tags": []
   },
   "outputs": [
    {
     "name": "stdout",
     "output_type": "stream",
     "text": [
      "<class 'pandas.core.frame.DataFrame'>\n",
      "Index: 300 entries, 0 to 119\n",
      "Data columns (total 10 columns):\n",
      " #   Column              Non-Null Count  Dtype          \n",
      "---  ------              --------------  -----          \n",
      " 0   n_points            300 non-null    int64[pyarrow] \n",
      " 1   func_name           300 non-null    string[pyarrow]\n",
      " 2   replica             300 non-null    int64[pyarrow] \n",
      " 3   n_streams           300 non-null    int64[pyarrow] \n",
      " 4   width_ns            120 non-null    int64[pyarrow] \n",
      " 5   pw                  120 non-null    int64[pyarrow] \n",
      " 6   uuid                300 non-null    string[pyarrow]\n",
      " 7   total_points        300 non-null    int64[pyarrow] \n",
      " 8   total_time_seconds  300 non-null    double[pyarrow]\n",
      " 9   stream_version      300 non-null    int64[pyarrow] \n",
      "dtypes: double[pyarrow](1), int64[pyarrow](7), string[pyarrow](2)\n",
      "memory usage: 45.3 KB\n"
     ]
    },
    {
     "data": {
      "text/plain": [
       "None"
      ]
     },
     "metadata": {},
     "output_type": "display_data"
    },
    {
     "data": {
      "text/html": [
       "<div>\n",
       "<style scoped>\n",
       "    .dataframe tbody tr th:only-of-type {\n",
       "        vertical-align: middle;\n",
       "    }\n",
       "\n",
       "    .dataframe tbody tr th {\n",
       "        vertical-align: top;\n",
       "    }\n",
       "\n",
       "    .dataframe thead th {\n",
       "        text-align: right;\n",
       "    }\n",
       "</style>\n",
       "<table border=\"1\" class=\"dataframe\">\n",
       "  <thead>\n",
       "    <tr style=\"text-align: right;\">\n",
       "      <th></th>\n",
       "      <th>n_points</th>\n",
       "      <th>func_name</th>\n",
       "      <th>replica</th>\n",
       "      <th>n_streams</th>\n",
       "      <th>width_ns</th>\n",
       "      <th>pw</th>\n",
       "      <th>uuid</th>\n",
       "      <th>total_points</th>\n",
       "      <th>total_time_seconds</th>\n",
       "      <th>stream_version</th>\n",
       "    </tr>\n",
       "  </thead>\n",
       "  <tbody>\n",
       "    <tr>\n",
       "      <th>0</th>\n",
       "      <td>10000</td>\n",
       "      <td>time_single_stream_arrow_raw_values</td>\n",
       "      <td>0</td>\n",
       "      <td>1</td>\n",
       "      <td>&lt;NA&gt;</td>\n",
       "      <td>&lt;NA&gt;</td>\n",
       "      <td>29381d06-3ea9-4403-bbc3-222eb5b1702b</td>\n",
       "      <td>10000</td>\n",
       "      <td>0.056478</td>\n",
       "      <td>0</td>\n",
       "    </tr>\n",
       "    <tr>\n",
       "      <th>1</th>\n",
       "      <td>10000</td>\n",
       "      <td>time_single_stream_arrow_raw_values</td>\n",
       "      <td>1</td>\n",
       "      <td>1</td>\n",
       "      <td>&lt;NA&gt;</td>\n",
       "      <td>&lt;NA&gt;</td>\n",
       "      <td>29381d06-3ea9-4403-bbc3-222eb5b1702b</td>\n",
       "      <td>10000</td>\n",
       "      <td>0.055691</td>\n",
       "      <td>0</td>\n",
       "    </tr>\n",
       "    <tr>\n",
       "      <th>2</th>\n",
       "      <td>10000</td>\n",
       "      <td>time_single_stream_arrow_raw_values</td>\n",
       "      <td>2</td>\n",
       "      <td>1</td>\n",
       "      <td>&lt;NA&gt;</td>\n",
       "      <td>&lt;NA&gt;</td>\n",
       "      <td>29381d06-3ea9-4403-bbc3-222eb5b1702b</td>\n",
       "      <td>10000</td>\n",
       "      <td>0.059283</td>\n",
       "      <td>0</td>\n",
       "    </tr>\n",
       "    <tr>\n",
       "      <th>3</th>\n",
       "      <td>10000</td>\n",
       "      <td>time_single_stream_arrow_raw_values</td>\n",
       "      <td>3</td>\n",
       "      <td>1</td>\n",
       "      <td>&lt;NA&gt;</td>\n",
       "      <td>&lt;NA&gt;</td>\n",
       "      <td>29381d06-3ea9-4403-bbc3-222eb5b1702b</td>\n",
       "      <td>10000</td>\n",
       "      <td>0.060607</td>\n",
       "      <td>0</td>\n",
       "    </tr>\n",
       "    <tr>\n",
       "      <th>4</th>\n",
       "      <td>10000</td>\n",
       "      <td>time_single_stream_arrow_raw_values</td>\n",
       "      <td>4</td>\n",
       "      <td>1</td>\n",
       "      <td>&lt;NA&gt;</td>\n",
       "      <td>&lt;NA&gt;</td>\n",
       "      <td>29381d06-3ea9-4403-bbc3-222eb5b1702b</td>\n",
       "      <td>10000</td>\n",
       "      <td>0.060758</td>\n",
       "      <td>0</td>\n",
       "    </tr>\n",
       "  </tbody>\n",
       "</table>\n",
       "</div>"
      ],
      "text/plain": [
       "   n_points                            func_name  replica  n_streams  \\\n",
       "0     10000  time_single_stream_arrow_raw_values        0          1   \n",
       "1     10000  time_single_stream_arrow_raw_values        1          1   \n",
       "2     10000  time_single_stream_arrow_raw_values        2          1   \n",
       "3     10000  time_single_stream_arrow_raw_values        3          1   \n",
       "4     10000  time_single_stream_arrow_raw_values        4          1   \n",
       "\n",
       "   width_ns    pw                                  uuid  total_points  \\\n",
       "0      <NA>  <NA>  29381d06-3ea9-4403-bbc3-222eb5b1702b         10000   \n",
       "1      <NA>  <NA>  29381d06-3ea9-4403-bbc3-222eb5b1702b         10000   \n",
       "2      <NA>  <NA>  29381d06-3ea9-4403-bbc3-222eb5b1702b         10000   \n",
       "3      <NA>  <NA>  29381d06-3ea9-4403-bbc3-222eb5b1702b         10000   \n",
       "4      <NA>  <NA>  29381d06-3ea9-4403-bbc3-222eb5b1702b         10000   \n",
       "\n",
       "   total_time_seconds  stream_version  \n",
       "0            0.056478               0  \n",
       "1            0.055691               0  \n",
       "2            0.059283               0  \n",
       "3            0.060607               0  \n",
       "4            0.060758               0  "
      ]
     },
     "metadata": {},
     "output_type": "display_data"
    }
   ],
   "source": [
    "read_df = pd.concat(dfs).drop(columns=[\"Index\"])\n",
    "read_df = read_df.convert_dtypes(dtype_backend=\"pyarrow\")\n",
    "display(read_df.info())\n",
    "display(read_df.head(5))"
   ]
  },
  {
   "cell_type": "code",
   "execution_count": 69,
   "id": "0efbe158-3a1e-444b-9f08-3cb218dde266",
   "metadata": {
    "tags": []
   },
   "outputs": [],
   "source": [
    "func_group_aligned_win = read_df.groupby(\n",
    "    [\"func_name\", \"total_points\", \"n_points\", \"pw\"]\n",
    ")\n",
    "func_group_win = read_df.groupby([\"func_name\", \"total_points\", \"n_points\", \"width_ns\"])\n",
    "func_group_raw = read_df[read_df.func_name.str.contains(\"raw\")].groupby(\n",
    "    [\"func_name\", \"n_points\", \"total_points\"]\n",
    ")"
   ]
  },
  {
   "cell_type": "code",
   "execution_count": 70,
   "id": "8ce48ab1-91fe-4c50-9150-ae1e8bfea03c",
   "metadata": {
    "tags": []
   },
   "outputs": [],
   "source": [
    "avg_time_aligned = func_group_aligned_win.total_time_seconds.agg([\"mean\", \"std\"])\n",
    "avg_time_win = func_group_win.total_time_seconds.agg([\"mean\", \"std\"])\n",
    "avg_time_raw = func_group_raw.total_time_seconds.agg([\"mean\", \"std\"])"
   ]
  },
  {
   "cell_type": "code",
   "execution_count": 78,
   "id": "d5e9f557-5df8-4178-a5fa-5ecaa2ef5bd4",
   "metadata": {
    "tags": []
   },
   "outputs": [
    {
     "data": {
      "text/html": [
       "<div>\n",
       "<style scoped>\n",
       "    .dataframe tbody tr th:only-of-type {\n",
       "        vertical-align: middle;\n",
       "    }\n",
       "\n",
       "    .dataframe tbody tr th {\n",
       "        vertical-align: top;\n",
       "    }\n",
       "\n",
       "    .dataframe thead th {\n",
       "        text-align: right;\n",
       "    }\n",
       "</style>\n",
       "<table border=\"1\" class=\"dataframe\">\n",
       "  <thead>\n",
       "    <tr style=\"text-align: right;\">\n",
       "      <th></th>\n",
       "      <th></th>\n",
       "      <th></th>\n",
       "      <th></th>\n",
       "      <th>mean</th>\n",
       "      <th>std</th>\n",
       "    </tr>\n",
       "    <tr>\n",
       "      <th>func_name</th>\n",
       "      <th>total_points</th>\n",
       "      <th>n_points</th>\n",
       "      <th>pw</th>\n",
       "      <th></th>\n",
       "      <th></th>\n",
       "    </tr>\n",
       "  </thead>\n",
       "  <tbody>\n",
       "    <tr>\n",
       "      <th rowspan=\"12\" valign=\"top\">time_single_stream_aligned_windows_values</th>\n",
       "      <th>36</th>\n",
       "      <th>10000</th>\n",
       "      <th>38</th>\n",
       "      <td>0.046963</td>\n",
       "      <td>0.002733</td>\n",
       "    </tr>\n",
       "    <tr>\n",
       "      <th>145</th>\n",
       "      <th>10000</th>\n",
       "      <th>36</th>\n",
       "      <td>0.051344</td>\n",
       "      <td>0.004525</td>\n",
       "    </tr>\n",
       "    <tr>\n",
       "      <th>363</th>\n",
       "      <th>100000</th>\n",
       "      <th>38</th>\n",
       "      <td>0.051241</td>\n",
       "      <td>0.002363</td>\n",
       "    </tr>\n",
       "    <tr>\n",
       "      <th>1455</th>\n",
       "      <th>100000</th>\n",
       "      <th>36</th>\n",
       "      <td>0.071450</td>\n",
       "      <td>0.003671</td>\n",
       "    </tr>\n",
       "    <tr>\n",
       "      <th>3638</th>\n",
       "      <th>1000000</th>\n",
       "      <th>38</th>\n",
       "      <td>0.076830</td>\n",
       "      <td>0.003688</td>\n",
       "    </tr>\n",
       "    <tr>\n",
       "      <th>10913</th>\n",
       "      <th>3000000</th>\n",
       "      <th>38</th>\n",
       "      <td>0.104706</td>\n",
       "      <td>0.004935</td>\n",
       "    </tr>\n",
       "    <tr>\n",
       "      <th>14552</th>\n",
       "      <th>1000000</th>\n",
       "      <th>36</th>\n",
       "      <td>0.160669</td>\n",
       "      <td>0.004068</td>\n",
       "    </tr>\n",
       "    <tr>\n",
       "      <th>18189</th>\n",
       "      <th>5000000</th>\n",
       "      <th>38</th>\n",
       "      <td>0.131935</td>\n",
       "      <td>0.003547</td>\n",
       "    </tr>\n",
       "    <tr>\n",
       "      <th>36379</th>\n",
       "      <th>10000000</th>\n",
       "      <th>38</th>\n",
       "      <td>0.191556</td>\n",
       "      <td>0.005002</td>\n",
       "    </tr>\n",
       "    <tr>\n",
       "      <th>43655</th>\n",
       "      <th>3000000</th>\n",
       "      <th>36</th>\n",
       "      <td>0.305020</td>\n",
       "      <td>0.006895</td>\n",
       "    </tr>\n",
       "    <tr>\n",
       "      <th>72759</th>\n",
       "      <th>5000000</th>\n",
       "      <th>36</th>\n",
       "      <td>0.462111</td>\n",
       "      <td>0.007258</td>\n",
       "    </tr>\n",
       "    <tr>\n",
       "      <th>145519</th>\n",
       "      <th>10000000</th>\n",
       "      <th>36</th>\n",
       "      <td>0.841226</td>\n",
       "      <td>0.014914</td>\n",
       "    </tr>\n",
       "    <tr>\n",
       "      <th rowspan=\"12\" valign=\"top\">time_single_stream_arrow_aligned_windows_values</th>\n",
       "      <th>36</th>\n",
       "      <th>10000</th>\n",
       "      <th>38</th>\n",
       "      <td>0.051862</td>\n",
       "      <td>0.003149</td>\n",
       "    </tr>\n",
       "    <tr>\n",
       "      <th>145</th>\n",
       "      <th>10000</th>\n",
       "      <th>36</th>\n",
       "      <td>0.051688</td>\n",
       "      <td>0.001609</td>\n",
       "    </tr>\n",
       "    <tr>\n",
       "      <th>363</th>\n",
       "      <th>100000</th>\n",
       "      <th>38</th>\n",
       "      <td>0.050124</td>\n",
       "      <td>0.003405</td>\n",
       "    </tr>\n",
       "    <tr>\n",
       "      <th>1455</th>\n",
       "      <th>100000</th>\n",
       "      <th>36</th>\n",
       "      <td>0.066175</td>\n",
       "      <td>0.004685</td>\n",
       "    </tr>\n",
       "    <tr>\n",
       "      <th>3638</th>\n",
       "      <th>1000000</th>\n",
       "      <th>38</th>\n",
       "      <td>0.066163</td>\n",
       "      <td>0.002960</td>\n",
       "    </tr>\n",
       "    <tr>\n",
       "      <th>10913</th>\n",
       "      <th>3000000</th>\n",
       "      <th>38</th>\n",
       "      <td>0.084391</td>\n",
       "      <td>0.002460</td>\n",
       "    </tr>\n",
       "    <tr>\n",
       "      <th>14552</th>\n",
       "      <th>1000000</th>\n",
       "      <th>36</th>\n",
       "      <td>0.146864</td>\n",
       "      <td>0.005946</td>\n",
       "    </tr>\n",
       "    <tr>\n",
       "      <th>18189</th>\n",
       "      <th>5000000</th>\n",
       "      <th>38</th>\n",
       "      <td>0.093321</td>\n",
       "      <td>0.002388</td>\n",
       "    </tr>\n",
       "    <tr>\n",
       "      <th>36379</th>\n",
       "      <th>10000000</th>\n",
       "      <th>38</th>\n",
       "      <td>0.123221</td>\n",
       "      <td>0.006679</td>\n",
       "    </tr>\n",
       "    <tr>\n",
       "      <th>43655</th>\n",
       "      <th>3000000</th>\n",
       "      <th>36</th>\n",
       "      <td>0.294775</td>\n",
       "      <td>0.003129</td>\n",
       "    </tr>\n",
       "    <tr>\n",
       "      <th>72759</th>\n",
       "      <th>5000000</th>\n",
       "      <th>36</th>\n",
       "      <td>0.442385</td>\n",
       "      <td>0.003056</td>\n",
       "    </tr>\n",
       "    <tr>\n",
       "      <th>145519</th>\n",
       "      <th>10000000</th>\n",
       "      <th>36</th>\n",
       "      <td>0.827982</td>\n",
       "      <td>0.012197</td>\n",
       "    </tr>\n",
       "  </tbody>\n",
       "</table>\n",
       "</div>"
      ],
      "text/plain": [
       "                                                                              mean  \\\n",
       "func_name                                       total_points n_points pw             \n",
       "time_single_stream_aligned_windows_values       36           10000    38  0.046963   \n",
       "                                                145          10000    36  0.051344   \n",
       "                                                363          100000   38  0.051241   \n",
       "                                                1455         100000   36  0.071450   \n",
       "                                                3638         1000000  38  0.076830   \n",
       "                                                10913        3000000  38  0.104706   \n",
       "                                                14552        1000000  36  0.160669   \n",
       "                                                18189        5000000  38  0.131935   \n",
       "                                                36379        10000000 38  0.191556   \n",
       "                                                43655        3000000  36  0.305020   \n",
       "                                                72759        5000000  36  0.462111   \n",
       "                                                145519       10000000 36  0.841226   \n",
       "time_single_stream_arrow_aligned_windows_values 36           10000    38  0.051862   \n",
       "                                                145          10000    36  0.051688   \n",
       "                                                363          100000   38  0.050124   \n",
       "                                                1455         100000   36  0.066175   \n",
       "                                                3638         1000000  38  0.066163   \n",
       "                                                10913        3000000  38  0.084391   \n",
       "                                                14552        1000000  36  0.146864   \n",
       "                                                18189        5000000  38  0.093321   \n",
       "                                                36379        10000000 38  0.123221   \n",
       "                                                43655        3000000  36  0.294775   \n",
       "                                                72759        5000000  36  0.442385   \n",
       "                                                145519       10000000 36  0.827982   \n",
       "\n",
       "                                                                               std  \n",
       "func_name                                       total_points n_points pw            \n",
       "time_single_stream_aligned_windows_values       36           10000    38  0.002733  \n",
       "                                                145          10000    36  0.004525  \n",
       "                                                363          100000   38  0.002363  \n",
       "                                                1455         100000   36  0.003671  \n",
       "                                                3638         1000000  38  0.003688  \n",
       "                                                10913        3000000  38  0.004935  \n",
       "                                                14552        1000000  36  0.004068  \n",
       "                                                18189        5000000  38  0.003547  \n",
       "                                                36379        10000000 38  0.005002  \n",
       "                                                43655        3000000  36  0.006895  \n",
       "                                                72759        5000000  36  0.007258  \n",
       "                                                145519       10000000 36  0.014914  \n",
       "time_single_stream_arrow_aligned_windows_values 36           10000    38  0.003149  \n",
       "                                                145          10000    36  0.001609  \n",
       "                                                363          100000   38  0.003405  \n",
       "                                                1455         100000   36  0.004685  \n",
       "                                                3638         1000000  38  0.002960  \n",
       "                                                10913        3000000  38  0.002460  \n",
       "                                                14552        1000000  36  0.005946  \n",
       "                                                18189        5000000  38  0.002388  \n",
       "                                                36379        10000000 38  0.006679  \n",
       "                                                43655        3000000  36  0.003129  \n",
       "                                                72759        5000000  36  0.003056  \n",
       "                                                145519       10000000 36  0.012197  "
      ]
     },
     "execution_count": 78,
     "metadata": {},
     "output_type": "execute_result"
    }
   ],
   "source": [
    "avg_time_aligned"
   ]
  },
  {
   "cell_type": "code",
   "execution_count": 76,
   "id": "91cf54ce-53de-4ff6-805a-4aee72ab495e",
   "metadata": {
    "tags": []
   },
   "outputs": [
    {
     "data": {
      "text/html": [
       "<div>\n",
       "<style scoped>\n",
       "    .dataframe tbody tr th:only-of-type {\n",
       "        vertical-align: middle;\n",
       "    }\n",
       "\n",
       "    .dataframe tbody tr th {\n",
       "        vertical-align: top;\n",
       "    }\n",
       "\n",
       "    .dataframe thead th {\n",
       "        text-align: right;\n",
       "    }\n",
       "</style>\n",
       "<table border=\"1\" class=\"dataframe\">\n",
       "  <thead>\n",
       "    <tr style=\"text-align: right;\">\n",
       "      <th></th>\n",
       "      <th></th>\n",
       "      <th></th>\n",
       "      <th></th>\n",
       "      <th>mean</th>\n",
       "      <th>std</th>\n",
       "    </tr>\n",
       "    <tr>\n",
       "      <th>func_name</th>\n",
       "      <th>total_points</th>\n",
       "      <th>n_points</th>\n",
       "      <th>width_ns</th>\n",
       "      <th></th>\n",
       "      <th></th>\n",
       "    </tr>\n",
       "  </thead>\n",
       "  <tbody>\n",
       "    <tr>\n",
       "      <th rowspan=\"12\" valign=\"top\">time_single_stream_arrow_windows_values</th>\n",
       "      <th>33</th>\n",
       "      <th>10000</th>\n",
       "      <th>300000000000</th>\n",
       "      <td>0.047447</td>\n",
       "      <td>0.000486</td>\n",
       "    </tr>\n",
       "    <tr>\n",
       "      <th>166</th>\n",
       "      <th>10000</th>\n",
       "      <th>60000000000</th>\n",
       "      <td>0.051608</td>\n",
       "      <td>0.006205</td>\n",
       "    </tr>\n",
       "    <tr>\n",
       "      <th>333</th>\n",
       "      <th>100000</th>\n",
       "      <th>300000000000</th>\n",
       "      <td>0.057003</td>\n",
       "      <td>0.002627</td>\n",
       "    </tr>\n",
       "    <tr>\n",
       "      <th>1666</th>\n",
       "      <th>100000</th>\n",
       "      <th>60000000000</th>\n",
       "      <td>0.073234</td>\n",
       "      <td>0.018926</td>\n",
       "    </tr>\n",
       "    <tr>\n",
       "      <th>3333</th>\n",
       "      <th>1000000</th>\n",
       "      <th>300000000000</th>\n",
       "      <td>0.129363</td>\n",
       "      <td>0.008191</td>\n",
       "    </tr>\n",
       "    <tr>\n",
       "      <th>10000</th>\n",
       "      <th>3000000</th>\n",
       "      <th>300000000000</th>\n",
       "      <td>0.262458</td>\n",
       "      <td>0.004143</td>\n",
       "    </tr>\n",
       "    <tr>\n",
       "      <th rowspan=\"2\" valign=\"top\">16666</th>\n",
       "      <th>1000000</th>\n",
       "      <th>60000000000</th>\n",
       "      <td>0.151976</td>\n",
       "      <td>0.017610</td>\n",
       "    </tr>\n",
       "    <tr>\n",
       "      <th>5000000</th>\n",
       "      <th>300000000000</th>\n",
       "      <td>0.393203</td>\n",
       "      <td>0.004154</td>\n",
       "    </tr>\n",
       "    <tr>\n",
       "      <th>33333</th>\n",
       "      <th>10000000</th>\n",
       "      <th>300000000000</th>\n",
       "      <td>0.731716</td>\n",
       "      <td>0.008135</td>\n",
       "    </tr>\n",
       "    <tr>\n",
       "      <th>50000</th>\n",
       "      <th>3000000</th>\n",
       "      <th>60000000000</th>\n",
       "      <td>0.301181</td>\n",
       "      <td>0.004176</td>\n",
       "    </tr>\n",
       "    <tr>\n",
       "      <th>83333</th>\n",
       "      <th>5000000</th>\n",
       "      <th>60000000000</th>\n",
       "      <td>0.464476</td>\n",
       "      <td>0.011070</td>\n",
       "    </tr>\n",
       "    <tr>\n",
       "      <th>166666</th>\n",
       "      <th>10000000</th>\n",
       "      <th>60000000000</th>\n",
       "      <td>0.852485</td>\n",
       "      <td>0.009185</td>\n",
       "    </tr>\n",
       "    <tr>\n",
       "      <th rowspan=\"12\" valign=\"top\">time_single_stream_windows_values</th>\n",
       "      <th>33</th>\n",
       "      <th>10000</th>\n",
       "      <th>300000000000</th>\n",
       "      <td>0.047602</td>\n",
       "      <td>0.001712</td>\n",
       "    </tr>\n",
       "    <tr>\n",
       "      <th>166</th>\n",
       "      <th>10000</th>\n",
       "      <th>60000000000</th>\n",
       "      <td>0.048741</td>\n",
       "      <td>0.004236</td>\n",
       "    </tr>\n",
       "    <tr>\n",
       "      <th>333</th>\n",
       "      <th>100000</th>\n",
       "      <th>300000000000</th>\n",
       "      <td>0.059656</td>\n",
       "      <td>0.004056</td>\n",
       "    </tr>\n",
       "    <tr>\n",
       "      <th>1666</th>\n",
       "      <th>100000</th>\n",
       "      <th>60000000000</th>\n",
       "      <td>0.071931</td>\n",
       "      <td>0.002938</td>\n",
       "    </tr>\n",
       "    <tr>\n",
       "      <th>3333</th>\n",
       "      <th>1000000</th>\n",
       "      <th>300000000000</th>\n",
       "      <td>0.140340</td>\n",
       "      <td>0.008021</td>\n",
       "    </tr>\n",
       "    <tr>\n",
       "      <th>10000</th>\n",
       "      <th>3000000</th>\n",
       "      <th>300000000000</th>\n",
       "      <td>0.279134</td>\n",
       "      <td>0.003506</td>\n",
       "    </tr>\n",
       "    <tr>\n",
       "      <th rowspan=\"2\" valign=\"top\">16666</th>\n",
       "      <th>1000000</th>\n",
       "      <th>60000000000</th>\n",
       "      <td>0.156499</td>\n",
       "      <td>0.001956</td>\n",
       "    </tr>\n",
       "    <tr>\n",
       "      <th>5000000</th>\n",
       "      <th>300000000000</th>\n",
       "      <td>0.420990</td>\n",
       "      <td>0.007070</td>\n",
       "    </tr>\n",
       "    <tr>\n",
       "      <th>33333</th>\n",
       "      <th>10000000</th>\n",
       "      <th>300000000000</th>\n",
       "      <td>0.748328</td>\n",
       "      <td>0.011461</td>\n",
       "    </tr>\n",
       "    <tr>\n",
       "      <th>50000</th>\n",
       "      <th>3000000</th>\n",
       "      <th>60000000000</th>\n",
       "      <td>0.318011</td>\n",
       "      <td>0.009019</td>\n",
       "    </tr>\n",
       "    <tr>\n",
       "      <th>83333</th>\n",
       "      <th>5000000</th>\n",
       "      <th>60000000000</th>\n",
       "      <td>0.520299</td>\n",
       "      <td>0.065491</td>\n",
       "    </tr>\n",
       "    <tr>\n",
       "      <th>166666</th>\n",
       "      <th>10000000</th>\n",
       "      <th>60000000000</th>\n",
       "      <td>0.885319</td>\n",
       "      <td>0.018491</td>\n",
       "    </tr>\n",
       "  </tbody>\n",
       "</table>\n",
       "</div>"
      ],
      "text/plain": [
       "                                                                                mean  \\\n",
       "func_name                               total_points n_points width_ns                 \n",
       "time_single_stream_arrow_windows_values 33           10000    300000000000  0.047447   \n",
       "                                        166          10000    60000000000   0.051608   \n",
       "                                        333          100000   300000000000  0.057003   \n",
       "                                        1666         100000   60000000000   0.073234   \n",
       "                                        3333         1000000  300000000000  0.129363   \n",
       "                                        10000        3000000  300000000000  0.262458   \n",
       "                                        16666        1000000  60000000000   0.151976   \n",
       "                                                     5000000  300000000000  0.393203   \n",
       "                                        33333        10000000 300000000000  0.731716   \n",
       "                                        50000        3000000  60000000000   0.301181   \n",
       "                                        83333        5000000  60000000000   0.464476   \n",
       "                                        166666       10000000 60000000000   0.852485   \n",
       "time_single_stream_windows_values       33           10000    300000000000  0.047602   \n",
       "                                        166          10000    60000000000   0.048741   \n",
       "                                        333          100000   300000000000  0.059656   \n",
       "                                        1666         100000   60000000000   0.071931   \n",
       "                                        3333         1000000  300000000000  0.140340   \n",
       "                                        10000        3000000  300000000000  0.279134   \n",
       "                                        16666        1000000  60000000000   0.156499   \n",
       "                                                     5000000  300000000000  0.420990   \n",
       "                                        33333        10000000 300000000000  0.748328   \n",
       "                                        50000        3000000  60000000000   0.318011   \n",
       "                                        83333        5000000  60000000000   0.520299   \n",
       "                                        166666       10000000 60000000000   0.885319   \n",
       "\n",
       "                                                                                 std  \n",
       "func_name                               total_points n_points width_ns                \n",
       "time_single_stream_arrow_windows_values 33           10000    300000000000  0.000486  \n",
       "                                        166          10000    60000000000   0.006205  \n",
       "                                        333          100000   300000000000  0.002627  \n",
       "                                        1666         100000   60000000000   0.018926  \n",
       "                                        3333         1000000  300000000000  0.008191  \n",
       "                                        10000        3000000  300000000000  0.004143  \n",
       "                                        16666        1000000  60000000000   0.017610  \n",
       "                                                     5000000  300000000000  0.004154  \n",
       "                                        33333        10000000 300000000000  0.008135  \n",
       "                                        50000        3000000  60000000000   0.004176  \n",
       "                                        83333        5000000  60000000000   0.011070  \n",
       "                                        166666       10000000 60000000000   0.009185  \n",
       "time_single_stream_windows_values       33           10000    300000000000  0.001712  \n",
       "                                        166          10000    60000000000   0.004236  \n",
       "                                        333          100000   300000000000  0.004056  \n",
       "                                        1666         100000   60000000000   0.002938  \n",
       "                                        3333         1000000  300000000000  0.008021  \n",
       "                                        10000        3000000  300000000000  0.003506  \n",
       "                                        16666        1000000  60000000000   0.001956  \n",
       "                                                     5000000  300000000000  0.007070  \n",
       "                                        33333        10000000 300000000000  0.011461  \n",
       "                                        50000        3000000  60000000000   0.009019  \n",
       "                                        83333        5000000  60000000000   0.065491  \n",
       "                                        166666       10000000 60000000000   0.018491  "
      ]
     },
     "execution_count": 76,
     "metadata": {},
     "output_type": "execute_result"
    }
   ],
   "source": [
    "avg_time_win"
   ]
  },
  {
   "cell_type": "code",
   "execution_count": 105,
   "id": "f6aac014-5d90-42e0-a497-659422e8fb4f",
   "metadata": {
    "tags": []
   },
   "outputs": [],
   "source": [
    "avg_time_raw = avg_time_raw.reset_index()"
   ]
  },
  {
   "cell_type": "code",
   "execution_count": 116,
   "id": "bf9d109f-be13-4b58-923d-46a682be83f9",
   "metadata": {
    "tags": []
   },
   "outputs": [],
   "source": [
    "avg_time_raw[\"pps\"] = avg_time_raw[\"total_points\"] / avg_time_raw[\"mean\"]"
   ]
  },
  {
   "cell_type": "code",
   "execution_count": 117,
   "id": "0189731d-0e40-442f-9aba-996dd87fecfa",
   "metadata": {
    "tags": []
   },
   "outputs": [
    {
     "data": {
      "text/html": [
       "<div>\n",
       "<style scoped>\n",
       "    .dataframe tbody tr th:only-of-type {\n",
       "        vertical-align: middle;\n",
       "    }\n",
       "\n",
       "    .dataframe tbody tr th {\n",
       "        vertical-align: top;\n",
       "    }\n",
       "\n",
       "    .dataframe thead th {\n",
       "        text-align: right;\n",
       "    }\n",
       "</style>\n",
       "<table border=\"1\" class=\"dataframe\">\n",
       "  <thead>\n",
       "    <tr style=\"text-align: right;\">\n",
       "      <th></th>\n",
       "      <th>func_name</th>\n",
       "      <th>n_points</th>\n",
       "      <th>total_points</th>\n",
       "      <th>mean</th>\n",
       "      <th>std</th>\n",
       "      <th>pps</th>\n",
       "    </tr>\n",
       "  </thead>\n",
       "  <tbody>\n",
       "    <tr>\n",
       "      <th>0</th>\n",
       "      <td>time_single_stream_arrow_raw_values</td>\n",
       "      <td>10000</td>\n",
       "      <td>10000</td>\n",
       "      <td>0.058564</td>\n",
       "      <td>0.002351</td>\n",
       "      <td>1.707548e+05</td>\n",
       "    </tr>\n",
       "    <tr>\n",
       "      <th>1</th>\n",
       "      <td>time_single_stream_arrow_raw_values</td>\n",
       "      <td>100000</td>\n",
       "      <td>100000</td>\n",
       "      <td>0.141600</td>\n",
       "      <td>0.012922</td>\n",
       "      <td>7.062124e+05</td>\n",
       "    </tr>\n",
       "    <tr>\n",
       "      <th>2</th>\n",
       "      <td>time_single_stream_arrow_raw_values</td>\n",
       "      <td>1000000</td>\n",
       "      <td>1000000</td>\n",
       "      <td>1.087783</td>\n",
       "      <td>0.240952</td>\n",
       "      <td>9.193007e+05</td>\n",
       "    </tr>\n",
       "    <tr>\n",
       "      <th>3</th>\n",
       "      <td>time_single_stream_arrow_raw_values</td>\n",
       "      <td>3000000</td>\n",
       "      <td>3000000</td>\n",
       "      <td>3.245594</td>\n",
       "      <td>0.769639</td>\n",
       "      <td>9.243301e+05</td>\n",
       "    </tr>\n",
       "    <tr>\n",
       "      <th>4</th>\n",
       "      <td>time_single_stream_arrow_raw_values</td>\n",
       "      <td>5000000</td>\n",
       "      <td>5000000</td>\n",
       "      <td>4.078095</td>\n",
       "      <td>0.005819</td>\n",
       "      <td>1.226063e+06</td>\n",
       "    </tr>\n",
       "    <tr>\n",
       "      <th>5</th>\n",
       "      <td>time_single_stream_arrow_raw_values</td>\n",
       "      <td>10000000</td>\n",
       "      <td>10000000</td>\n",
       "      <td>8.533071</td>\n",
       "      <td>0.970086</td>\n",
       "      <td>1.171911e+06</td>\n",
       "    </tr>\n",
       "    <tr>\n",
       "      <th>6</th>\n",
       "      <td>time_single_stream_raw_values</td>\n",
       "      <td>10000</td>\n",
       "      <td>10000</td>\n",
       "      <td>0.078644</td>\n",
       "      <td>0.006072</td>\n",
       "      <td>1.271553e+05</td>\n",
       "    </tr>\n",
       "    <tr>\n",
       "      <th>7</th>\n",
       "      <td>time_single_stream_raw_values</td>\n",
       "      <td>100000</td>\n",
       "      <td>100000</td>\n",
       "      <td>0.209857</td>\n",
       "      <td>0.002285</td>\n",
       "      <td>4.765157e+05</td>\n",
       "    </tr>\n",
       "    <tr>\n",
       "      <th>8</th>\n",
       "      <td>time_single_stream_raw_values</td>\n",
       "      <td>1000000</td>\n",
       "      <td>1000000</td>\n",
       "      <td>1.686083</td>\n",
       "      <td>0.042689</td>\n",
       "      <td>5.930906e+05</td>\n",
       "    </tr>\n",
       "    <tr>\n",
       "      <th>9</th>\n",
       "      <td>time_single_stream_raw_values</td>\n",
       "      <td>3000000</td>\n",
       "      <td>3000000</td>\n",
       "      <td>4.809522</td>\n",
       "      <td>0.039116</td>\n",
       "      <td>6.237626e+05</td>\n",
       "    </tr>\n",
       "    <tr>\n",
       "      <th>10</th>\n",
       "      <td>time_single_stream_raw_values</td>\n",
       "      <td>5000000</td>\n",
       "      <td>5000000</td>\n",
       "      <td>7.977823</td>\n",
       "      <td>0.098524</td>\n",
       "      <td>6.267374e+05</td>\n",
       "    </tr>\n",
       "    <tr>\n",
       "      <th>11</th>\n",
       "      <td>time_single_stream_raw_values</td>\n",
       "      <td>10000000</td>\n",
       "      <td>10000000</td>\n",
       "      <td>16.059346</td>\n",
       "      <td>0.304541</td>\n",
       "      <td>6.226904e+05</td>\n",
       "    </tr>\n",
       "  </tbody>\n",
       "</table>\n",
       "</div>"
      ],
      "text/plain": [
       "                              func_name  n_points  total_points       mean  \\\n",
       "0   time_single_stream_arrow_raw_values     10000         10000   0.058564   \n",
       "1   time_single_stream_arrow_raw_values    100000        100000   0.141600   \n",
       "2   time_single_stream_arrow_raw_values   1000000       1000000   1.087783   \n",
       "3   time_single_stream_arrow_raw_values   3000000       3000000   3.245594   \n",
       "4   time_single_stream_arrow_raw_values   5000000       5000000   4.078095   \n",
       "5   time_single_stream_arrow_raw_values  10000000      10000000   8.533071   \n",
       "6         time_single_stream_raw_values     10000         10000   0.078644   \n",
       "7         time_single_stream_raw_values    100000        100000   0.209857   \n",
       "8         time_single_stream_raw_values   1000000       1000000   1.686083   \n",
       "9         time_single_stream_raw_values   3000000       3000000   4.809522   \n",
       "10        time_single_stream_raw_values   5000000       5000000   7.977823   \n",
       "11        time_single_stream_raw_values  10000000      10000000  16.059346   \n",
       "\n",
       "         std           pps  \n",
       "0   0.002351  1.707548e+05  \n",
       "1   0.012922  7.062124e+05  \n",
       "2   0.240952  9.193007e+05  \n",
       "3   0.769639  9.243301e+05  \n",
       "4   0.005819  1.226063e+06  \n",
       "5   0.970086  1.171911e+06  \n",
       "6   0.006072  1.271553e+05  \n",
       "7   0.002285  4.765157e+05  \n",
       "8   0.042689  5.930906e+05  \n",
       "9   0.039116  6.237626e+05  \n",
       "10  0.098524  6.267374e+05  \n",
       "11  0.304541  6.226904e+05  "
      ]
     },
     "execution_count": 117,
     "metadata": {},
     "output_type": "execute_result"
    }
   ],
   "source": [
    "avg_time_raw"
   ]
  },
  {
   "cell_type": "code",
   "execution_count": 118,
   "id": "bbba4435-ea6e-4ca5-a4aa-668efb9df122",
   "metadata": {
    "tags": []
   },
   "outputs": [],
   "source": [
    "import plotly.express as px"
   ]
  },
  {
   "cell_type": "code",
   "execution_count": 152,
   "id": "59662af5-9a3c-49e0-9aef-2e7a968cd040",
   "metadata": {
    "tags": []
   },
   "outputs": [],
   "source": [
    "fig_t = px.line(\n",
    "    data_frame=avg_time_raw,\n",
    "    x=\"total_points\",\n",
    "    y=\"pps\",\n",
    "    color=\"func_name\",\n",
    "    markers=True,\n",
    "    title=\"Single Stream Raw Values\",\n",
    ")\n",
    "fig_t.write_html(\"single_stream_reads_pps.html\")"
   ]
  },
  {
   "cell_type": "code",
   "execution_count": 151,
   "id": "ead73f42-8506-4c14-a7f1-66bf63624a36",
   "metadata": {
    "tags": []
   },
   "outputs": [],
   "source": [
    "my_fig = px.line(\n",
    "    data_frame=avg_time_raw,\n",
    "    x=\"total_points\",\n",
    "    y=\"mean\",\n",
    "    color=\"func_name\",\n",
    "    markers=True,\n",
    "    title=\"Single Stream Raw Values\",\n",
    "    error_y=\"std\",\n",
    ")\n",
    "my_fig.write_html(\"single_stream_reads_time.html\")"
   ]
  },
  {
   "cell_type": "markdown",
   "id": "0065ee20-a690-456f-a8a5-088237f1d45b",
   "metadata": {},
   "source": [
    "## Benchmark results for StreamSets"
   ]
  },
  {
   "cell_type": "code",
   "execution_count": 122,
   "id": "390e0ad0-6b46-4b6c-b62c-522a6276acb2",
   "metadata": {
    "tags": []
   },
   "outputs": [
    {
     "name": "stdout",
     "output_type": "stream",
     "text": [
      "[PosixPath('streamset_aligned_windows.csv'), PosixPath('streamset_windows.csv'), PosixPath('streamset_raw_val.csv')]\n"
     ]
    }
   ],
   "source": [
    "fns = list(pathlib.Path().glob(\"streamset*.csv\"))\n",
    "print(fns)"
   ]
  },
  {
   "cell_type": "code",
   "execution_count": 123,
   "id": "43877a77-ba7d-43da-982c-818b790dbd39",
   "metadata": {
    "tags": []
   },
   "outputs": [],
   "source": [
    "streamset_dfs = [pd.read_csv(filepath_or_buffer=f, header=0, index_col=0) for f in fns]"
   ]
  },
  {
   "cell_type": "code",
   "execution_count": 124,
   "id": "7fe8ad96-204d-41dd-ba16-5c25d84e7f53",
   "metadata": {
    "tags": []
   },
   "outputs": [
    {
     "name": "stdout",
     "output_type": "stream",
     "text": [
      "<class 'pandas.core.frame.DataFrame'>\n",
      "Index: 1806 entries, 0 to 365\n",
      "Data columns (total 9 columns):\n",
      " #   Column              Non-Null Count  Dtype          \n",
      "---  ------              --------------  -----          \n",
      " 0   n_points            1806 non-null   int64[pyarrow] \n",
      " 1   func_name           1806 non-null   string[pyarrow]\n",
      " 2   replica             1806 non-null   int64[pyarrow] \n",
      " 3   n_streams           1806 non-null   int64[pyarrow] \n",
      " 4   width_ns            720 non-null    int64[pyarrow] \n",
      " 5   pw                  720 non-null    int64[pyarrow] \n",
      " 6   total_points        1806 non-null   int64[pyarrow] \n",
      " 7   total_time_seconds  1806 non-null   double[pyarrow]\n",
      " 8   streamset_version   1806 non-null   int64[pyarrow] \n",
      "dtypes: double[pyarrow](1), int64[pyarrow](7), string[pyarrow](1)\n",
      "memory usage: 200.2 KB\n"
     ]
    },
    {
     "data": {
      "text/plain": [
       "None"
      ]
     },
     "metadata": {},
     "output_type": "display_data"
    },
    {
     "data": {
      "text/html": [
       "<div>\n",
       "<style scoped>\n",
       "    .dataframe tbody tr th:only-of-type {\n",
       "        vertical-align: middle;\n",
       "    }\n",
       "\n",
       "    .dataframe tbody tr th {\n",
       "        vertical-align: top;\n",
       "    }\n",
       "\n",
       "    .dataframe thead th {\n",
       "        text-align: right;\n",
       "    }\n",
       "</style>\n",
       "<table border=\"1\" class=\"dataframe\">\n",
       "  <thead>\n",
       "    <tr style=\"text-align: right;\">\n",
       "      <th></th>\n",
       "      <th>n_points</th>\n",
       "      <th>func_name</th>\n",
       "      <th>replica</th>\n",
       "      <th>n_streams</th>\n",
       "      <th>width_ns</th>\n",
       "      <th>pw</th>\n",
       "      <th>total_points</th>\n",
       "      <th>total_time_seconds</th>\n",
       "      <th>streamset_version</th>\n",
       "    </tr>\n",
       "  </thead>\n",
       "  <tbody>\n",
       "    <tr>\n",
       "      <th>0</th>\n",
       "      <td>10000</td>\n",
       "      <td>time_streamset_arrow_aligned_windows_values</td>\n",
       "      <td>0</td>\n",
       "      <td>1</td>\n",
       "      <td>&lt;NA&gt;</td>\n",
       "      <td>36</td>\n",
       "      <td>145</td>\n",
       "      <td>0.055052</td>\n",
       "      <td>0</td>\n",
       "    </tr>\n",
       "    <tr>\n",
       "      <th>1</th>\n",
       "      <td>10000</td>\n",
       "      <td>time_streamset_arrow_aligned_windows_values</td>\n",
       "      <td>0</td>\n",
       "      <td>1</td>\n",
       "      <td>&lt;NA&gt;</td>\n",
       "      <td>38</td>\n",
       "      <td>36</td>\n",
       "      <td>0.045318</td>\n",
       "      <td>0</td>\n",
       "    </tr>\n",
       "    <tr>\n",
       "      <th>2</th>\n",
       "      <td>10000</td>\n",
       "      <td>time_streamset_arrow_aligned_windows_values</td>\n",
       "      <td>0</td>\n",
       "      <td>5</td>\n",
       "      <td>&lt;NA&gt;</td>\n",
       "      <td>36</td>\n",
       "      <td>725</td>\n",
       "      <td>0.121949</td>\n",
       "      <td>0</td>\n",
       "    </tr>\n",
       "    <tr>\n",
       "      <th>3</th>\n",
       "      <td>10000</td>\n",
       "      <td>time_streamset_arrow_aligned_windows_values</td>\n",
       "      <td>0</td>\n",
       "      <td>5</td>\n",
       "      <td>&lt;NA&gt;</td>\n",
       "      <td>38</td>\n",
       "      <td>180</td>\n",
       "      <td>0.051226</td>\n",
       "      <td>0</td>\n",
       "    </tr>\n",
       "    <tr>\n",
       "      <th>4</th>\n",
       "      <td>10000</td>\n",
       "      <td>time_streamset_arrow_aligned_windows_values</td>\n",
       "      <td>0</td>\n",
       "      <td>10</td>\n",
       "      <td>&lt;NA&gt;</td>\n",
       "      <td>36</td>\n",
       "      <td>1450</td>\n",
       "      <td>0.094260</td>\n",
       "      <td>0</td>\n",
       "    </tr>\n",
       "  </tbody>\n",
       "</table>\n",
       "</div>"
      ],
      "text/plain": [
       "   n_points                                    func_name  replica  n_streams  \\\n",
       "0     10000  time_streamset_arrow_aligned_windows_values        0          1   \n",
       "1     10000  time_streamset_arrow_aligned_windows_values        0          1   \n",
       "2     10000  time_streamset_arrow_aligned_windows_values        0          5   \n",
       "3     10000  time_streamset_arrow_aligned_windows_values        0          5   \n",
       "4     10000  time_streamset_arrow_aligned_windows_values        0         10   \n",
       "\n",
       "   width_ns  pw  total_points  total_time_seconds  streamset_version  \n",
       "0      <NA>  36           145            0.055052                  0  \n",
       "1      <NA>  38            36            0.045318                  0  \n",
       "2      <NA>  36           725            0.121949                  0  \n",
       "3      <NA>  38           180            0.051226                  0  \n",
       "4      <NA>  36          1450            0.094260                  0  "
      ]
     },
     "metadata": {},
     "output_type": "display_data"
    }
   ],
   "source": [
    "streamset_read_df = pd.concat(streamset_dfs).drop(columns=[\"Index\"])\n",
    "streamset_read_df = streamset_read_df.convert_dtypes(dtype_backend=\"pyarrow\")\n",
    "display(streamset_read_df.info())\n",
    "display(streamset_read_df.head(5))"
   ]
  },
  {
   "cell_type": "code",
   "execution_count": 128,
   "id": "db67f0cb-35e0-49cf-b146-ce60e417a6f3",
   "metadata": {
    "tags": []
   },
   "outputs": [],
   "source": [
    "streamset_func_group_aligned_win = streamset_read_df.groupby(\n",
    "    [\"func_name\", \"total_points\", \"n_streams\", \"n_points\", \"pw\"]\n",
    ")\n",
    "streamset_func_group_win = streamset_read_df.groupby(\n",
    "    [\"func_name\", \"total_points\", \"n_streams\", \"n_points\", \"width_ns\"]\n",
    ")\n",
    "streamset_func_group_raw = streamset_read_df[\n",
    "    streamset_read_df.func_name.str.contains(\"raw\")\n",
    "].groupby([\"func_name\", \"n_points\", \"n_streams\", \"total_points\"])"
   ]
  },
  {
   "cell_type": "code",
   "execution_count": 132,
   "id": "19238341-5773-466f-b463-165c1c313fe8",
   "metadata": {
    "tags": []
   },
   "outputs": [],
   "source": [
    "streamset_avg_time_aligned = streamset_func_group_aligned_win.total_time_seconds.agg(\n",
    "    [\"mean\", \"std\"]\n",
    ")\n",
    "streamset_avg_time_win = streamset_func_group_win.total_time_seconds.agg(\n",
    "    [\"mean\", \"std\"]\n",
    ")\n",
    "streamset_avg_time_raw = streamset_func_group_raw.total_time_seconds.agg(\n",
    "    [\"mean\", \"std\"]\n",
    ")"
   ]
  },
  {
   "cell_type": "code",
   "execution_count": 130,
   "id": "c225908d-88a2-4983-a76a-acfadb50b957",
   "metadata": {
    "tags": []
   },
   "outputs": [
    {
     "data": {
      "text/html": [
       "<div>\n",
       "<style scoped>\n",
       "    .dataframe tbody tr th:only-of-type {\n",
       "        vertical-align: middle;\n",
       "    }\n",
       "\n",
       "    .dataframe tbody tr th {\n",
       "        vertical-align: top;\n",
       "    }\n",
       "\n",
       "    .dataframe thead th {\n",
       "        text-align: right;\n",
       "    }\n",
       "</style>\n",
       "<table border=\"1\" class=\"dataframe\">\n",
       "  <thead>\n",
       "    <tr style=\"text-align: right;\">\n",
       "      <th></th>\n",
       "      <th></th>\n",
       "      <th></th>\n",
       "      <th></th>\n",
       "      <th></th>\n",
       "      <th>mean</th>\n",
       "      <th>std</th>\n",
       "    </tr>\n",
       "    <tr>\n",
       "      <th>func_name</th>\n",
       "      <th>total_points</th>\n",
       "      <th>n_streams</th>\n",
       "      <th>n_points</th>\n",
       "      <th>pw</th>\n",
       "      <th></th>\n",
       "      <th></th>\n",
       "    </tr>\n",
       "  </thead>\n",
       "  <tbody>\n",
       "    <tr>\n",
       "      <th rowspan=\"5\" valign=\"top\">time_streamset_aligned_windows_values</th>\n",
       "      <th>36</th>\n",
       "      <th>1</th>\n",
       "      <th>10000</th>\n",
       "      <th>38</th>\n",
       "      <td>0.051371</td>\n",
       "      <td>0.004339</td>\n",
       "    </tr>\n",
       "    <tr>\n",
       "      <th>145</th>\n",
       "      <th>1</th>\n",
       "      <th>10000</th>\n",
       "      <th>36</th>\n",
       "      <td>0.049198</td>\n",
       "      <td>0.001385</td>\n",
       "    </tr>\n",
       "    <tr>\n",
       "      <th>180</th>\n",
       "      <th>5</th>\n",
       "      <th>10000</th>\n",
       "      <th>38</th>\n",
       "      <td>0.054740</td>\n",
       "      <td>0.004655</td>\n",
       "    </tr>\n",
       "    <tr>\n",
       "      <th>360</th>\n",
       "      <th>10</th>\n",
       "      <th>10000</th>\n",
       "      <th>38</th>\n",
       "      <td>0.068123</td>\n",
       "      <td>0.009179</td>\n",
       "    </tr>\n",
       "    <tr>\n",
       "      <th>363</th>\n",
       "      <th>1</th>\n",
       "      <th>100000</th>\n",
       "      <th>38</th>\n",
       "      <td>0.052513</td>\n",
       "      <td>0.002091</td>\n",
       "    </tr>\n",
       "    <tr>\n",
       "      <th>...</th>\n",
       "      <th>...</th>\n",
       "      <th>...</th>\n",
       "      <th>...</th>\n",
       "      <th>...</th>\n",
       "      <td>...</td>\n",
       "      <td>...</td>\n",
       "    </tr>\n",
       "    <tr>\n",
       "      <th rowspan=\"5\" valign=\"top\">time_streamset_arrow_aligned_windows_values</th>\n",
       "      <th>3637950</th>\n",
       "      <th>50</th>\n",
       "      <th>5000000</th>\n",
       "      <th>36</th>\n",
       "      <td>20.659290</td>\n",
       "      <td>0.307293</td>\n",
       "    </tr>\n",
       "    <tr>\n",
       "      <th>4365500</th>\n",
       "      <th>100</th>\n",
       "      <th>3000000</th>\n",
       "      <th>36</th>\n",
       "      <td>17.797778</td>\n",
       "      <td>0.119205</td>\n",
       "    </tr>\n",
       "    <tr>\n",
       "      <th>7275900</th>\n",
       "      <th>100</th>\n",
       "      <th>5000000</th>\n",
       "      <th>36</th>\n",
       "      <td>42.295246</td>\n",
       "      <td>0.732497</td>\n",
       "    </tr>\n",
       "    <tr>\n",
       "      <th>7275950</th>\n",
       "      <th>50</th>\n",
       "      <th>10000000</th>\n",
       "      <th>36</th>\n",
       "      <td>73.693171</td>\n",
       "      <td>3.709763</td>\n",
       "    </tr>\n",
       "    <tr>\n",
       "      <th>14551900</th>\n",
       "      <th>100</th>\n",
       "      <th>10000000</th>\n",
       "      <th>36</th>\n",
       "      <td>144.627398</td>\n",
       "      <td>3.057912</td>\n",
       "    </tr>\n",
       "  </tbody>\n",
       "</table>\n",
       "<p>144 rows × 2 columns</p>\n",
       "</div>"
      ],
      "text/plain": [
       "                                                                                      mean  \\\n",
       "func_name                                   total_points n_streams n_points pw               \n",
       "time_streamset_aligned_windows_values       36           1         10000    38    0.051371   \n",
       "                                            145          1         10000    36    0.049198   \n",
       "                                            180          5         10000    38    0.054740   \n",
       "                                            360          10        10000    38    0.068123   \n",
       "                                            363          1         100000   38    0.052513   \n",
       "...                                                                                    ...   \n",
       "time_streamset_arrow_aligned_windows_values 3637950      50        5000000  36   20.659290   \n",
       "                                            4365500      100       3000000  36   17.797778   \n",
       "                                            7275900      100       5000000  36   42.295246   \n",
       "                                            7275950      50        10000000 36   73.693171   \n",
       "                                            14551900     100       10000000 36  144.627398   \n",
       "\n",
       "                                                                                     std  \n",
       "func_name                                   total_points n_streams n_points pw            \n",
       "time_streamset_aligned_windows_values       36           1         10000    38  0.004339  \n",
       "                                            145          1         10000    36  0.001385  \n",
       "                                            180          5         10000    38  0.004655  \n",
       "                                            360          10        10000    38  0.009179  \n",
       "                                            363          1         100000   38  0.002091  \n",
       "...                                                                                  ...  \n",
       "time_streamset_arrow_aligned_windows_values 3637950      50        5000000  36  0.307293  \n",
       "                                            4365500      100       3000000  36  0.119205  \n",
       "                                            7275900      100       5000000  36  0.732497  \n",
       "                                            7275950      50        10000000 36  3.709763  \n",
       "                                            14551900     100       10000000 36  3.057912  \n",
       "\n",
       "[144 rows x 2 columns]"
      ]
     },
     "execution_count": 130,
     "metadata": {},
     "output_type": "execute_result"
    }
   ],
   "source": [
    "streamset_avg_time_aligned"
   ]
  },
  {
   "cell_type": "code",
   "execution_count": 133,
   "id": "a5df06b8-1906-4175-b8bc-f10a1f47d7dd",
   "metadata": {
    "tags": []
   },
   "outputs": [
    {
     "data": {
      "text/html": [
       "<div>\n",
       "<style scoped>\n",
       "    .dataframe tbody tr th:only-of-type {\n",
       "        vertical-align: middle;\n",
       "    }\n",
       "\n",
       "    .dataframe tbody tr th {\n",
       "        vertical-align: top;\n",
       "    }\n",
       "\n",
       "    .dataframe thead th {\n",
       "        text-align: right;\n",
       "    }\n",
       "</style>\n",
       "<table border=\"1\" class=\"dataframe\">\n",
       "  <thead>\n",
       "    <tr style=\"text-align: right;\">\n",
       "      <th></th>\n",
       "      <th></th>\n",
       "      <th></th>\n",
       "      <th></th>\n",
       "      <th></th>\n",
       "      <th>mean</th>\n",
       "      <th>std</th>\n",
       "    </tr>\n",
       "    <tr>\n",
       "      <th>func_name</th>\n",
       "      <th>total_points</th>\n",
       "      <th>n_streams</th>\n",
       "      <th>n_points</th>\n",
       "      <th>width_ns</th>\n",
       "      <th></th>\n",
       "      <th></th>\n",
       "    </tr>\n",
       "  </thead>\n",
       "  <tbody>\n",
       "    <tr>\n",
       "      <th rowspan=\"5\" valign=\"top\">time_streamset_arrow_windows_values</th>\n",
       "      <th>33</th>\n",
       "      <th>1</th>\n",
       "      <th>10000</th>\n",
       "      <th>300000000000</th>\n",
       "      <td>0.042792</td>\n",
       "      <td>0.001447</td>\n",
       "    </tr>\n",
       "    <tr>\n",
       "      <th>165</th>\n",
       "      <th>5</th>\n",
       "      <th>10000</th>\n",
       "      <th>300000000000</th>\n",
       "      <td>0.051210</td>\n",
       "      <td>0.001035</td>\n",
       "    </tr>\n",
       "    <tr>\n",
       "      <th>166</th>\n",
       "      <th>1</th>\n",
       "      <th>10000</th>\n",
       "      <th>60000000000</th>\n",
       "      <td>0.045230</td>\n",
       "      <td>0.004389</td>\n",
       "    </tr>\n",
       "    <tr>\n",
       "      <th>330</th>\n",
       "      <th>10</th>\n",
       "      <th>10000</th>\n",
       "      <th>300000000000</th>\n",
       "      <td>0.058593</td>\n",
       "      <td>0.003098</td>\n",
       "    </tr>\n",
       "    <tr>\n",
       "      <th>333</th>\n",
       "      <th>1</th>\n",
       "      <th>100000</th>\n",
       "      <th>300000000000</th>\n",
       "      <td>0.051182</td>\n",
       "      <td>0.002214</td>\n",
       "    </tr>\n",
       "    <tr>\n",
       "      <th>...</th>\n",
       "      <th>...</th>\n",
       "      <th>...</th>\n",
       "      <th>...</th>\n",
       "      <th>...</th>\n",
       "      <td>...</td>\n",
       "      <td>...</td>\n",
       "    </tr>\n",
       "    <tr>\n",
       "      <th rowspan=\"5\" valign=\"top\">time_streamset_windows_values</th>\n",
       "      <th>4166650</th>\n",
       "      <th>50</th>\n",
       "      <th>5000000</th>\n",
       "      <th>60000000000</th>\n",
       "      <td>9.112076</td>\n",
       "      <td>0.950075</td>\n",
       "    </tr>\n",
       "    <tr>\n",
       "      <th>5000000</th>\n",
       "      <th>100</th>\n",
       "      <th>3000000</th>\n",
       "      <th>60000000000</th>\n",
       "      <td>10.489762</td>\n",
       "      <td>0.243328</td>\n",
       "    </tr>\n",
       "    <tr>\n",
       "      <th rowspan=\"2\" valign=\"top\">8333300</th>\n",
       "      <th>50</th>\n",
       "      <th>10000000</th>\n",
       "      <th>60000000000</th>\n",
       "      <td>17.198121</td>\n",
       "      <td>0.728234</td>\n",
       "    </tr>\n",
       "    <tr>\n",
       "      <th>100</th>\n",
       "      <th>5000000</th>\n",
       "      <th>60000000000</th>\n",
       "      <td>18.936533</td>\n",
       "      <td>2.712884</td>\n",
       "    </tr>\n",
       "    <tr>\n",
       "      <th>16666600</th>\n",
       "      <th>100</th>\n",
       "      <th>10000000</th>\n",
       "      <th>60000000000</th>\n",
       "      <td>44.306774</td>\n",
       "      <td>3.089461</td>\n",
       "    </tr>\n",
       "  </tbody>\n",
       "</table>\n",
       "<p>144 rows × 2 columns</p>\n",
       "</div>"
      ],
      "text/plain": [
       "                                                                                       mean  \\\n",
       "func_name                           total_points n_streams n_points width_ns                  \n",
       "time_streamset_arrow_windows_values 33           1         10000    300000000000   0.042792   \n",
       "                                    165          5         10000    300000000000   0.051210   \n",
       "                                    166          1         10000    60000000000    0.045230   \n",
       "                                    330          10        10000    300000000000   0.058593   \n",
       "                                    333          1         100000   300000000000   0.051182   \n",
       "...                                                                                     ...   \n",
       "time_streamset_windows_values       4166650      50        5000000  60000000000    9.112076   \n",
       "                                    5000000      100       3000000  60000000000   10.489762   \n",
       "                                    8333300      50        10000000 60000000000   17.198121   \n",
       "                                                 100       5000000  60000000000   18.936533   \n",
       "                                    16666600     100       10000000 60000000000   44.306774   \n",
       "\n",
       "                                                                                       std  \n",
       "func_name                           total_points n_streams n_points width_ns                \n",
       "time_streamset_arrow_windows_values 33           1         10000    300000000000  0.001447  \n",
       "                                    165          5         10000    300000000000  0.001035  \n",
       "                                    166          1         10000    60000000000   0.004389  \n",
       "                                    330          10        10000    300000000000  0.003098  \n",
       "                                    333          1         100000   300000000000  0.002214  \n",
       "...                                                                                    ...  \n",
       "time_streamset_windows_values       4166650      50        5000000  60000000000   0.950075  \n",
       "                                    5000000      100       3000000  60000000000   0.243328  \n",
       "                                    8333300      50        10000000 60000000000   0.728234  \n",
       "                                                 100       5000000  60000000000   2.712884  \n",
       "                                    16666600     100       10000000 60000000000   3.089461  \n",
       "\n",
       "[144 rows x 2 columns]"
      ]
     },
     "execution_count": 133,
     "metadata": {},
     "output_type": "execute_result"
    }
   ],
   "source": [
    "streamset_avg_time_win"
   ]
  },
  {
   "cell_type": "code",
   "execution_count": 134,
   "id": "d99c1919-f6ed-474e-964c-9edf9dc7b8f0",
   "metadata": {
    "tags": []
   },
   "outputs": [
    {
     "data": {
      "text/html": [
       "<div>\n",
       "<style scoped>\n",
       "    .dataframe tbody tr th:only-of-type {\n",
       "        vertical-align: middle;\n",
       "    }\n",
       "\n",
       "    .dataframe tbody tr th {\n",
       "        vertical-align: top;\n",
       "    }\n",
       "\n",
       "    .dataframe thead th {\n",
       "        text-align: right;\n",
       "    }\n",
       "</style>\n",
       "<table border=\"1\" class=\"dataframe\">\n",
       "  <thead>\n",
       "    <tr style=\"text-align: right;\">\n",
       "      <th></th>\n",
       "      <th></th>\n",
       "      <th></th>\n",
       "      <th></th>\n",
       "      <th>mean</th>\n",
       "      <th>std</th>\n",
       "    </tr>\n",
       "    <tr>\n",
       "      <th>func_name</th>\n",
       "      <th>n_points</th>\n",
       "      <th>n_streams</th>\n",
       "      <th>total_points</th>\n",
       "      <th></th>\n",
       "      <th></th>\n",
       "    </tr>\n",
       "  </thead>\n",
       "  <tbody>\n",
       "    <tr>\n",
       "      <th rowspan=\"5\" valign=\"top\">time_streamset_arrow_multistream_raw_values_no...</th>\n",
       "      <th rowspan=\"5\" valign=\"top\">10000</th>\n",
       "      <th>1</th>\n",
       "      <th>10000</th>\n",
       "      <td>0.054268</td>\n",
       "      <td>0.003087</td>\n",
       "    </tr>\n",
       "    <tr>\n",
       "      <th>5</th>\n",
       "      <th>50000</th>\n",
       "      <td>0.081889</td>\n",
       "      <td>0.003750</td>\n",
       "    </tr>\n",
       "    <tr>\n",
       "      <th>10</th>\n",
       "      <th>100000</th>\n",
       "      <td>0.123991</td>\n",
       "      <td>0.004046</td>\n",
       "    </tr>\n",
       "    <tr>\n",
       "      <th>20</th>\n",
       "      <th>200000</th>\n",
       "      <td>0.206104</td>\n",
       "      <td>0.011569</td>\n",
       "    </tr>\n",
       "    <tr>\n",
       "      <th>50</th>\n",
       "      <th>500000</th>\n",
       "      <td>0.432114</td>\n",
       "      <td>0.020143</td>\n",
       "    </tr>\n",
       "    <tr>\n",
       "      <th>...</th>\n",
       "      <th>...</th>\n",
       "      <th>...</th>\n",
       "      <th>...</th>\n",
       "      <td>...</td>\n",
       "      <td>...</td>\n",
       "    </tr>\n",
       "    <tr>\n",
       "      <th rowspan=\"5\" valign=\"top\">time_streamset_raw_values</th>\n",
       "      <th rowspan=\"5\" valign=\"top\">1000000</th>\n",
       "      <th>5</th>\n",
       "      <th>5000000</th>\n",
       "      <td>4.595754</td>\n",
       "      <td>1.343167</td>\n",
       "    </tr>\n",
       "    <tr>\n",
       "      <th>10</th>\n",
       "      <th>10000000</th>\n",
       "      <td>9.744991</td>\n",
       "      <td>2.344092</td>\n",
       "    </tr>\n",
       "    <tr>\n",
       "      <th>20</th>\n",
       "      <th>20000000</th>\n",
       "      <td>24.537701</td>\n",
       "      <td>6.247613</td>\n",
       "    </tr>\n",
       "    <tr>\n",
       "      <th>50</th>\n",
       "      <th>50000000</th>\n",
       "      <td>91.300214</td>\n",
       "      <td>22.189175</td>\n",
       "    </tr>\n",
       "    <tr>\n",
       "      <th>100</th>\n",
       "      <th>100000000</th>\n",
       "      <td>264.278032</td>\n",
       "      <td>32.772801</td>\n",
       "    </tr>\n",
       "  </tbody>\n",
       "</table>\n",
       "<p>78 rows × 2 columns</p>\n",
       "</div>"
      ],
      "text/plain": [
       "                                                                                         mean  \\\n",
       "func_name                                         n_points n_streams total_points               \n",
       "time_streamset_arrow_multistream_raw_values_no... 10000    1         10000           0.054268   \n",
       "                                                           5         50000           0.081889   \n",
       "                                                           10        100000          0.123991   \n",
       "                                                           20        200000          0.206104   \n",
       "                                                           50        500000          0.432114   \n",
       "...                                                                                       ...   \n",
       "time_streamset_raw_values                         1000000  5         5000000         4.595754   \n",
       "                                                           10        10000000        9.744991   \n",
       "                                                           20        20000000       24.537701   \n",
       "                                                           50        50000000       91.300214   \n",
       "                                                           100       100000000     264.278032   \n",
       "\n",
       "                                                                                         std  \n",
       "func_name                                         n_points n_streams total_points             \n",
       "time_streamset_arrow_multistream_raw_values_no... 10000    1         10000          0.003087  \n",
       "                                                           5         50000          0.003750  \n",
       "                                                           10        100000         0.004046  \n",
       "                                                           20        200000         0.011569  \n",
       "                                                           50        500000         0.020143  \n",
       "...                                                                                      ...  \n",
       "time_streamset_raw_values                         1000000  5         5000000        1.343167  \n",
       "                                                           10        10000000       2.344092  \n",
       "                                                           20        20000000       6.247613  \n",
       "                                                           50        50000000      22.189175  \n",
       "                                                           100       100000000     32.772801  \n",
       "\n",
       "[78 rows x 2 columns]"
      ]
     },
     "execution_count": 134,
     "metadata": {},
     "output_type": "execute_result"
    }
   ],
   "source": [
    "streamset_avg_time_raw"
   ]
  },
  {
   "cell_type": "code",
   "execution_count": 135,
   "id": "c9f2c465-b5d3-4167-b90d-4e3bf2b276a7",
   "metadata": {
    "tags": []
   },
   "outputs": [],
   "source": [
    "streamset_avg_time_raw = streamset_avg_time_raw.reset_index()"
   ]
  },
  {
   "cell_type": "markdown",
   "id": "54629f11-eb99-47e5-ac44-a22a80b90c26",
   "metadata": {},
   "source": [
    "Function for aggregate points per second: $$f(t)_{pps}=n_{points}t^{-1}$$\n",
    "\n",
    "This function can be represented as $$f=aA^{b}$$\n",
    "Where $$a=n_{points}$$ $$A=t$$ (where $t$ has uncertainity in the measurement), $$b=-1$$\n",
    "\n",
    "Referring to [this wiki link for error propagation](https://en.wikipedia.org/wiki/Propagation_of_uncertainty#Example_formulae)\n",
    "\n",
    "$$\\sigma_{f} = \\left\\lvert{\\frac{fb\\sigma_{A}}{A}}\\right\\rvert$$"
   ]
  },
  {
   "cell_type": "code",
   "execution_count": 178,
   "id": "a31594bd-afab-420c-bf2b-c642af4f3789",
   "metadata": {
    "tags": []
   },
   "outputs": [],
   "source": [
    "streamset_avg_time_raw[\"pps\"] = (\n",
    "    streamset_avg_time_raw[\"total_points\"] / streamset_avg_time_raw[\"mean\"]\n",
    ")\n",
    "streamset_avg_time_raw[\"pps_err\"] = (\n",
    "    streamset_avg_time_raw[\"pps\"]\n",
    "    * streamset_avg_time_raw[\"std\"]\n",
    "    / streamset_avg_time_raw[\"mean\"]\n",
    ")"
   ]
  },
  {
   "cell_type": "code",
   "execution_count": 179,
   "id": "9339ae99-af2e-49f9-8d9d-79d45fc7aeef",
   "metadata": {
    "tags": []
   },
   "outputs": [
    {
     "data": {
      "text/html": [
       "<div>\n",
       "<style scoped>\n",
       "    .dataframe tbody tr th:only-of-type {\n",
       "        vertical-align: middle;\n",
       "    }\n",
       "\n",
       "    .dataframe tbody tr th {\n",
       "        vertical-align: top;\n",
       "    }\n",
       "\n",
       "    .dataframe thead th {\n",
       "        text-align: right;\n",
       "    }\n",
       "</style>\n",
       "<table border=\"1\" class=\"dataframe\">\n",
       "  <thead>\n",
       "    <tr style=\"text-align: right;\">\n",
       "      <th></th>\n",
       "      <th>func_name</th>\n",
       "      <th>n_points</th>\n",
       "      <th>n_streams</th>\n",
       "      <th>total_points</th>\n",
       "      <th>mean</th>\n",
       "      <th>std</th>\n",
       "      <th>pps</th>\n",
       "      <th>pps_err</th>\n",
       "    </tr>\n",
       "  </thead>\n",
       "  <tbody>\n",
       "    <tr>\n",
       "      <th>0</th>\n",
       "      <td>time_streamset_arrow_multistream_raw_values_no...</td>\n",
       "      <td>10000</td>\n",
       "      <td>1</td>\n",
       "      <td>10000</td>\n",
       "      <td>0.054268</td>\n",
       "      <td>0.003087</td>\n",
       "      <td>1.842703e+05</td>\n",
       "      <td>10481.749560</td>\n",
       "    </tr>\n",
       "    <tr>\n",
       "      <th>1</th>\n",
       "      <td>time_streamset_arrow_multistream_raw_values_no...</td>\n",
       "      <td>10000</td>\n",
       "      <td>5</td>\n",
       "      <td>50000</td>\n",
       "      <td>0.081889</td>\n",
       "      <td>0.003750</td>\n",
       "      <td>6.105821e+05</td>\n",
       "      <td>27957.513675</td>\n",
       "    </tr>\n",
       "    <tr>\n",
       "      <th>2</th>\n",
       "      <td>time_streamset_arrow_multistream_raw_values_no...</td>\n",
       "      <td>10000</td>\n",
       "      <td>10</td>\n",
       "      <td>100000</td>\n",
       "      <td>0.123991</td>\n",
       "      <td>0.004046</td>\n",
       "      <td>8.065094e+05</td>\n",
       "      <td>26315.932495</td>\n",
       "    </tr>\n",
       "    <tr>\n",
       "      <th>3</th>\n",
       "      <td>time_streamset_arrow_multistream_raw_values_no...</td>\n",
       "      <td>10000</td>\n",
       "      <td>20</td>\n",
       "      <td>200000</td>\n",
       "      <td>0.206104</td>\n",
       "      <td>0.011569</td>\n",
       "      <td>9.703856e+05</td>\n",
       "      <td>54469.822534</td>\n",
       "    </tr>\n",
       "    <tr>\n",
       "      <th>4</th>\n",
       "      <td>time_streamset_arrow_multistream_raw_values_no...</td>\n",
       "      <td>10000</td>\n",
       "      <td>50</td>\n",
       "      <td>500000</td>\n",
       "      <td>0.432114</td>\n",
       "      <td>0.020143</td>\n",
       "      <td>1.157101e+06</td>\n",
       "      <td>53937.014069</td>\n",
       "    </tr>\n",
       "    <tr>\n",
       "      <th>...</th>\n",
       "      <td>...</td>\n",
       "      <td>...</td>\n",
       "      <td>...</td>\n",
       "      <td>...</td>\n",
       "      <td>...</td>\n",
       "      <td>...</td>\n",
       "      <td>...</td>\n",
       "      <td>...</td>\n",
       "    </tr>\n",
       "    <tr>\n",
       "      <th>73</th>\n",
       "      <td>time_streamset_raw_values</td>\n",
       "      <td>1000000</td>\n",
       "      <td>5</td>\n",
       "      <td>5000000</td>\n",
       "      <td>4.595754</td>\n",
       "      <td>1.343167</td>\n",
       "      <td>1.087961e+06</td>\n",
       "      <td>317970.329572</td>\n",
       "    </tr>\n",
       "    <tr>\n",
       "      <th>74</th>\n",
       "      <td>time_streamset_raw_values</td>\n",
       "      <td>1000000</td>\n",
       "      <td>10</td>\n",
       "      <td>10000000</td>\n",
       "      <td>9.744991</td>\n",
       "      <td>2.344092</td>\n",
       "      <td>1.026168e+06</td>\n",
       "      <td>246837.898458</td>\n",
       "    </tr>\n",
       "    <tr>\n",
       "      <th>75</th>\n",
       "      <td>time_streamset_raw_values</td>\n",
       "      <td>1000000</td>\n",
       "      <td>20</td>\n",
       "      <td>20000000</td>\n",
       "      <td>24.537701</td>\n",
       "      <td>6.247613</td>\n",
       "      <td>8.150723e+05</td>\n",
       "      <td>207527.854237</td>\n",
       "    </tr>\n",
       "    <tr>\n",
       "      <th>76</th>\n",
       "      <td>time_streamset_raw_values</td>\n",
       "      <td>1000000</td>\n",
       "      <td>50</td>\n",
       "      <td>50000000</td>\n",
       "      <td>91.300214</td>\n",
       "      <td>22.189175</td>\n",
       "      <td>5.476438e+05</td>\n",
       "      <td>133096.784450</td>\n",
       "    </tr>\n",
       "    <tr>\n",
       "      <th>77</th>\n",
       "      <td>time_streamset_raw_values</td>\n",
       "      <td>1000000</td>\n",
       "      <td>100</td>\n",
       "      <td>100000000</td>\n",
       "      <td>264.278032</td>\n",
       "      <td>32.772801</td>\n",
       "      <td>3.783894e+05</td>\n",
       "      <td>46923.612377</td>\n",
       "    </tr>\n",
       "  </tbody>\n",
       "</table>\n",
       "<p>78 rows × 8 columns</p>\n",
       "</div>"
      ],
      "text/plain": [
       "                                            func_name  n_points  n_streams  \\\n",
       "0   time_streamset_arrow_multistream_raw_values_no...     10000          1   \n",
       "1   time_streamset_arrow_multistream_raw_values_no...     10000          5   \n",
       "2   time_streamset_arrow_multistream_raw_values_no...     10000         10   \n",
       "3   time_streamset_arrow_multistream_raw_values_no...     10000         20   \n",
       "4   time_streamset_arrow_multistream_raw_values_no...     10000         50   \n",
       "..                                                ...       ...        ...   \n",
       "73                          time_streamset_raw_values   1000000          5   \n",
       "74                          time_streamset_raw_values   1000000         10   \n",
       "75                          time_streamset_raw_values   1000000         20   \n",
       "76                          time_streamset_raw_values   1000000         50   \n",
       "77                          time_streamset_raw_values   1000000        100   \n",
       "\n",
       "    total_points        mean        std           pps        pps_err  \n",
       "0          10000    0.054268   0.003087  1.842703e+05   10481.749560  \n",
       "1          50000    0.081889   0.003750  6.105821e+05   27957.513675  \n",
       "2         100000    0.123991   0.004046  8.065094e+05   26315.932495  \n",
       "3         200000    0.206104   0.011569  9.703856e+05   54469.822534  \n",
       "4         500000    0.432114   0.020143  1.157101e+06   53937.014069  \n",
       "..           ...         ...        ...           ...            ...  \n",
       "73       5000000    4.595754   1.343167  1.087961e+06  317970.329572  \n",
       "74      10000000    9.744991   2.344092  1.026168e+06  246837.898458  \n",
       "75      20000000   24.537701   6.247613  8.150723e+05  207527.854237  \n",
       "76      50000000   91.300214  22.189175  5.476438e+05  133096.784450  \n",
       "77     100000000  264.278032  32.772801  3.783894e+05   46923.612377  \n",
       "\n",
       "[78 rows x 8 columns]"
      ]
     },
     "execution_count": 179,
     "metadata": {},
     "output_type": "execute_result"
    }
   ],
   "source": [
    "streamset_avg_time_raw"
   ]
  },
  {
   "cell_type": "code",
   "execution_count": 149,
   "id": "2e4b870b-1058-42bd-b4d4-a86feb217458",
   "metadata": {
    "tags": []
   },
   "outputs": [],
   "source": [
    "fig = px.scatter_3d(\n",
    "    data_frame=streamset_avg_time_raw,\n",
    "    x=\"total_points\",\n",
    "    y=\"pps\",\n",
    "    z=\"n_streams\",\n",
    "    color=\"func_name\",\n",
    "    title=\"StreamSet Raw Values\",\n",
    ")\n",
    "fig.write_html(\"streamset_raw_value_reads.html\")"
   ]
  },
  {
   "cell_type": "code",
   "execution_count": 180,
   "id": "4a0bb1bf-e58f-4f05-a1b2-dd28dc6ff547",
   "metadata": {
    "tags": []
   },
   "outputs": [
    {
     "data": {
      "application/vnd.plotly.v1+json": {
       "config": {
        "plotlyServerURL": "https://plot.ly"
       },
       "data": [
        {
         "error_y": {
          "array": [
           10481.749559914591,
           27957.51367511544,
           26315.93249545861,
           54469.82253427963,
           53937.0140686961,
           26834.681025921334
          ]
         },
         "hovertemplate": "func_name=time_streamset_arrow_multistream_raw_values_non_timesnapped<br>n_points=10000<br>n_streams=%{x}<br>pps=%{y}<extra></extra>",
         "legendgroup": "time_streamset_arrow_multistream_raw_values_non_timesnapped",
         "marker": {
          "color": "#636efa",
          "symbol": "circle"
         },
         "mode": "markers",
         "name": "time_streamset_arrow_multistream_raw_values_non_timesnapped",
         "orientation": "v",
         "showlegend": true,
         "type": "scatter",
         "x": [
          1,
          5,
          10,
          20,
          50,
          100
         ],
         "xaxis": "x",
         "y": [
          184270.28867668926,
          610582.1198474104,
          806509.3915212203,
          970385.5713043435,
          1157101.3471414337,
          1271077.5510163812
         ],
         "yaxis": "y"
        },
        {
         "error_y": {
          "array": [
           9690.434027887104,
           39079.52020828477,
           111768.51314357757,
           107934.44666132054,
           23514.89190128789,
           45914.892286068716
          ]
         },
         "hovertemplate": "func_name=time_streamset_arrow_multistream_raw_values_timesnapped<br>n_points=10000<br>n_streams=%{x}<br>pps=%{y}<extra></extra>",
         "legendgroup": "time_streamset_arrow_multistream_raw_values_timesnapped",
         "marker": {
          "color": "#EF553B",
          "symbol": "circle"
         },
         "mode": "markers",
         "name": "time_streamset_arrow_multistream_raw_values_timesnapped",
         "orientation": "v",
         "showlegend": true,
         "type": "scatter",
         "x": [
          1,
          5,
          10,
          20,
          50,
          100
         ],
         "xaxis": "x",
         "y": [
          182461.35744313477,
          609372.5777876324,
          795332.8279336349,
          939955.0818909779,
          1252382.501168759,
          1364162.077221833
         ],
         "yaxis": "y"
        },
        {
         "error_y": {
          "array": [
           80481.97345169925,
           187344.223787949,
           76396.80436431126,
           47800.52898697173,
           63136.22323428577,
           85797.8389833992
          ]
         },
         "hovertemplate": "func_name=time_streamset_arrow_raw_values<br>n_points=10000<br>n_streams=%{x}<br>pps=%{y}<extra></extra>",
         "legendgroup": "time_streamset_arrow_raw_values",
         "marker": {
          "color": "#00cc96",
          "symbol": "circle"
         },
         "mode": "markers",
         "name": "time_streamset_arrow_raw_values",
         "orientation": "v",
         "showlegend": true,
         "type": "scatter",
         "x": [
          1,
          5,
          10,
          20,
          50,
          100
         ],
         "xaxis": "x",
         "y": [
          130399.03246847635,
          514482.5452625127,
          772238.2941963992,
          942411.7451020037,
          1193163.444535994,
          1214052.520757249
         ],
         "yaxis": "y"
        },
        {
         "error_y": {
          "array": [
           19285.40012208422,
           17961.136774891795,
           60422.07858691694,
           37126.7638942876,
           60768.06663344618,
           30078.048168860125
          ]
         },
         "hovertemplate": "func_name=time_streamset_raw_values<br>n_points=10000<br>n_streams=%{x}<br>pps=%{y}<extra></extra>",
         "legendgroup": "time_streamset_raw_values",
         "marker": {
          "color": "#ab63fa",
          "symbol": "circle"
         },
         "mode": "markers",
         "name": "time_streamset_raw_values",
         "orientation": "v",
         "showlegend": true,
         "type": "scatter",
         "x": [
          1,
          5,
          10,
          20,
          50,
          100
         ],
         "xaxis": "x",
         "y": [
          116909.78227001581,
          360213.7000284344,
          532186.4360829137,
          681328.2645213604,
          782945.2808385317,
          806387.9853799735
         ],
         "yaxis": "y"
        }
       ],
       "frames": [
        {
         "data": [
          {
           "error_y": {
            "array": [
             10481.749559914591,
             27957.51367511544,
             26315.93249545861,
             54469.82253427963,
             53937.0140686961,
             26834.681025921334
            ]
           },
           "hovertemplate": "func_name=time_streamset_arrow_multistream_raw_values_non_timesnapped<br>n_points=10000<br>n_streams=%{x}<br>pps=%{y}<extra></extra>",
           "legendgroup": "time_streamset_arrow_multistream_raw_values_non_timesnapped",
           "marker": {
            "color": "#636efa",
            "symbol": "circle"
           },
           "mode": "markers",
           "name": "time_streamset_arrow_multistream_raw_values_non_timesnapped",
           "orientation": "v",
           "showlegend": true,
           "type": "scatter",
           "x": [
            1,
            5,
            10,
            20,
            50,
            100
           ],
           "xaxis": "x",
           "y": [
            184270.28867668926,
            610582.1198474104,
            806509.3915212203,
            970385.5713043435,
            1157101.3471414337,
            1271077.5510163812
           ],
           "yaxis": "y"
          },
          {
           "error_y": {
            "array": [
             9690.434027887104,
             39079.52020828477,
             111768.51314357757,
             107934.44666132054,
             23514.89190128789,
             45914.892286068716
            ]
           },
           "hovertemplate": "func_name=time_streamset_arrow_multistream_raw_values_timesnapped<br>n_points=10000<br>n_streams=%{x}<br>pps=%{y}<extra></extra>",
           "legendgroup": "time_streamset_arrow_multistream_raw_values_timesnapped",
           "marker": {
            "color": "#EF553B",
            "symbol": "circle"
           },
           "mode": "markers",
           "name": "time_streamset_arrow_multistream_raw_values_timesnapped",
           "orientation": "v",
           "showlegend": true,
           "type": "scatter",
           "x": [
            1,
            5,
            10,
            20,
            50,
            100
           ],
           "xaxis": "x",
           "y": [
            182461.35744313477,
            609372.5777876324,
            795332.8279336349,
            939955.0818909779,
            1252382.501168759,
            1364162.077221833
           ],
           "yaxis": "y"
          },
          {
           "error_y": {
            "array": [
             80481.97345169925,
             187344.223787949,
             76396.80436431126,
             47800.52898697173,
             63136.22323428577,
             85797.8389833992
            ]
           },
           "hovertemplate": "func_name=time_streamset_arrow_raw_values<br>n_points=10000<br>n_streams=%{x}<br>pps=%{y}<extra></extra>",
           "legendgroup": "time_streamset_arrow_raw_values",
           "marker": {
            "color": "#00cc96",
            "symbol": "circle"
           },
           "mode": "markers",
           "name": "time_streamset_arrow_raw_values",
           "orientation": "v",
           "showlegend": true,
           "type": "scatter",
           "x": [
            1,
            5,
            10,
            20,
            50,
            100
           ],
           "xaxis": "x",
           "y": [
            130399.03246847635,
            514482.5452625127,
            772238.2941963992,
            942411.7451020037,
            1193163.444535994,
            1214052.520757249
           ],
           "yaxis": "y"
          },
          {
           "error_y": {
            "array": [
             19285.40012208422,
             17961.136774891795,
             60422.07858691694,
             37126.7638942876,
             60768.06663344618,
             30078.048168860125
            ]
           },
           "hovertemplate": "func_name=time_streamset_raw_values<br>n_points=10000<br>n_streams=%{x}<br>pps=%{y}<extra></extra>",
           "legendgroup": "time_streamset_raw_values",
           "marker": {
            "color": "#ab63fa",
            "symbol": "circle"
           },
           "mode": "markers",
           "name": "time_streamset_raw_values",
           "orientation": "v",
           "showlegend": true,
           "type": "scatter",
           "x": [
            1,
            5,
            10,
            20,
            50,
            100
           ],
           "xaxis": "x",
           "y": [
            116909.78227001581,
            360213.7000284344,
            532186.4360829137,
            681328.2645213604,
            782945.2808385317,
            806387.9853799735
           ],
           "yaxis": "y"
          }
         ],
         "name": "10000"
        },
        {
         "data": [
          {
           "error_y": {
            "array": [
             38088.85215960955,
             202941.3191181111,
             209349.00576637755,
             231648.87448708428,
             165016.1489393306,
             93976.22517559375
            ]
           },
           "hovertemplate": "func_name=time_streamset_arrow_multistream_raw_values_non_timesnapped<br>n_points=100000<br>n_streams=%{x}<br>pps=%{y}<extra></extra>",
           "legendgroup": "time_streamset_arrow_multistream_raw_values_non_timesnapped",
           "marker": {
            "color": "#636efa",
            "symbol": "circle"
           },
           "mode": "markers",
           "name": "time_streamset_arrow_multistream_raw_values_non_timesnapped",
           "orientation": "v",
           "showlegend": true,
           "type": "scatter",
           "x": [
            1,
            5,
            10,
            20,
            50,
            100
           ],
           "xaxis": "x",
           "y": [
            768415.2146880098,
            1154761.747207087,
            1208459.1899656865,
            1231639.2479979156,
            1265085.8430315482,
            1138668.5084289678
           ],
           "yaxis": "y"
          },
          {
           "error_y": {
            "array": [
             12578.683387227042,
             216367.10392544788,
             192405.91241568877,
             244429.0281717844,
             279194.40090967563,
             266535.3842669117
            ]
           },
           "hovertemplate": "func_name=time_streamset_arrow_multistream_raw_values_timesnapped<br>n_points=100000<br>n_streams=%{x}<br>pps=%{y}<extra></extra>",
           "legendgroup": "time_streamset_arrow_multistream_raw_values_timesnapped",
           "marker": {
            "color": "#EF553B",
            "symbol": "circle"
           },
           "mode": "markers",
           "name": "time_streamset_arrow_multistream_raw_values_timesnapped",
           "orientation": "v",
           "showlegend": true,
           "type": "scatter",
           "x": [
            1,
            5,
            10,
            20,
            50,
            100
           ],
           "xaxis": "x",
           "y": [
            781340.6977554917,
            1146307.2436484282,
            1194369.2892146276,
            1269985.0200514405,
            1324642.2202934914,
            1314718.8442260746
           ],
           "yaxis": "y"
          },
          {
           "error_y": {
            "array": [
             172534.85442283913,
             584024.8839468141,
             645271.6310257879,
             545996.824088395,
             432874.2771094783,
             360226.0279400478
            ]
           },
           "hovertemplate": "func_name=time_streamset_arrow_raw_values<br>n_points=100000<br>n_streams=%{x}<br>pps=%{y}<extra></extra>",
           "legendgroup": "time_streamset_arrow_raw_values",
           "marker": {
            "color": "#00cc96",
            "symbol": "circle"
           },
           "mode": "markers",
           "name": "time_streamset_arrow_raw_values",
           "orientation": "v",
           "showlegend": true,
           "type": "scatter",
           "x": [
            1,
            5,
            10,
            20,
            50,
            100
           ],
           "xaxis": "x",
           "y": [
            690023.5458907208,
            1077018.1205758315,
            1174869.3745455204,
            1198955.7230569008,
            1197175.5258947248,
            1281986.791718487
           ],
           "yaxis": "y"
          },
          {
           "error_y": {
            "array": [
             8898.42470207713,
             181695.24073778812,
             223177.28678549506,
             88781.99216991299,
             60490.78339021316,
             66063.17496856528
            ]
           },
           "hovertemplate": "func_name=time_streamset_raw_values<br>n_points=100000<br>n_streams=%{x}<br>pps=%{y}<extra></extra>",
           "legendgroup": "time_streamset_raw_values",
           "marker": {
            "color": "#ab63fa",
            "symbol": "circle"
           },
           "mode": "markers",
           "name": "time_streamset_raw_values",
           "orientation": "v",
           "showlegend": true,
           "type": "scatter",
           "x": [
            1,
            5,
            10,
            20,
            50,
            100
           ],
           "xaxis": "x",
           "y": [
            465579.5315664503,
            1093393.6993385137,
            1059857.0333397535,
            993916.3086449571,
            990485.3138836045,
            1040311.388326461
           ],
           "yaxis": "y"
          }
         ],
         "name": "100000"
        },
        {
         "data": [
          {
           "error_y": {
            "array": [
             115709.5905406329,
             299281.2780474494,
             410328.7567236421,
             567063.9944903117,
             129329.68919403476,
             138784.25203920508
            ]
           },
           "hovertemplate": "func_name=time_streamset_arrow_multistream_raw_values_non_timesnapped<br>n_points=1000000<br>n_streams=%{x}<br>pps=%{y}<extra></extra>",
           "legendgroup": "time_streamset_arrow_multistream_raw_values_non_timesnapped",
           "marker": {
            "color": "#636efa",
            "symbol": "circle"
           },
           "mode": "markers",
           "name": "time_streamset_arrow_multistream_raw_values_non_timesnapped",
           "orientation": "v",
           "showlegend": true,
           "type": "scatter",
           "x": [
            1,
            5,
            10,
            20,
            50,
            100
           ],
           "xaxis": "x",
           "y": [
            1014484.2652147824,
            1127755.0759795196,
            1203263.7506180666,
            1765596.0257437949,
            1458267.2176329936,
            1461009.5919578897
           ],
           "yaxis": "y"
          },
          {
           "error_y": {
            "array": [
             22144.781135516747,
             602621.9926776766,
             617764.5252840894,
             191988.679070051,
             182677.96826202882,
             134317.7845148096
            ]
           },
           "hovertemplate": "func_name=time_streamset_arrow_multistream_raw_values_timesnapped<br>n_points=1000000<br>n_streams=%{x}<br>pps=%{y}<extra></extra>",
           "legendgroup": "time_streamset_arrow_multistream_raw_values_timesnapped",
           "marker": {
            "color": "#EF553B",
            "symbol": "circle"
           },
           "mode": "markers",
           "name": "time_streamset_arrow_multistream_raw_values_timesnapped",
           "orientation": "v",
           "showlegend": true,
           "type": "scatter",
           "x": [
            1,
            5,
            10,
            20,
            50,
            100
           ],
           "xaxis": "x",
           "y": [
            1150072.8423437253,
            1478788.1518706249,
            1593420.0272200664,
            1807466.788113111,
            1444374.231086196,
            1476603.0593328346
           ],
           "yaxis": "y"
          },
          {
           "error_y": {
            "array": [
             1220.0200114746526,
             267087.6934450773,
             757579.0368477248,
             585965.6411622085,
             319514.3054103513,
             223992.0869847008
            ]
           },
           "hovertemplate": "func_name=time_streamset_arrow_raw_values<br>n_points=1000000<br>n_streams=%{x}<br>pps=%{y}<extra></extra>",
           "legendgroup": "time_streamset_arrow_raw_values",
           "marker": {
            "color": "#00cc96",
            "symbol": "circle"
           },
           "mode": "markers",
           "name": "time_streamset_arrow_raw_values",
           "orientation": "v",
           "showlegend": true,
           "type": "scatter",
           "x": [
            1,
            5,
            10,
            20,
            50,
            100
           ],
           "xaxis": "x",
           "y": [
            1162858.348522485,
            2157130.256181785,
            2178694.054249683,
            2055020.1278653955,
            1949077.625865497,
            1787692.4281474187
           ],
           "yaxis": "y"
          },
          {
           "error_y": {
            "array": [
             6195.028061970597,
             317970.3295715948,
             246837.89845813334,
             207527.8542370307,
             133096.78445032414,
             46923.61237693172
            ]
           },
           "hovertemplate": "func_name=time_streamset_raw_values<br>n_points=1000000<br>n_streams=%{x}<br>pps=%{y}<extra></extra>",
           "legendgroup": "time_streamset_raw_values",
           "marker": {
            "color": "#ab63fa",
            "symbol": "circle"
           },
           "mode": "markers",
           "name": "time_streamset_raw_values",
           "orientation": "v",
           "showlegend": true,
           "type": "scatter",
           "x": [
            1,
            5,
            10,
            20,
            50,
            100
           ],
           "xaxis": "x",
           "y": [
            592470.0638844054,
            1087960.837688588,
            1026168.2024307441,
            815072.2749461076,
            547643.8398723003,
            378389.3779067563
           ],
           "yaxis": "y"
          }
         ],
         "name": "1000000"
        },
        {
         "data": [
          {
           "error_y": {
            "array": [
             null,
             null,
             null,
             null,
             null,
             null
            ]
           },
           "hovertemplate": "func_name=time_streamset_arrow_raw_values<br>n_points=3000000<br>n_streams=%{x}<br>pps=%{y}<extra></extra>",
           "legendgroup": "time_streamset_arrow_raw_values",
           "marker": {
            "color": "#00cc96",
            "symbol": "circle"
           },
           "mode": "markers",
           "name": "time_streamset_arrow_raw_values",
           "orientation": "v",
           "showlegend": true,
           "type": "scatter",
           "x": [
            1,
            5,
            10,
            20,
            50,
            100
           ],
           "xaxis": "x",
           "y": [
            1185010.34489701,
            1218479.0367930173,
            946052.8428403229,
            1012486.1065709557,
            926943.2860997599,
            803384.4850056279
           ],
           "yaxis": "y"
          }
         ],
         "name": "3000000"
        }
       ],
       "layout": {
        "autosize": true,
        "legend": {
         "title": {
          "text": "func_name"
         },
         "tracegroupgap": 0
        },
        "margin": {
         "t": 60
        },
        "sliders": [
         {
          "active": 0,
          "currentvalue": {
           "prefix": "n_points="
          },
          "len": 0.9,
          "pad": {
           "b": 10,
           "t": 60
          },
          "steps": [
           {
            "args": [
             [
              "10000"
             ],
             {
              "frame": {
               "duration": 0,
               "redraw": false
              },
              "fromcurrent": true,
              "mode": "immediate",
              "transition": {
               "duration": 0,
               "easing": "linear"
              }
             }
            ],
            "label": "10000",
            "method": "animate"
           },
           {
            "args": [
             [
              "100000"
             ],
             {
              "frame": {
               "duration": 0,
               "redraw": false
              },
              "fromcurrent": true,
              "mode": "immediate",
              "transition": {
               "duration": 0,
               "easing": "linear"
              }
             }
            ],
            "label": "100000",
            "method": "animate"
           },
           {
            "args": [
             [
              "1000000"
             ],
             {
              "frame": {
               "duration": 0,
               "redraw": false
              },
              "fromcurrent": true,
              "mode": "immediate",
              "transition": {
               "duration": 0,
               "easing": "linear"
              }
             }
            ],
            "label": "1000000",
            "method": "animate"
           },
           {
            "args": [
             [
              "3000000"
             ],
             {
              "frame": {
               "duration": 0,
               "redraw": false
              },
              "fromcurrent": true,
              "mode": "immediate",
              "transition": {
               "duration": 0,
               "easing": "linear"
              }
             }
            ],
            "label": "3000000",
            "method": "animate"
           }
          ],
          "x": 0.1,
          "xanchor": "left",
          "y": 0,
          "yanchor": "top"
         }
        ],
        "template": {
         "data": {
          "bar": [
           {
            "error_x": {
             "color": "#2a3f5f"
            },
            "error_y": {
             "color": "#2a3f5f"
            },
            "marker": {
             "line": {
              "color": "#E5ECF6",
              "width": 0.5
             },
             "pattern": {
              "fillmode": "overlay",
              "size": 10,
              "solidity": 0.2
             }
            },
            "type": "bar"
           }
          ],
          "barpolar": [
           {
            "marker": {
             "line": {
              "color": "#E5ECF6",
              "width": 0.5
             },
             "pattern": {
              "fillmode": "overlay",
              "size": 10,
              "solidity": 0.2
             }
            },
            "type": "barpolar"
           }
          ],
          "carpet": [
           {
            "aaxis": {
             "endlinecolor": "#2a3f5f",
             "gridcolor": "white",
             "linecolor": "white",
             "minorgridcolor": "white",
             "startlinecolor": "#2a3f5f"
            },
            "baxis": {
             "endlinecolor": "#2a3f5f",
             "gridcolor": "white",
             "linecolor": "white",
             "minorgridcolor": "white",
             "startlinecolor": "#2a3f5f"
            },
            "type": "carpet"
           }
          ],
          "choropleth": [
           {
            "colorbar": {
             "outlinewidth": 0,
             "ticks": ""
            },
            "type": "choropleth"
           }
          ],
          "contour": [
           {
            "colorbar": {
             "outlinewidth": 0,
             "ticks": ""
            },
            "colorscale": [
             [
              0,
              "#0d0887"
             ],
             [
              0.1111111111111111,
              "#46039f"
             ],
             [
              0.2222222222222222,
              "#7201a8"
             ],
             [
              0.3333333333333333,
              "#9c179e"
             ],
             [
              0.4444444444444444,
              "#bd3786"
             ],
             [
              0.5555555555555556,
              "#d8576b"
             ],
             [
              0.6666666666666666,
              "#ed7953"
             ],
             [
              0.7777777777777778,
              "#fb9f3a"
             ],
             [
              0.8888888888888888,
              "#fdca26"
             ],
             [
              1,
              "#f0f921"
             ]
            ],
            "type": "contour"
           }
          ],
          "contourcarpet": [
           {
            "colorbar": {
             "outlinewidth": 0,
             "ticks": ""
            },
            "type": "contourcarpet"
           }
          ],
          "heatmap": [
           {
            "colorbar": {
             "outlinewidth": 0,
             "ticks": ""
            },
            "colorscale": [
             [
              0,
              "#0d0887"
             ],
             [
              0.1111111111111111,
              "#46039f"
             ],
             [
              0.2222222222222222,
              "#7201a8"
             ],
             [
              0.3333333333333333,
              "#9c179e"
             ],
             [
              0.4444444444444444,
              "#bd3786"
             ],
             [
              0.5555555555555556,
              "#d8576b"
             ],
             [
              0.6666666666666666,
              "#ed7953"
             ],
             [
              0.7777777777777778,
              "#fb9f3a"
             ],
             [
              0.8888888888888888,
              "#fdca26"
             ],
             [
              1,
              "#f0f921"
             ]
            ],
            "type": "heatmap"
           }
          ],
          "heatmapgl": [
           {
            "colorbar": {
             "outlinewidth": 0,
             "ticks": ""
            },
            "colorscale": [
             [
              0,
              "#0d0887"
             ],
             [
              0.1111111111111111,
              "#46039f"
             ],
             [
              0.2222222222222222,
              "#7201a8"
             ],
             [
              0.3333333333333333,
              "#9c179e"
             ],
             [
              0.4444444444444444,
              "#bd3786"
             ],
             [
              0.5555555555555556,
              "#d8576b"
             ],
             [
              0.6666666666666666,
              "#ed7953"
             ],
             [
              0.7777777777777778,
              "#fb9f3a"
             ],
             [
              0.8888888888888888,
              "#fdca26"
             ],
             [
              1,
              "#f0f921"
             ]
            ],
            "type": "heatmapgl"
           }
          ],
          "histogram": [
           {
            "marker": {
             "pattern": {
              "fillmode": "overlay",
              "size": 10,
              "solidity": 0.2
             }
            },
            "type": "histogram"
           }
          ],
          "histogram2d": [
           {
            "colorbar": {
             "outlinewidth": 0,
             "ticks": ""
            },
            "colorscale": [
             [
              0,
              "#0d0887"
             ],
             [
              0.1111111111111111,
              "#46039f"
             ],
             [
              0.2222222222222222,
              "#7201a8"
             ],
             [
              0.3333333333333333,
              "#9c179e"
             ],
             [
              0.4444444444444444,
              "#bd3786"
             ],
             [
              0.5555555555555556,
              "#d8576b"
             ],
             [
              0.6666666666666666,
              "#ed7953"
             ],
             [
              0.7777777777777778,
              "#fb9f3a"
             ],
             [
              0.8888888888888888,
              "#fdca26"
             ],
             [
              1,
              "#f0f921"
             ]
            ],
            "type": "histogram2d"
           }
          ],
          "histogram2dcontour": [
           {
            "colorbar": {
             "outlinewidth": 0,
             "ticks": ""
            },
            "colorscale": [
             [
              0,
              "#0d0887"
             ],
             [
              0.1111111111111111,
              "#46039f"
             ],
             [
              0.2222222222222222,
              "#7201a8"
             ],
             [
              0.3333333333333333,
              "#9c179e"
             ],
             [
              0.4444444444444444,
              "#bd3786"
             ],
             [
              0.5555555555555556,
              "#d8576b"
             ],
             [
              0.6666666666666666,
              "#ed7953"
             ],
             [
              0.7777777777777778,
              "#fb9f3a"
             ],
             [
              0.8888888888888888,
              "#fdca26"
             ],
             [
              1,
              "#f0f921"
             ]
            ],
            "type": "histogram2dcontour"
           }
          ],
          "mesh3d": [
           {
            "colorbar": {
             "outlinewidth": 0,
             "ticks": ""
            },
            "type": "mesh3d"
           }
          ],
          "parcoords": [
           {
            "line": {
             "colorbar": {
              "outlinewidth": 0,
              "ticks": ""
             }
            },
            "type": "parcoords"
           }
          ],
          "pie": [
           {
            "automargin": true,
            "type": "pie"
           }
          ],
          "scatter": [
           {
            "fillpattern": {
             "fillmode": "overlay",
             "size": 10,
             "solidity": 0.2
            },
            "type": "scatter"
           }
          ],
          "scatter3d": [
           {
            "line": {
             "colorbar": {
              "outlinewidth": 0,
              "ticks": ""
             }
            },
            "marker": {
             "colorbar": {
              "outlinewidth": 0,
              "ticks": ""
             }
            },
            "type": "scatter3d"
           }
          ],
          "scattercarpet": [
           {
            "marker": {
             "colorbar": {
              "outlinewidth": 0,
              "ticks": ""
             }
            },
            "type": "scattercarpet"
           }
          ],
          "scattergeo": [
           {
            "marker": {
             "colorbar": {
              "outlinewidth": 0,
              "ticks": ""
             }
            },
            "type": "scattergeo"
           }
          ],
          "scattergl": [
           {
            "marker": {
             "colorbar": {
              "outlinewidth": 0,
              "ticks": ""
             }
            },
            "type": "scattergl"
           }
          ],
          "scattermapbox": [
           {
            "marker": {
             "colorbar": {
              "outlinewidth": 0,
              "ticks": ""
             }
            },
            "type": "scattermapbox"
           }
          ],
          "scatterpolar": [
           {
            "marker": {
             "colorbar": {
              "outlinewidth": 0,
              "ticks": ""
             }
            },
            "type": "scatterpolar"
           }
          ],
          "scatterpolargl": [
           {
            "marker": {
             "colorbar": {
              "outlinewidth": 0,
              "ticks": ""
             }
            },
            "type": "scatterpolargl"
           }
          ],
          "scatterternary": [
           {
            "marker": {
             "colorbar": {
              "outlinewidth": 0,
              "ticks": ""
             }
            },
            "type": "scatterternary"
           }
          ],
          "surface": [
           {
            "colorbar": {
             "outlinewidth": 0,
             "ticks": ""
            },
            "colorscale": [
             [
              0,
              "#0d0887"
             ],
             [
              0.1111111111111111,
              "#46039f"
             ],
             [
              0.2222222222222222,
              "#7201a8"
             ],
             [
              0.3333333333333333,
              "#9c179e"
             ],
             [
              0.4444444444444444,
              "#bd3786"
             ],
             [
              0.5555555555555556,
              "#d8576b"
             ],
             [
              0.6666666666666666,
              "#ed7953"
             ],
             [
              0.7777777777777778,
              "#fb9f3a"
             ],
             [
              0.8888888888888888,
              "#fdca26"
             ],
             [
              1,
              "#f0f921"
             ]
            ],
            "type": "surface"
           }
          ],
          "table": [
           {
            "cells": {
             "fill": {
              "color": "#EBF0F8"
             },
             "line": {
              "color": "white"
             }
            },
            "header": {
             "fill": {
              "color": "#C8D4E3"
             },
             "line": {
              "color": "white"
             }
            },
            "type": "table"
           }
          ]
         },
         "layout": {
          "annotationdefaults": {
           "arrowcolor": "#2a3f5f",
           "arrowhead": 0,
           "arrowwidth": 1
          },
          "autotypenumbers": "strict",
          "coloraxis": {
           "colorbar": {
            "outlinewidth": 0,
            "ticks": ""
           }
          },
          "colorscale": {
           "diverging": [
            [
             0,
             "#8e0152"
            ],
            [
             0.1,
             "#c51b7d"
            ],
            [
             0.2,
             "#de77ae"
            ],
            [
             0.3,
             "#f1b6da"
            ],
            [
             0.4,
             "#fde0ef"
            ],
            [
             0.5,
             "#f7f7f7"
            ],
            [
             0.6,
             "#e6f5d0"
            ],
            [
             0.7,
             "#b8e186"
            ],
            [
             0.8,
             "#7fbc41"
            ],
            [
             0.9,
             "#4d9221"
            ],
            [
             1,
             "#276419"
            ]
           ],
           "sequential": [
            [
             0,
             "#0d0887"
            ],
            [
             0.1111111111111111,
             "#46039f"
            ],
            [
             0.2222222222222222,
             "#7201a8"
            ],
            [
             0.3333333333333333,
             "#9c179e"
            ],
            [
             0.4444444444444444,
             "#bd3786"
            ],
            [
             0.5555555555555556,
             "#d8576b"
            ],
            [
             0.6666666666666666,
             "#ed7953"
            ],
            [
             0.7777777777777778,
             "#fb9f3a"
            ],
            [
             0.8888888888888888,
             "#fdca26"
            ],
            [
             1,
             "#f0f921"
            ]
           ],
           "sequentialminus": [
            [
             0,
             "#0d0887"
            ],
            [
             0.1111111111111111,
             "#46039f"
            ],
            [
             0.2222222222222222,
             "#7201a8"
            ],
            [
             0.3333333333333333,
             "#9c179e"
            ],
            [
             0.4444444444444444,
             "#bd3786"
            ],
            [
             0.5555555555555556,
             "#d8576b"
            ],
            [
             0.6666666666666666,
             "#ed7953"
            ],
            [
             0.7777777777777778,
             "#fb9f3a"
            ],
            [
             0.8888888888888888,
             "#fdca26"
            ],
            [
             1,
             "#f0f921"
            ]
           ]
          },
          "colorway": [
           "#636efa",
           "#EF553B",
           "#00cc96",
           "#ab63fa",
           "#FFA15A",
           "#19d3f3",
           "#FF6692",
           "#B6E880",
           "#FF97FF",
           "#FECB52"
          ],
          "font": {
           "color": "#2a3f5f"
          },
          "geo": {
           "bgcolor": "white",
           "lakecolor": "white",
           "landcolor": "#E5ECF6",
           "showlakes": true,
           "showland": true,
           "subunitcolor": "white"
          },
          "hoverlabel": {
           "align": "left"
          },
          "hovermode": "closest",
          "mapbox": {
           "style": "light"
          },
          "paper_bgcolor": "white",
          "plot_bgcolor": "#E5ECF6",
          "polar": {
           "angularaxis": {
            "gridcolor": "white",
            "linecolor": "white",
            "ticks": ""
           },
           "bgcolor": "#E5ECF6",
           "radialaxis": {
            "gridcolor": "white",
            "linecolor": "white",
            "ticks": ""
           }
          },
          "scene": {
           "xaxis": {
            "backgroundcolor": "#E5ECF6",
            "gridcolor": "white",
            "gridwidth": 2,
            "linecolor": "white",
            "showbackground": true,
            "ticks": "",
            "zerolinecolor": "white"
           },
           "yaxis": {
            "backgroundcolor": "#E5ECF6",
            "gridcolor": "white",
            "gridwidth": 2,
            "linecolor": "white",
            "showbackground": true,
            "ticks": "",
            "zerolinecolor": "white"
           },
           "zaxis": {
            "backgroundcolor": "#E5ECF6",
            "gridcolor": "white",
            "gridwidth": 2,
            "linecolor": "white",
            "showbackground": true,
            "ticks": "",
            "zerolinecolor": "white"
           }
          },
          "shapedefaults": {
           "line": {
            "color": "#2a3f5f"
           }
          },
          "ternary": {
           "aaxis": {
            "gridcolor": "white",
            "linecolor": "white",
            "ticks": ""
           },
           "baxis": {
            "gridcolor": "white",
            "linecolor": "white",
            "ticks": ""
           },
           "bgcolor": "#E5ECF6",
           "caxis": {
            "gridcolor": "white",
            "linecolor": "white",
            "ticks": ""
           }
          },
          "title": {
           "x": 0.05
          },
          "xaxis": {
           "automargin": true,
           "gridcolor": "white",
           "linecolor": "white",
           "ticks": "",
           "title": {
            "standoff": 15
           },
           "zerolinecolor": "white",
           "zerolinewidth": 2
          },
          "yaxis": {
           "automargin": true,
           "gridcolor": "white",
           "linecolor": "white",
           "ticks": "",
           "title": {
            "standoff": 15
           },
           "zerolinecolor": "white",
           "zerolinewidth": 2
          }
         }
        },
        "updatemenus": [
         {
          "buttons": [
           {
            "args": [
             null,
             {
              "frame": {
               "duration": 500,
               "redraw": false
              },
              "fromcurrent": true,
              "mode": "immediate",
              "transition": {
               "duration": 500,
               "easing": "linear"
              }
             }
            ],
            "label": "&#9654;",
            "method": "animate"
           },
           {
            "args": [
             [
              null
             ],
             {
              "frame": {
               "duration": 0,
               "redraw": false
              },
              "fromcurrent": true,
              "mode": "immediate",
              "transition": {
               "duration": 0,
               "easing": "linear"
              }
             }
            ],
            "label": "&#9724;",
            "method": "animate"
           }
          ],
          "direction": "left",
          "pad": {
           "r": 10,
           "t": 70
          },
          "showactive": false,
          "type": "buttons",
          "x": 0.1,
          "xanchor": "right",
          "y": 0,
          "yanchor": "top"
         }
        ],
        "xaxis": {
         "anchor": "y",
         "domain": [
          0,
          1
         ],
         "range": [
          1,
          100
         ],
         "title": {
          "text": "n_streams"
         },
         "type": "linear"
        },
        "yaxis": {
         "anchor": "x",
         "domain": [
          0,
          1
         ],
         "range": [
          100000,
          2000000
         ],
         "title": {
          "text": "pps"
         },
         "type": "linear"
        }
       }
      },
      "image/png": "[encoded data removed]",
      "text/html": [
       "<div>                            <div id=\"f73959d7-96ae-4b3f-b166-c4d4911c0f3d\" class=\"plotly-graph-div\" style=\"height:525px; width:100%;\"></div>            <script type=\"text/javascript\">                require([\"plotly\"], function(Plotly) {                    window.PLOTLYENV=window.PLOTLYENV || {};                                    if (document.getElementById(\"f73959d7-96ae-4b3f-b166-c4d4911c0f3d\")) {                    Plotly.newPlot(                        \"f73959d7-96ae-4b3f-b166-c4d4911c0f3d\",                        [{\"error_y\":{\"array\":[10481.749559914591,27957.51367511544,26315.93249545861,54469.82253427963,53937.0140686961,26834.681025921334]},\"hovertemplate\":\"func_name=time_streamset_arrow_multistream_raw_values_non_timesnapped\\u003cbr\\u003en_points=10000\\u003cbr\\u003en_streams=%{x}\\u003cbr\\u003epps=%{y}\\u003cextra\\u003e\\u003c\\u002fextra\\u003e\",\"legendgroup\":\"time_streamset_arrow_multistream_raw_values_non_timesnapped\",\"marker\":{\"color\":\"#636efa\",\"symbol\":\"circle\"},\"mode\":\"markers\",\"name\":\"time_streamset_arrow_multistream_raw_values_non_timesnapped\",\"orientation\":\"v\",\"showlegend\":true,\"x\":[1,5,10,20,50,100],\"xaxis\":\"x\",\"y\":[184270.28867668926,610582.1198474104,806509.3915212203,970385.5713043435,1157101.3471414337,1271077.5510163812],\"yaxis\":\"y\",\"type\":\"scatter\"},{\"error_y\":{\"array\":[9690.434027887104,39079.52020828477,111768.51314357757,107934.44666132054,23514.89190128789,45914.892286068716]},\"hovertemplate\":\"func_name=time_streamset_arrow_multistream_raw_values_timesnapped\\u003cbr\\u003en_points=10000\\u003cbr\\u003en_streams=%{x}\\u003cbr\\u003epps=%{y}\\u003cextra\\u003e\\u003c\\u002fextra\\u003e\",\"legendgroup\":\"time_streamset_arrow_multistream_raw_values_timesnapped\",\"marker\":{\"color\":\"#EF553B\",\"symbol\":\"circle\"},\"mode\":\"markers\",\"name\":\"time_streamset_arrow_multistream_raw_values_timesnapped\",\"orientation\":\"v\",\"showlegend\":true,\"x\":[1,5,10,20,50,100],\"xaxis\":\"x\",\"y\":[182461.35744313477,609372.5777876324,795332.8279336349,939955.0818909779,1252382.501168759,1364162.077221833],\"yaxis\":\"y\",\"type\":\"scatter\"},{\"error_y\":{\"array\":[80481.97345169925,187344.223787949,76396.80436431126,47800.52898697173,63136.22323428577,85797.8389833992]},\"hovertemplate\":\"func_name=time_streamset_arrow_raw_values\\u003cbr\\u003en_points=10000\\u003cbr\\u003en_streams=%{x}\\u003cbr\\u003epps=%{y}\\u003cextra\\u003e\\u003c\\u002fextra\\u003e\",\"legendgroup\":\"time_streamset_arrow_raw_values\",\"marker\":{\"color\":\"#00cc96\",\"symbol\":\"circle\"},\"mode\":\"markers\",\"name\":\"time_streamset_arrow_raw_values\",\"orientation\":\"v\",\"showlegend\":true,\"x\":[1,5,10,20,50,100],\"xaxis\":\"x\",\"y\":[130399.03246847635,514482.5452625127,772238.2941963992,942411.7451020037,1193163.444535994,1214052.520757249],\"yaxis\":\"y\",\"type\":\"scatter\"},{\"error_y\":{\"array\":[19285.40012208422,17961.136774891795,60422.07858691694,37126.7638942876,60768.06663344618,30078.048168860125]},\"hovertemplate\":\"func_name=time_streamset_raw_values\\u003cbr\\u003en_points=10000\\u003cbr\\u003en_streams=%{x}\\u003cbr\\u003epps=%{y}\\u003cextra\\u003e\\u003c\\u002fextra\\u003e\",\"legendgroup\":\"time_streamset_raw_values\",\"marker\":{\"color\":\"#ab63fa\",\"symbol\":\"circle\"},\"mode\":\"markers\",\"name\":\"time_streamset_raw_values\",\"orientation\":\"v\",\"showlegend\":true,\"x\":[1,5,10,20,50,100],\"xaxis\":\"x\",\"y\":[116909.78227001581,360213.7000284344,532186.4360829137,681328.2645213604,782945.2808385317,806387.9853799735],\"yaxis\":\"y\",\"type\":\"scatter\"}],                        {\"template\":{\"data\":{\"histogram2dcontour\":[{\"type\":\"histogram2dcontour\",\"colorbar\":{\"outlinewidth\":0,\"ticks\":\"\"},\"colorscale\":[[0.0,\"#0d0887\"],[0.1111111111111111,\"#46039f\"],[0.2222222222222222,\"#7201a8\"],[0.3333333333333333,\"#9c179e\"],[0.4444444444444444,\"#bd3786\"],[0.5555555555555556,\"#d8576b\"],[0.6666666666666666,\"#ed7953\"],[0.7777777777777778,\"#fb9f3a\"],[0.8888888888888888,\"#fdca26\"],[1.0,\"#f0f921\"]]}],\"choropleth\":[{\"type\":\"choropleth\",\"colorbar\":{\"outlinewidth\":0,\"ticks\":\"\"}}],\"histogram2d\":[{\"type\":\"histogram2d\",\"colorbar\":{\"outlinewidth\":0,\"ticks\":\"\"},\"colorscale\":[[0.0,\"#0d0887\"],[0.1111111111111111,\"#46039f\"],[0.2222222222222222,\"#7201a8\"],[0.3333333333333333,\"#9c179e\"],[0.4444444444444444,\"#bd3786\"],[0.5555555555555556,\"#d8576b\"],[0.6666666666666666,\"#ed7953\"],[0.7777777777777778,\"#fb9f3a\"],[0.8888888888888888,\"#fdca26\"],[1.0,\"#f0f921\"]]}],\"heatmap\":[{\"type\":\"heatmap\",\"colorbar\":{\"outlinewidth\":0,\"ticks\":\"\"},\"colorscale\":[[0.0,\"#0d0887\"],[0.1111111111111111,\"#46039f\"],[0.2222222222222222,\"#7201a8\"],[0.3333333333333333,\"#9c179e\"],[0.4444444444444444,\"#bd3786\"],[0.5555555555555556,\"#d8576b\"],[0.6666666666666666,\"#ed7953\"],[0.7777777777777778,\"#fb9f3a\"],[0.8888888888888888,\"#fdca26\"],[1.0,\"#f0f921\"]]}],\"heatmapgl\":[{\"type\":\"heatmapgl\",\"colorbar\":{\"outlinewidth\":0,\"ticks\":\"\"},\"colorscale\":[[0.0,\"#0d0887\"],[0.1111111111111111,\"#46039f\"],[0.2222222222222222,\"#7201a8\"],[0.3333333333333333,\"#9c179e\"],[0.4444444444444444,\"#bd3786\"],[0.5555555555555556,\"#d8576b\"],[0.6666666666666666,\"#ed7953\"],[0.7777777777777778,\"#fb9f3a\"],[0.8888888888888888,\"#fdca26\"],[1.0,\"#f0f921\"]]}],\"contourcarpet\":[{\"type\":\"contourcarpet\",\"colorbar\":{\"outlinewidth\":0,\"ticks\":\"\"}}],\"contour\":[{\"type\":\"contour\",\"colorbar\":{\"outlinewidth\":0,\"ticks\":\"\"},\"colorscale\":[[0.0,\"#0d0887\"],[0.1111111111111111,\"#46039f\"],[0.2222222222222222,\"#7201a8\"],[0.3333333333333333,\"#9c179e\"],[0.4444444444444444,\"#bd3786\"],[0.5555555555555556,\"#d8576b\"],[0.6666666666666666,\"#ed7953\"],[0.7777777777777778,\"#fb9f3a\"],[0.8888888888888888,\"#fdca26\"],[1.0,\"#f0f921\"]]}],\"surface\":[{\"type\":\"surface\",\"colorbar\":{\"outlinewidth\":0,\"ticks\":\"\"},\"colorscale\":[[0.0,\"#0d0887\"],[0.1111111111111111,\"#46039f\"],[0.2222222222222222,\"#7201a8\"],[0.3333333333333333,\"#9c179e\"],[0.4444444444444444,\"#bd3786\"],[0.5555555555555556,\"#d8576b\"],[0.6666666666666666,\"#ed7953\"],[0.7777777777777778,\"#fb9f3a\"],[0.8888888888888888,\"#fdca26\"],[1.0,\"#f0f921\"]]}],\"mesh3d\":[{\"type\":\"mesh3d\",\"colorbar\":{\"outlinewidth\":0,\"ticks\":\"\"}}],\"scatter\":[{\"fillpattern\":{\"fillmode\":\"overlay\",\"size\":10,\"solidity\":0.2},\"type\":\"scatter\"}],\"parcoords\":[{\"type\":\"parcoords\",\"line\":{\"colorbar\":{\"outlinewidth\":0,\"ticks\":\"\"}}}],\"scatterpolargl\":[{\"type\":\"scatterpolargl\",\"marker\":{\"colorbar\":{\"outlinewidth\":0,\"ticks\":\"\"}}}],\"bar\":[{\"error_x\":{\"color\":\"#2a3f5f\"},\"error_y\":{\"color\":\"#2a3f5f\"},\"marker\":{\"line\":{\"color\":\"#E5ECF6\",\"width\":0.5},\"pattern\":{\"fillmode\":\"overlay\",\"size\":10,\"solidity\":0.2}},\"type\":\"bar\"}],\"scattergeo\":[{\"type\":\"scattergeo\",\"marker\":{\"colorbar\":{\"outlinewidth\":0,\"ticks\":\"\"}}}],\"scatterpolar\":[{\"type\":\"scatterpolar\",\"marker\":{\"colorbar\":{\"outlinewidth\":0,\"ticks\":\"\"}}}],\"histogram\":[{\"marker\":{\"pattern\":{\"fillmode\":\"overlay\",\"size\":10,\"solidity\":0.2}},\"type\":\"histogram\"}],\"scattergl\":[{\"type\":\"scattergl\",\"marker\":{\"colorbar\":{\"outlinewidth\":0,\"ticks\":\"\"}}}],\"scatter3d\":[{\"type\":\"scatter3d\",\"line\":{\"colorbar\":{\"outlinewidth\":0,\"ticks\":\"\"}},\"marker\":{\"colorbar\":{\"outlinewidth\":0,\"ticks\":\"\"}}}],\"scattermapbox\":[{\"type\":\"scattermapbox\",\"marker\":{\"colorbar\":{\"outlinewidth\":0,\"ticks\":\"\"}}}],\"scatterternary\":[{\"type\":\"scatterternary\",\"marker\":{\"colorbar\":{\"outlinewidth\":0,\"ticks\":\"\"}}}],\"scattercarpet\":[{\"type\":\"scattercarpet\",\"marker\":{\"colorbar\":{\"outlinewidth\":0,\"ticks\":\"\"}}}],\"carpet\":[{\"aaxis\":{\"endlinecolor\":\"#2a3f5f\",\"gridcolor\":\"white\",\"linecolor\":\"white\",\"minorgridcolor\":\"white\",\"startlinecolor\":\"#2a3f5f\"},\"baxis\":{\"endlinecolor\":\"#2a3f5f\",\"gridcolor\":\"white\",\"linecolor\":\"white\",\"minorgridcolor\":\"white\",\"startlinecolor\":\"#2a3f5f\"},\"type\":\"carpet\"}],\"table\":[{\"cells\":{\"fill\":{\"color\":\"#EBF0F8\"},\"line\":{\"color\":\"white\"}},\"header\":{\"fill\":{\"color\":\"#C8D4E3\"},\"line\":{\"color\":\"white\"}},\"type\":\"table\"}],\"barpolar\":[{\"marker\":{\"line\":{\"color\":\"#E5ECF6\",\"width\":0.5},\"pattern\":{\"fillmode\":\"overlay\",\"size\":10,\"solidity\":0.2}},\"type\":\"barpolar\"}],\"pie\":[{\"automargin\":true,\"type\":\"pie\"}]},\"layout\":{\"autotypenumbers\":\"strict\",\"colorway\":[\"#636efa\",\"#EF553B\",\"#00cc96\",\"#ab63fa\",\"#FFA15A\",\"#19d3f3\",\"#FF6692\",\"#B6E880\",\"#FF97FF\",\"#FECB52\"],\"font\":{\"color\":\"#2a3f5f\"},\"hovermode\":\"closest\",\"hoverlabel\":{\"align\":\"left\"},\"paper_bgcolor\":\"white\",\"plot_bgcolor\":\"#E5ECF6\",\"polar\":{\"bgcolor\":\"#E5ECF6\",\"angularaxis\":{\"gridcolor\":\"white\",\"linecolor\":\"white\",\"ticks\":\"\"},\"radialaxis\":{\"gridcolor\":\"white\",\"linecolor\":\"white\",\"ticks\":\"\"}},\"ternary\":{\"bgcolor\":\"#E5ECF6\",\"aaxis\":{\"gridcolor\":\"white\",\"linecolor\":\"white\",\"ticks\":\"\"},\"baxis\":{\"gridcolor\":\"white\",\"linecolor\":\"white\",\"ticks\":\"\"},\"caxis\":{\"gridcolor\":\"white\",\"linecolor\":\"white\",\"ticks\":\"\"}},\"coloraxis\":{\"colorbar\":{\"outlinewidth\":0,\"ticks\":\"\"}},\"colorscale\":{\"sequential\":[[0.0,\"#0d0887\"],[0.1111111111111111,\"#46039f\"],[0.2222222222222222,\"#7201a8\"],[0.3333333333333333,\"#9c179e\"],[0.4444444444444444,\"#bd3786\"],[0.5555555555555556,\"#d8576b\"],[0.6666666666666666,\"#ed7953\"],[0.7777777777777778,\"#fb9f3a\"],[0.8888888888888888,\"#fdca26\"],[1.0,\"#f0f921\"]],\"sequentialminus\":[[0.0,\"#0d0887\"],[0.1111111111111111,\"#46039f\"],[0.2222222222222222,\"#7201a8\"],[0.3333333333333333,\"#9c179e\"],[0.4444444444444444,\"#bd3786\"],[0.5555555555555556,\"#d8576b\"],[0.6666666666666666,\"#ed7953\"],[0.7777777777777778,\"#fb9f3a\"],[0.8888888888888888,\"#fdca26\"],[1.0,\"#f0f921\"]],\"diverging\":[[0,\"#8e0152\"],[0.1,\"#c51b7d\"],[0.2,\"#de77ae\"],[0.3,\"#f1b6da\"],[0.4,\"#fde0ef\"],[0.5,\"#f7f7f7\"],[0.6,\"#e6f5d0\"],[0.7,\"#b8e186\"],[0.8,\"#7fbc41\"],[0.9,\"#4d9221\"],[1,\"#276419\"]]},\"xaxis\":{\"gridcolor\":\"white\",\"linecolor\":\"white\",\"ticks\":\"\",\"title\":{\"standoff\":15},\"zerolinecolor\":\"white\",\"automargin\":true,\"zerolinewidth\":2},\"yaxis\":{\"gridcolor\":\"white\",\"linecolor\":\"white\",\"ticks\":\"\",\"title\":{\"standoff\":15},\"zerolinecolor\":\"white\",\"automargin\":true,\"zerolinewidth\":2},\"scene\":{\"xaxis\":{\"backgroundcolor\":\"#E5ECF6\",\"gridcolor\":\"white\",\"linecolor\":\"white\",\"showbackground\":true,\"ticks\":\"\",\"zerolinecolor\":\"white\",\"gridwidth\":2},\"yaxis\":{\"backgroundcolor\":\"#E5ECF6\",\"gridcolor\":\"white\",\"linecolor\":\"white\",\"showbackground\":true,\"ticks\":\"\",\"zerolinecolor\":\"white\",\"gridwidth\":2},\"zaxis\":{\"backgroundcolor\":\"#E5ECF6\",\"gridcolor\":\"white\",\"linecolor\":\"white\",\"showbackground\":true,\"ticks\":\"\",\"zerolinecolor\":\"white\",\"gridwidth\":2}},\"shapedefaults\":{\"line\":{\"color\":\"#2a3f5f\"}},\"annotationdefaults\":{\"arrowcolor\":\"#2a3f5f\",\"arrowhead\":0,\"arrowwidth\":1},\"geo\":{\"bgcolor\":\"white\",\"landcolor\":\"#E5ECF6\",\"subunitcolor\":\"white\",\"showland\":true,\"showlakes\":true,\"lakecolor\":\"white\"},\"title\":{\"x\":0.05},\"mapbox\":{\"style\":\"light\"}}},\"xaxis\":{\"anchor\":\"y\",\"domain\":[0.0,1.0],\"title\":{\"text\":\"n_streams\"},\"range\":[1,100]},\"yaxis\":{\"anchor\":\"x\",\"domain\":[0.0,1.0],\"title\":{\"text\":\"pps\"},\"range\":[100000,2000000]},\"legend\":{\"title\":{\"text\":\"func_name\"},\"tracegroupgap\":0},\"margin\":{\"t\":60},\"updatemenus\":[{\"buttons\":[{\"args\":[null,{\"frame\":{\"duration\":500,\"redraw\":false},\"mode\":\"immediate\",\"fromcurrent\":true,\"transition\":{\"duration\":500,\"easing\":\"linear\"}}],\"label\":\"&#9654;\",\"method\":\"animate\"},{\"args\":[[null],{\"frame\":{\"duration\":0,\"redraw\":false},\"mode\":\"immediate\",\"fromcurrent\":true,\"transition\":{\"duration\":0,\"easing\":\"linear\"}}],\"label\":\"&#9724;\",\"method\":\"animate\"}],\"direction\":\"left\",\"pad\":{\"r\":10,\"t\":70},\"showactive\":false,\"type\":\"buttons\",\"x\":0.1,\"xanchor\":\"right\",\"y\":0,\"yanchor\":\"top\"}],\"sliders\":[{\"active\":0,\"currentvalue\":{\"prefix\":\"n_points=\"},\"len\":0.9,\"pad\":{\"b\":10,\"t\":60},\"steps\":[{\"args\":[[\"10000\"],{\"frame\":{\"duration\":0,\"redraw\":false},\"mode\":\"immediate\",\"fromcurrent\":true,\"transition\":{\"duration\":0,\"easing\":\"linear\"}}],\"label\":\"10000\",\"method\":\"animate\"},{\"args\":[[\"100000\"],{\"frame\":{\"duration\":0,\"redraw\":false},\"mode\":\"immediate\",\"fromcurrent\":true,\"transition\":{\"duration\":0,\"easing\":\"linear\"}}],\"label\":\"100000\",\"method\":\"animate\"},{\"args\":[[\"1000000\"],{\"frame\":{\"duration\":0,\"redraw\":false},\"mode\":\"immediate\",\"fromcurrent\":true,\"transition\":{\"duration\":0,\"easing\":\"linear\"}}],\"label\":\"1000000\",\"method\":\"animate\"},{\"args\":[[\"3000000\"],{\"frame\":{\"duration\":0,\"redraw\":false},\"mode\":\"immediate\",\"fromcurrent\":true,\"transition\":{\"duration\":0,\"easing\":\"linear\"}}],\"label\":\"3000000\",\"method\":\"animate\"}],\"x\":0.1,\"xanchor\":\"left\",\"y\":0,\"yanchor\":\"top\"}]},                        {\"responsive\": true}                    ).then(function(){\n",
       "                            Plotly.addFrames('f73959d7-96ae-4b3f-b166-c4d4911c0f3d', [{\"data\":[{\"error_y\":{\"array\":[10481.749559914591,27957.51367511544,26315.93249545861,54469.82253427963,53937.0140686961,26834.681025921334]},\"hovertemplate\":\"func_name=time_streamset_arrow_multistream_raw_values_non_timesnapped\\u003cbr\\u003en_points=10000\\u003cbr\\u003en_streams=%{x}\\u003cbr\\u003epps=%{y}\\u003cextra\\u003e\\u003c\\u002fextra\\u003e\",\"legendgroup\":\"time_streamset_arrow_multistream_raw_values_non_timesnapped\",\"marker\":{\"color\":\"#636efa\",\"symbol\":\"circle\"},\"mode\":\"markers\",\"name\":\"time_streamset_arrow_multistream_raw_values_non_timesnapped\",\"orientation\":\"v\",\"showlegend\":true,\"x\":[1,5,10,20,50,100],\"xaxis\":\"x\",\"y\":[184270.28867668926,610582.1198474104,806509.3915212203,970385.5713043435,1157101.3471414337,1271077.5510163812],\"yaxis\":\"y\",\"type\":\"scatter\"},{\"error_y\":{\"array\":[9690.434027887104,39079.52020828477,111768.51314357757,107934.44666132054,23514.89190128789,45914.892286068716]},\"hovertemplate\":\"func_name=time_streamset_arrow_multistream_raw_values_timesnapped\\u003cbr\\u003en_points=10000\\u003cbr\\u003en_streams=%{x}\\u003cbr\\u003epps=%{y}\\u003cextra\\u003e\\u003c\\u002fextra\\u003e\",\"legendgroup\":\"time_streamset_arrow_multistream_raw_values_timesnapped\",\"marker\":{\"color\":\"#EF553B\",\"symbol\":\"circle\"},\"mode\":\"markers\",\"name\":\"time_streamset_arrow_multistream_raw_values_timesnapped\",\"orientation\":\"v\",\"showlegend\":true,\"x\":[1,5,10,20,50,100],\"xaxis\":\"x\",\"y\":[182461.35744313477,609372.5777876324,795332.8279336349,939955.0818909779,1252382.501168759,1364162.077221833],\"yaxis\":\"y\",\"type\":\"scatter\"},{\"error_y\":{\"array\":[80481.97345169925,187344.223787949,76396.80436431126,47800.52898697173,63136.22323428577,85797.8389833992]},\"hovertemplate\":\"func_name=time_streamset_arrow_raw_values\\u003cbr\\u003en_points=10000\\u003cbr\\u003en_streams=%{x}\\u003cbr\\u003epps=%{y}\\u003cextra\\u003e\\u003c\\u002fextra\\u003e\",\"legendgroup\":\"time_streamset_arrow_raw_values\",\"marker\":{\"color\":\"#00cc96\",\"symbol\":\"circle\"},\"mode\":\"markers\",\"name\":\"time_streamset_arrow_raw_values\",\"orientation\":\"v\",\"showlegend\":true,\"x\":[1,5,10,20,50,100],\"xaxis\":\"x\",\"y\":[130399.03246847635,514482.5452625127,772238.2941963992,942411.7451020037,1193163.444535994,1214052.520757249],\"yaxis\":\"y\",\"type\":\"scatter\"},{\"error_y\":{\"array\":[19285.40012208422,17961.136774891795,60422.07858691694,37126.7638942876,60768.06663344618,30078.048168860125]},\"hovertemplate\":\"func_name=time_streamset_raw_values\\u003cbr\\u003en_points=10000\\u003cbr\\u003en_streams=%{x}\\u003cbr\\u003epps=%{y}\\u003cextra\\u003e\\u003c\\u002fextra\\u003e\",\"legendgroup\":\"time_streamset_raw_values\",\"marker\":{\"color\":\"#ab63fa\",\"symbol\":\"circle\"},\"mode\":\"markers\",\"name\":\"time_streamset_raw_values\",\"orientation\":\"v\",\"showlegend\":true,\"x\":[1,5,10,20,50,100],\"xaxis\":\"x\",\"y\":[116909.78227001581,360213.7000284344,532186.4360829137,681328.2645213604,782945.2808385317,806387.9853799735],\"yaxis\":\"y\",\"type\":\"scatter\"}],\"name\":\"10000\"},{\"data\":[{\"error_y\":{\"array\":[38088.85215960955,202941.3191181111,209349.00576637755,231648.87448708428,165016.1489393306,93976.22517559375]},\"hovertemplate\":\"func_name=time_streamset_arrow_multistream_raw_values_non_timesnapped\\u003cbr\\u003en_points=100000\\u003cbr\\u003en_streams=%{x}\\u003cbr\\u003epps=%{y}\\u003cextra\\u003e\\u003c\\u002fextra\\u003e\",\"legendgroup\":\"time_streamset_arrow_multistream_raw_values_non_timesnapped\",\"marker\":{\"color\":\"#636efa\",\"symbol\":\"circle\"},\"mode\":\"markers\",\"name\":\"time_streamset_arrow_multistream_raw_values_non_timesnapped\",\"orientation\":\"v\",\"showlegend\":true,\"x\":[1,5,10,20,50,100],\"xaxis\":\"x\",\"y\":[768415.2146880098,1154761.747207087,1208459.1899656865,1231639.2479979156,1265085.8430315482,1138668.5084289678],\"yaxis\":\"y\",\"type\":\"scatter\"},{\"error_y\":{\"array\":[12578.683387227042,216367.10392544788,192405.91241568877,244429.0281717844,279194.40090967563,266535.3842669117]},\"hovertemplate\":\"func_name=time_streamset_arrow_multistream_raw_values_timesnapped\\u003cbr\\u003en_points=100000\\u003cbr\\u003en_streams=%{x}\\u003cbr\\u003epps=%{y}\\u003cextra\\u003e\\u003c\\u002fextra\\u003e\",\"legendgroup\":\"time_streamset_arrow_multistream_raw_values_timesnapped\",\"marker\":{\"color\":\"#EF553B\",\"symbol\":\"circle\"},\"mode\":\"markers\",\"name\":\"time_streamset_arrow_multistream_raw_values_timesnapped\",\"orientation\":\"v\",\"showlegend\":true,\"x\":[1,5,10,20,50,100],\"xaxis\":\"x\",\"y\":[781340.6977554917,1146307.2436484282,1194369.2892146276,1269985.0200514405,1324642.2202934914,1314718.8442260746],\"yaxis\":\"y\",\"type\":\"scatter\"},{\"error_y\":{\"array\":[172534.85442283913,584024.8839468141,645271.6310257879,545996.824088395,432874.2771094783,360226.0279400478]},\"hovertemplate\":\"func_name=time_streamset_arrow_raw_values\\u003cbr\\u003en_points=100000\\u003cbr\\u003en_streams=%{x}\\u003cbr\\u003epps=%{y}\\u003cextra\\u003e\\u003c\\u002fextra\\u003e\",\"legendgroup\":\"time_streamset_arrow_raw_values\",\"marker\":{\"color\":\"#00cc96\",\"symbol\":\"circle\"},\"mode\":\"markers\",\"name\":\"time_streamset_arrow_raw_values\",\"orientation\":\"v\",\"showlegend\":true,\"x\":[1,5,10,20,50,100],\"xaxis\":\"x\",\"y\":[690023.5458907208,1077018.1205758315,1174869.3745455204,1198955.7230569008,1197175.5258947248,1281986.791718487],\"yaxis\":\"y\",\"type\":\"scatter\"},{\"error_y\":{\"array\":[8898.42470207713,181695.24073778812,223177.28678549506,88781.99216991299,60490.78339021316,66063.17496856528]},\"hovertemplate\":\"func_name=time_streamset_raw_values\\u003cbr\\u003en_points=100000\\u003cbr\\u003en_streams=%{x}\\u003cbr\\u003epps=%{y}\\u003cextra\\u003e\\u003c\\u002fextra\\u003e\",\"legendgroup\":\"time_streamset_raw_values\",\"marker\":{\"color\":\"#ab63fa\",\"symbol\":\"circle\"},\"mode\":\"markers\",\"name\":\"time_streamset_raw_values\",\"orientation\":\"v\",\"showlegend\":true,\"x\":[1,5,10,20,50,100],\"xaxis\":\"x\",\"y\":[465579.5315664503,1093393.6993385137,1059857.0333397535,993916.3086449571,990485.3138836045,1040311.388326461],\"yaxis\":\"y\",\"type\":\"scatter\"}],\"name\":\"100000\"},{\"data\":[{\"error_y\":{\"array\":[115709.5905406329,299281.2780474494,410328.7567236421,567063.9944903117,129329.68919403476,138784.25203920508]},\"hovertemplate\":\"func_name=time_streamset_arrow_multistream_raw_values_non_timesnapped\\u003cbr\\u003en_points=1000000\\u003cbr\\u003en_streams=%{x}\\u003cbr\\u003epps=%{y}\\u003cextra\\u003e\\u003c\\u002fextra\\u003e\",\"legendgroup\":\"time_streamset_arrow_multistream_raw_values_non_timesnapped\",\"marker\":{\"color\":\"#636efa\",\"symbol\":\"circle\"},\"mode\":\"markers\",\"name\":\"time_streamset_arrow_multistream_raw_values_non_timesnapped\",\"orientation\":\"v\",\"showlegend\":true,\"x\":[1,5,10,20,50,100],\"xaxis\":\"x\",\"y\":[1014484.2652147824,1127755.0759795196,1203263.7506180666,1765596.0257437949,1458267.2176329936,1461009.5919578897],\"yaxis\":\"y\",\"type\":\"scatter\"},{\"error_y\":{\"array\":[22144.781135516747,602621.9926776766,617764.5252840894,191988.679070051,182677.96826202882,134317.7845148096]},\"hovertemplate\":\"func_name=time_streamset_arrow_multistream_raw_values_timesnapped\\u003cbr\\u003en_points=1000000\\u003cbr\\u003en_streams=%{x}\\u003cbr\\u003epps=%{y}\\u003cextra\\u003e\\u003c\\u002fextra\\u003e\",\"legendgroup\":\"time_streamset_arrow_multistream_raw_values_timesnapped\",\"marker\":{\"color\":\"#EF553B\",\"symbol\":\"circle\"},\"mode\":\"markers\",\"name\":\"time_streamset_arrow_multistream_raw_values_timesnapped\",\"orientation\":\"v\",\"showlegend\":true,\"x\":[1,5,10,20,50,100],\"xaxis\":\"x\",\"y\":[1150072.8423437253,1478788.1518706249,1593420.0272200664,1807466.788113111,1444374.231086196,1476603.0593328346],\"yaxis\":\"y\",\"type\":\"scatter\"},{\"error_y\":{\"array\":[1220.0200114746526,267087.6934450773,757579.0368477248,585965.6411622085,319514.3054103513,223992.0869847008]},\"hovertemplate\":\"func_name=time_streamset_arrow_raw_values\\u003cbr\\u003en_points=1000000\\u003cbr\\u003en_streams=%{x}\\u003cbr\\u003epps=%{y}\\u003cextra\\u003e\\u003c\\u002fextra\\u003e\",\"legendgroup\":\"time_streamset_arrow_raw_values\",\"marker\":{\"color\":\"#00cc96\",\"symbol\":\"circle\"},\"mode\":\"markers\",\"name\":\"time_streamset_arrow_raw_values\",\"orientation\":\"v\",\"showlegend\":true,\"x\":[1,5,10,20,50,100],\"xaxis\":\"x\",\"y\":[1162858.348522485,2157130.256181785,2178694.054249683,2055020.1278653955,1949077.625865497,1787692.4281474187],\"yaxis\":\"y\",\"type\":\"scatter\"},{\"error_y\":{\"array\":[6195.028061970597,317970.3295715948,246837.89845813334,207527.8542370307,133096.78445032414,46923.61237693172]},\"hovertemplate\":\"func_name=time_streamset_raw_values\\u003cbr\\u003en_points=1000000\\u003cbr\\u003en_streams=%{x}\\u003cbr\\u003epps=%{y}\\u003cextra\\u003e\\u003c\\u002fextra\\u003e\",\"legendgroup\":\"time_streamset_raw_values\",\"marker\":{\"color\":\"#ab63fa\",\"symbol\":\"circle\"},\"mode\":\"markers\",\"name\":\"time_streamset_raw_values\",\"orientation\":\"v\",\"showlegend\":true,\"x\":[1,5,10,20,50,100],\"xaxis\":\"x\",\"y\":[592470.0638844054,1087960.837688588,1026168.2024307441,815072.2749461076,547643.8398723003,378389.3779067563],\"yaxis\":\"y\",\"type\":\"scatter\"}],\"name\":\"1000000\"},{\"data\":[{\"error_y\":{\"array\":[null,null,null,null,null,null]},\"hovertemplate\":\"func_name=time_streamset_arrow_raw_values\\u003cbr\\u003en_points=3000000\\u003cbr\\u003en_streams=%{x}\\u003cbr\\u003epps=%{y}\\u003cextra\\u003e\\u003c\\u002fextra\\u003e\",\"legendgroup\":\"time_streamset_arrow_raw_values\",\"marker\":{\"color\":\"#00cc96\",\"symbol\":\"circle\"},\"mode\":\"markers\",\"name\":\"time_streamset_arrow_raw_values\",\"orientation\":\"v\",\"showlegend\":true,\"x\":[1,5,10,20,50,100],\"xaxis\":\"x\",\"y\":[1185010.34489701,1218479.0367930173,946052.8428403229,1012486.1065709557,926943.2860997599,803384.4850056279],\"yaxis\":\"y\",\"type\":\"scatter\"}],\"name\":\"3000000\"}]);\n",
       "                        }).then(function(){\n",
       "                            \n",
       "var gd = document.getElementById('f73959d7-96ae-4b3f-b166-c4d4911c0f3d');\n",
       "var x = new MutationObserver(function (mutations, observer) {{\n",
       "        var display = window.getComputedStyle(gd).display;\n",
       "        if (!display || display === 'none') {{\n",
       "            console.log([gd, 'removed!']);\n",
       "            Plotly.purge(gd);\n",
       "            observer.disconnect();\n",
       "        }}\n",
       "}});\n",
       "\n",
       "// Listen for the removal of the full notebook cells\n",
       "var notebookContainer = gd.closest('#notebook-container');\n",
       "if (notebookContainer) {{\n",
       "    x.observe(notebookContainer, {childList: true});\n",
       "}}\n",
       "\n",
       "// Listen for the clearing of the current output cell\n",
       "var outputEl = gd.closest('.output');\n",
       "if (outputEl) {{\n",
       "    x.observe(outputEl, {childList: true});\n",
       "}}\n",
       "\n",
       "                        })                };                });            </script>        </div>"
      ]
     },
     "metadata": {},
     "output_type": "display_data"
    }
   ],
   "source": [
    "px.scatter(\n",
    "    data_frame=streamset_avg_time_raw,\n",
    "    y=\"pps\",\n",
    "    x=\"n_streams\",\n",
    "    animation_frame=\"n_points\",\n",
    "    color=\"func_name\",\n",
    "    range_x=[1, 100],\n",
    "    range_y=[100000, 2000000],\n",
    "    error_y=\"pps_err\",\n",
    ")"
   ]
  },
  {
   "cell_type": "code",
   "execution_count": 183,
   "id": "2bea2042-2831-49b9-98aa-b5fe51d74bb1",
   "metadata": {
    "tags": []
   },
   "outputs": [
    {
     "data": {
      "application/vnd.plotly.v1+json": {
       "config": {
        "plotlyServerURL": "https://plot.ly"
       },
       "data": [
        {
         "error_y": {
          "array": [
           10481.749559914591,
           27957.51367511544,
           26315.93249545861,
           54469.82253427963,
           53937.0140686961,
           26834.681025921334
          ]
         },
         "hovertemplate": "func_name=time_streamset_arrow_multistream_raw_values_non_timesnapped<br>n_points=10000<br>n_streams=%{x}<br>pps=%{y}<extra></extra>",
         "legendgroup": "time_streamset_arrow_multistream_raw_values_non_timesnapped",
         "line": {
          "color": "#636efa",
          "dash": "solid"
         },
         "marker": {
          "symbol": "circle"
         },
         "mode": "lines+markers",
         "name": "time_streamset_arrow_multistream_raw_values_non_timesnapped",
         "orientation": "v",
         "showlegend": true,
         "type": "scatter",
         "x": [
          1,
          5,
          10,
          20,
          50,
          100
         ],
         "xaxis": "x",
         "y": [
          184270.28867668926,
          610582.1198474104,
          806509.3915212203,
          970385.5713043435,
          1157101.3471414337,
          1271077.5510163812
         ],
         "yaxis": "y"
        },
        {
         "error_y": {
          "array": [
           38088.85215960955,
           202941.3191181111,
           209349.00576637755,
           231648.87448708428,
           165016.1489393306,
           93976.22517559375
          ]
         },
         "hovertemplate": "func_name=time_streamset_arrow_multistream_raw_values_non_timesnapped<br>n_points=100000<br>n_streams=%{x}<br>pps=%{y}<extra></extra>",
         "legendgroup": "time_streamset_arrow_multistream_raw_values_non_timesnapped",
         "line": {
          "color": "#636efa",
          "dash": "solid"
         },
         "marker": {
          "symbol": "circle"
         },
         "mode": "lines+markers",
         "name": "time_streamset_arrow_multistream_raw_values_non_timesnapped",
         "orientation": "v",
         "showlegend": false,
         "type": "scatter",
         "x": [
          1,
          5,
          10,
          20,
          50,
          100
         ],
         "xaxis": "x2",
         "y": [
          768415.2146880098,
          1154761.747207087,
          1208459.1899656865,
          1231639.2479979156,
          1265085.8430315482,
          1138668.5084289678
         ],
         "yaxis": "y2"
        },
        {
         "error_y": {
          "array": [
           115709.5905406329,
           299281.2780474494,
           410328.7567236421,
           567063.9944903117,
           129329.68919403476,
           138784.25203920508
          ]
         },
         "hovertemplate": "func_name=time_streamset_arrow_multistream_raw_values_non_timesnapped<br>n_points=1000000<br>n_streams=%{x}<br>pps=%{y}<extra></extra>",
         "legendgroup": "time_streamset_arrow_multistream_raw_values_non_timesnapped",
         "line": {
          "color": "#636efa",
          "dash": "solid"
         },
         "marker": {
          "symbol": "circle"
         },
         "mode": "lines+markers",
         "name": "time_streamset_arrow_multistream_raw_values_non_timesnapped",
         "orientation": "v",
         "showlegend": false,
         "type": "scatter",
         "x": [
          1,
          5,
          10,
          20,
          50,
          100
         ],
         "xaxis": "x3",
         "y": [
          1014484.2652147824,
          1127755.0759795196,
          1203263.7506180666,
          1765596.0257437949,
          1458267.2176329936,
          1461009.5919578897
         ],
         "yaxis": "y3"
        },
        {
         "error_y": {
          "array": [
           9690.434027887104,
           39079.52020828477,
           111768.51314357757,
           107934.44666132054,
           23514.89190128789,
           45914.892286068716
          ]
         },
         "hovertemplate": "func_name=time_streamset_arrow_multistream_raw_values_timesnapped<br>n_points=10000<br>n_streams=%{x}<br>pps=%{y}<extra></extra>",
         "legendgroup": "time_streamset_arrow_multistream_raw_values_timesnapped",
         "line": {
          "color": "#EF553B",
          "dash": "solid"
         },
         "marker": {
          "symbol": "circle"
         },
         "mode": "lines+markers",
         "name": "time_streamset_arrow_multistream_raw_values_timesnapped",
         "orientation": "v",
         "showlegend": true,
         "type": "scatter",
         "x": [
          1,
          5,
          10,
          20,
          50,
          100
         ],
         "xaxis": "x",
         "y": [
          182461.35744313477,
          609372.5777876324,
          795332.8279336349,
          939955.0818909779,
          1252382.501168759,
          1364162.077221833
         ],
         "yaxis": "y"
        },
        {
         "error_y": {
          "array": [
           12578.683387227042,
           216367.10392544788,
           192405.91241568877,
           244429.0281717844,
           279194.40090967563,
           266535.3842669117
          ]
         },
         "hovertemplate": "func_name=time_streamset_arrow_multistream_raw_values_timesnapped<br>n_points=100000<br>n_streams=%{x}<br>pps=%{y}<extra></extra>",
         "legendgroup": "time_streamset_arrow_multistream_raw_values_timesnapped",
         "line": {
          "color": "#EF553B",
          "dash": "solid"
         },
         "marker": {
          "symbol": "circle"
         },
         "mode": "lines+markers",
         "name": "time_streamset_arrow_multistream_raw_values_timesnapped",
         "orientation": "v",
         "showlegend": false,
         "type": "scatter",
         "x": [
          1,
          5,
          10,
          20,
          50,
          100
         ],
         "xaxis": "x2",
         "y": [
          781340.6977554917,
          1146307.2436484282,
          1194369.2892146276,
          1269985.0200514405,
          1324642.2202934914,
          1314718.8442260746
         ],
         "yaxis": "y2"
        },
        {
         "error_y": {
          "array": [
           22144.781135516747,
           602621.9926776766,
           617764.5252840894,
           191988.679070051,
           182677.96826202882,
           134317.7845148096
          ]
         },
         "hovertemplate": "func_name=time_streamset_arrow_multistream_raw_values_timesnapped<br>n_points=1000000<br>n_streams=%{x}<br>pps=%{y}<extra></extra>",
         "legendgroup": "time_streamset_arrow_multistream_raw_values_timesnapped",
         "line": {
          "color": "#EF553B",
          "dash": "solid"
         },
         "marker": {
          "symbol": "circle"
         },
         "mode": "lines+markers",
         "name": "time_streamset_arrow_multistream_raw_values_timesnapped",
         "orientation": "v",
         "showlegend": false,
         "type": "scatter",
         "x": [
          1,
          5,
          10,
          20,
          50,
          100
         ],
         "xaxis": "x3",
         "y": [
          1150072.8423437253,
          1478788.1518706249,
          1593420.0272200664,
          1807466.788113111,
          1444374.231086196,
          1476603.0593328346
         ],
         "yaxis": "y3"
        },
        {
         "error_y": {
          "array": [
           80481.97345169925,
           187344.223787949,
           76396.80436431126,
           47800.52898697173,
           63136.22323428577,
           85797.8389833992
          ]
         },
         "hovertemplate": "func_name=time_streamset_arrow_raw_values<br>n_points=10000<br>n_streams=%{x}<br>pps=%{y}<extra></extra>",
         "legendgroup": "time_streamset_arrow_raw_values",
         "line": {
          "color": "#00cc96",
          "dash": "solid"
         },
         "marker": {
          "symbol": "circle"
         },
         "mode": "lines+markers",
         "name": "time_streamset_arrow_raw_values",
         "orientation": "v",
         "showlegend": true,
         "type": "scatter",
         "x": [
          1,
          5,
          10,
          20,
          50,
          100
         ],
         "xaxis": "x",
         "y": [
          130399.03246847635,
          514482.5452625127,
          772238.2941963992,
          942411.7451020037,
          1193163.444535994,
          1214052.520757249
         ],
         "yaxis": "y"
        },
        {
         "error_y": {
          "array": [
           172534.85442283913,
           584024.8839468141,
           645271.6310257879,
           545996.824088395,
           432874.2771094783,
           360226.0279400478
          ]
         },
         "hovertemplate": "func_name=time_streamset_arrow_raw_values<br>n_points=100000<br>n_streams=%{x}<br>pps=%{y}<extra></extra>",
         "legendgroup": "time_streamset_arrow_raw_values",
         "line": {
          "color": "#00cc96",
          "dash": "solid"
         },
         "marker": {
          "symbol": "circle"
         },
         "mode": "lines+markers",
         "name": "time_streamset_arrow_raw_values",
         "orientation": "v",
         "showlegend": false,
         "type": "scatter",
         "x": [
          1,
          5,
          10,
          20,
          50,
          100
         ],
         "xaxis": "x2",
         "y": [
          690023.5458907208,
          1077018.1205758315,
          1174869.3745455204,
          1198955.7230569008,
          1197175.5258947248,
          1281986.791718487
         ],
         "yaxis": "y2"
        },
        {
         "error_y": {
          "array": [
           1220.0200114746526,
           267087.6934450773,
           757579.0368477248,
           585965.6411622085,
           319514.3054103513,
           223992.0869847008
          ]
         },
         "hovertemplate": "func_name=time_streamset_arrow_raw_values<br>n_points=1000000<br>n_streams=%{x}<br>pps=%{y}<extra></extra>",
         "legendgroup": "time_streamset_arrow_raw_values",
         "line": {
          "color": "#00cc96",
          "dash": "solid"
         },
         "marker": {
          "symbol": "circle"
         },
         "mode": "lines+markers",
         "name": "time_streamset_arrow_raw_values",
         "orientation": "v",
         "showlegend": false,
         "type": "scatter",
         "x": [
          1,
          5,
          10,
          20,
          50,
          100
         ],
         "xaxis": "x3",
         "y": [
          1162858.348522485,
          2157130.256181785,
          2178694.054249683,
          2055020.1278653955,
          1949077.625865497,
          1787692.4281474187
         ],
         "yaxis": "y3"
        },
        {
         "error_y": {
          "array": [
           null,
           null,
           null,
           null,
           null,
           null
          ]
         },
         "hovertemplate": "func_name=time_streamset_arrow_raw_values<br>n_points=3000000<br>n_streams=%{x}<br>pps=%{y}<extra></extra>",
         "legendgroup": "time_streamset_arrow_raw_values",
         "line": {
          "color": "#00cc96",
          "dash": "solid"
         },
         "marker": {
          "symbol": "circle"
         },
         "mode": "lines+markers",
         "name": "time_streamset_arrow_raw_values",
         "orientation": "v",
         "showlegend": false,
         "type": "scatter",
         "x": [
          1,
          5,
          10,
          20,
          50,
          100
         ],
         "xaxis": "x4",
         "y": [
          1185010.34489701,
          1218479.0367930173,
          946052.8428403229,
          1012486.1065709557,
          926943.2860997599,
          803384.4850056279
         ],
         "yaxis": "y4"
        },
        {
         "error_y": {
          "array": [
           19285.40012208422,
           17961.136774891795,
           60422.07858691694,
           37126.7638942876,
           60768.06663344618,
           30078.048168860125
          ]
         },
         "hovertemplate": "func_name=time_streamset_raw_values<br>n_points=10000<br>n_streams=%{x}<br>pps=%{y}<extra></extra>",
         "legendgroup": "time_streamset_raw_values",
         "line": {
          "color": "#ab63fa",
          "dash": "solid"
         },
         "marker": {
          "symbol": "circle"
         },
         "mode": "lines+markers",
         "name": "time_streamset_raw_values",
         "orientation": "v",
         "showlegend": true,
         "type": "scatter",
         "x": [
          1,
          5,
          10,
          20,
          50,
          100
         ],
         "xaxis": "x",
         "y": [
          116909.78227001581,
          360213.7000284344,
          532186.4360829137,
          681328.2645213604,
          782945.2808385317,
          806387.9853799735
         ],
         "yaxis": "y"
        },
        {
         "error_y": {
          "array": [
           8898.42470207713,
           181695.24073778812,
           223177.28678549506,
           88781.99216991299,
           60490.78339021316,
           66063.17496856528
          ]
         },
         "hovertemplate": "func_name=time_streamset_raw_values<br>n_points=100000<br>n_streams=%{x}<br>pps=%{y}<extra></extra>",
         "legendgroup": "time_streamset_raw_values",
         "line": {
          "color": "#ab63fa",
          "dash": "solid"
         },
         "marker": {
          "symbol": "circle"
         },
         "mode": "lines+markers",
         "name": "time_streamset_raw_values",
         "orientation": "v",
         "showlegend": false,
         "type": "scatter",
         "x": [
          1,
          5,
          10,
          20,
          50,
          100
         ],
         "xaxis": "x2",
         "y": [
          465579.5315664503,
          1093393.6993385137,
          1059857.0333397535,
          993916.3086449571,
          990485.3138836045,
          1040311.388326461
         ],
         "yaxis": "y2"
        },
        {
         "error_y": {
          "array": [
           6195.028061970597,
           317970.3295715948,
           246837.89845813334,
           207527.8542370307,
           133096.78445032414,
           46923.61237693172
          ]
         },
         "hovertemplate": "func_name=time_streamset_raw_values<br>n_points=1000000<br>n_streams=%{x}<br>pps=%{y}<extra></extra>",
         "legendgroup": "time_streamset_raw_values",
         "line": {
          "color": "#ab63fa",
          "dash": "solid"
         },
         "marker": {
          "symbol": "circle"
         },
         "mode": "lines+markers",
         "name": "time_streamset_raw_values",
         "orientation": "v",
         "showlegend": false,
         "type": "scatter",
         "x": [
          1,
          5,
          10,
          20,
          50,
          100
         ],
         "xaxis": "x3",
         "y": [
          592470.0638844054,
          1087960.837688588,
          1026168.2024307441,
          815072.2749461076,
          547643.8398723003,
          378389.3779067563
         ],
         "yaxis": "y3"
        }
       ],
       "layout": {
        "annotations": [
         {
          "font": {},
          "showarrow": false,
          "text": "n_points=10000",
          "x": 0.1175,
          "xanchor": "center",
          "xref": "paper",
          "y": 1,
          "yanchor": "bottom",
          "yref": "paper"
         },
         {
          "font": {},
          "showarrow": false,
          "text": "n_points=100000",
          "x": 0.3725,
          "xanchor": "center",
          "xref": "paper",
          "y": 1,
          "yanchor": "bottom",
          "yref": "paper"
         },
         {
          "font": {},
          "showarrow": false,
          "text": "n_points=1000000",
          "x": 0.6275,
          "xanchor": "center",
          "xref": "paper",
          "y": 1,
          "yanchor": "bottom",
          "yref": "paper"
         },
         {
          "font": {},
          "showarrow": false,
          "text": "n_points=3000000",
          "x": 0.8824999999999998,
          "xanchor": "center",
          "xref": "paper",
          "y": 1,
          "yanchor": "bottom",
          "yref": "paper"
         }
        ],
        "autosize": true,
        "legend": {
         "title": {
          "text": "func_name"
         },
         "tracegroupgap": 0
        },
        "margin": {
         "t": 60
        },
        "template": {
         "data": {
          "bar": [
           {
            "error_x": {
             "color": "#2a3f5f"
            },
            "error_y": {
             "color": "#2a3f5f"
            },
            "marker": {
             "line": {
              "color": "#E5ECF6",
              "width": 0.5
             },
             "pattern": {
              "fillmode": "overlay",
              "size": 10,
              "solidity": 0.2
             }
            },
            "type": "bar"
           }
          ],
          "barpolar": [
           {
            "marker": {
             "line": {
              "color": "#E5ECF6",
              "width": 0.5
             },
             "pattern": {
              "fillmode": "overlay",
              "size": 10,
              "solidity": 0.2
             }
            },
            "type": "barpolar"
           }
          ],
          "carpet": [
           {
            "aaxis": {
             "endlinecolor": "#2a3f5f",
             "gridcolor": "white",
             "linecolor": "white",
             "minorgridcolor": "white",
             "startlinecolor": "#2a3f5f"
            },
            "baxis": {
             "endlinecolor": "#2a3f5f",
             "gridcolor": "white",
             "linecolor": "white",
             "minorgridcolor": "white",
             "startlinecolor": "#2a3f5f"
            },
            "type": "carpet"
           }
          ],
          "choropleth": [
           {
            "colorbar": {
             "outlinewidth": 0,
             "ticks": ""
            },
            "type": "choropleth"
           }
          ],
          "contour": [
           {
            "colorbar": {
             "outlinewidth": 0,
             "ticks": ""
            },
            "colorscale": [
             [
              0,
              "#0d0887"
             ],
             [
              0.1111111111111111,
              "#46039f"
             ],
             [
              0.2222222222222222,
              "#7201a8"
             ],
             [
              0.3333333333333333,
              "#9c179e"
             ],
             [
              0.4444444444444444,
              "#bd3786"
             ],
             [
              0.5555555555555556,
              "#d8576b"
             ],
             [
              0.6666666666666666,
              "#ed7953"
             ],
             [
              0.7777777777777778,
              "#fb9f3a"
             ],
             [
              0.8888888888888888,
              "#fdca26"
             ],
             [
              1,
              "#f0f921"
             ]
            ],
            "type": "contour"
           }
          ],
          "contourcarpet": [
           {
            "colorbar": {
             "outlinewidth": 0,
             "ticks": ""
            },
            "type": "contourcarpet"
           }
          ],
          "heatmap": [
           {
            "colorbar": {
             "outlinewidth": 0,
             "ticks": ""
            },
            "colorscale": [
             [
              0,
              "#0d0887"
             ],
             [
              0.1111111111111111,
              "#46039f"
             ],
             [
              0.2222222222222222,
              "#7201a8"
             ],
             [
              0.3333333333333333,
              "#9c179e"
             ],
             [
              0.4444444444444444,
              "#bd3786"
             ],
             [
              0.5555555555555556,
              "#d8576b"
             ],
             [
              0.6666666666666666,
              "#ed7953"
             ],
             [
              0.7777777777777778,
              "#fb9f3a"
             ],
             [
              0.8888888888888888,
              "#fdca26"
             ],
             [
              1,
              "#f0f921"
             ]
            ],
            "type": "heatmap"
           }
          ],
          "heatmapgl": [
           {
            "colorbar": {
             "outlinewidth": 0,
             "ticks": ""
            },
            "colorscale": [
             [
              0,
              "#0d0887"
             ],
             [
              0.1111111111111111,
              "#46039f"
             ],
             [
              0.2222222222222222,
              "#7201a8"
             ],
             [
              0.3333333333333333,
              "#9c179e"
             ],
             [
              0.4444444444444444,
              "#bd3786"
             ],
             [
              0.5555555555555556,
              "#d8576b"
             ],
             [
              0.6666666666666666,
              "#ed7953"
             ],
             [
              0.7777777777777778,
              "#fb9f3a"
             ],
             [
              0.8888888888888888,
              "#fdca26"
             ],
             [
              1,
              "#f0f921"
             ]
            ],
            "type": "heatmapgl"
           }
          ],
          "histogram": [
           {
            "marker": {
             "pattern": {
              "fillmode": "overlay",
              "size": 10,
              "solidity": 0.2
             }
            },
            "type": "histogram"
           }
          ],
          "histogram2d": [
           {
            "colorbar": {
             "outlinewidth": 0,
             "ticks": ""
            },
            "colorscale": [
             [
              0,
              "#0d0887"
             ],
             [
              0.1111111111111111,
              "#46039f"
             ],
             [
              0.2222222222222222,
              "#7201a8"
             ],
             [
              0.3333333333333333,
              "#9c179e"
             ],
             [
              0.4444444444444444,
              "#bd3786"
             ],
             [
              0.5555555555555556,
              "#d8576b"
             ],
             [
              0.6666666666666666,
              "#ed7953"
             ],
             [
              0.7777777777777778,
              "#fb9f3a"
             ],
             [
              0.8888888888888888,
              "#fdca26"
             ],
             [
              1,
              "#f0f921"
             ]
            ],
            "type": "histogram2d"
           }
          ],
          "histogram2dcontour": [
           {
            "colorbar": {
             "outlinewidth": 0,
             "ticks": ""
            },
            "colorscale": [
             [
              0,
              "#0d0887"
             ],
             [
              0.1111111111111111,
              "#46039f"
             ],
             [
              0.2222222222222222,
              "#7201a8"
             ],
             [
              0.3333333333333333,
              "#9c179e"
             ],
             [
              0.4444444444444444,
              "#bd3786"
             ],
             [
              0.5555555555555556,
              "#d8576b"
             ],
             [
              0.6666666666666666,
              "#ed7953"
             ],
             [
              0.7777777777777778,
              "#fb9f3a"
             ],
             [
              0.8888888888888888,
              "#fdca26"
             ],
             [
              1,
              "#f0f921"
             ]
            ],
            "type": "histogram2dcontour"
           }
          ],
          "mesh3d": [
           {
            "colorbar": {
             "outlinewidth": 0,
             "ticks": ""
            },
            "type": "mesh3d"
           }
          ],
          "parcoords": [
           {
            "line": {
             "colorbar": {
              "outlinewidth": 0,
              "ticks": ""
             }
            },
            "type": "parcoords"
           }
          ],
          "pie": [
           {
            "automargin": true,
            "type": "pie"
           }
          ],
          "scatter": [
           {
            "fillpattern": {
             "fillmode": "overlay",
             "size": 10,
             "solidity": 0.2
            },
            "type": "scatter"
           }
          ],
          "scatter3d": [
           {
            "line": {
             "colorbar": {
              "outlinewidth": 0,
              "ticks": ""
             }
            },
            "marker": {
             "colorbar": {
              "outlinewidth": 0,
              "ticks": ""
             }
            },
            "type": "scatter3d"
           }
          ],
          "scattercarpet": [
           {
            "marker": {
             "colorbar": {
              "outlinewidth": 0,
              "ticks": ""
             }
            },
            "type": "scattercarpet"
           }
          ],
          "scattergeo": [
           {
            "marker": {
             "colorbar": {
              "outlinewidth": 0,
              "ticks": ""
             }
            },
            "type": "scattergeo"
           }
          ],
          "scattergl": [
           {
            "marker": {
             "colorbar": {
              "outlinewidth": 0,
              "ticks": ""
             }
            },
            "type": "scattergl"
           }
          ],
          "scattermapbox": [
           {
            "marker": {
             "colorbar": {
              "outlinewidth": 0,
              "ticks": ""
             }
            },
            "type": "scattermapbox"
           }
          ],
          "scatterpolar": [
           {
            "marker": {
             "colorbar": {
              "outlinewidth": 0,
              "ticks": ""
             }
            },
            "type": "scatterpolar"
           }
          ],
          "scatterpolargl": [
           {
            "marker": {
             "colorbar": {
              "outlinewidth": 0,
              "ticks": ""
             }
            },
            "type": "scatterpolargl"
           }
          ],
          "scatterternary": [
           {
            "marker": {
             "colorbar": {
              "outlinewidth": 0,
              "ticks": ""
             }
            },
            "type": "scatterternary"
           }
          ],
          "surface": [
           {
            "colorbar": {
             "outlinewidth": 0,
             "ticks": ""
            },
            "colorscale": [
             [
              0,
              "#0d0887"
             ],
             [
              0.1111111111111111,
              "#46039f"
             ],
             [
              0.2222222222222222,
              "#7201a8"
             ],
             [
              0.3333333333333333,
              "#9c179e"
             ],
             [
              0.4444444444444444,
              "#bd3786"
             ],
             [
              0.5555555555555556,
              "#d8576b"
             ],
             [
              0.6666666666666666,
              "#ed7953"
             ],
             [
              0.7777777777777778,
              "#fb9f3a"
             ],
             [
              0.8888888888888888,
              "#fdca26"
             ],
             [
              1,
              "#f0f921"
             ]
            ],
            "type": "surface"
           }
          ],
          "table": [
           {
            "cells": {
             "fill": {
              "color": "#EBF0F8"
             },
             "line": {
              "color": "white"
             }
            },
            "header": {
             "fill": {
              "color": "#C8D4E3"
             },
             "line": {
              "color": "white"
             }
            },
            "type": "table"
           }
          ]
         },
         "layout": {
          "annotationdefaults": {
           "arrowcolor": "#2a3f5f",
           "arrowhead": 0,
           "arrowwidth": 1
          },
          "autotypenumbers": "strict",
          "coloraxis": {
           "colorbar": {
            "outlinewidth": 0,
            "ticks": ""
           }
          },
          "colorscale": {
           "diverging": [
            [
             0,
             "#8e0152"
            ],
            [
             0.1,
             "#c51b7d"
            ],
            [
             0.2,
             "#de77ae"
            ],
            [
             0.3,
             "#f1b6da"
            ],
            [
             0.4,
             "#fde0ef"
            ],
            [
             0.5,
             "#f7f7f7"
            ],
            [
             0.6,
             "#e6f5d0"
            ],
            [
             0.7,
             "#b8e186"
            ],
            [
             0.8,
             "#7fbc41"
            ],
            [
             0.9,
             "#4d9221"
            ],
            [
             1,
             "#276419"
            ]
           ],
           "sequential": [
            [
             0,
             "#0d0887"
            ],
            [
             0.1111111111111111,
             "#46039f"
            ],
            [
             0.2222222222222222,
             "#7201a8"
            ],
            [
             0.3333333333333333,
             "#9c179e"
            ],
            [
             0.4444444444444444,
             "#bd3786"
            ],
            [
             0.5555555555555556,
             "#d8576b"
            ],
            [
             0.6666666666666666,
             "#ed7953"
            ],
            [
             0.7777777777777778,
             "#fb9f3a"
            ],
            [
             0.8888888888888888,
             "#fdca26"
            ],
            [
             1,
             "#f0f921"
            ]
           ],
           "sequentialminus": [
            [
             0,
             "#0d0887"
            ],
            [
             0.1111111111111111,
             "#46039f"
            ],
            [
             0.2222222222222222,
             "#7201a8"
            ],
            [
             0.3333333333333333,
             "#9c179e"
            ],
            [
             0.4444444444444444,
             "#bd3786"
            ],
            [
             0.5555555555555556,
             "#d8576b"
            ],
            [
             0.6666666666666666,
             "#ed7953"
            ],
            [
             0.7777777777777778,
             "#fb9f3a"
            ],
            [
             0.8888888888888888,
             "#fdca26"
            ],
            [
             1,
             "#f0f921"
            ]
           ]
          },
          "colorway": [
           "#636efa",
           "#EF553B",
           "#00cc96",
           "#ab63fa",
           "#FFA15A",
           "#19d3f3",
           "#FF6692",
           "#B6E880",
           "#FF97FF",
           "#FECB52"
          ],
          "font": {
           "color": "#2a3f5f"
          },
          "geo": {
           "bgcolor": "white",
           "lakecolor": "white",
           "landcolor": "#E5ECF6",
           "showlakes": true,
           "showland": true,
           "subunitcolor": "white"
          },
          "hoverlabel": {
           "align": "left"
          },
          "hovermode": "closest",
          "mapbox": {
           "style": "light"
          },
          "paper_bgcolor": "white",
          "plot_bgcolor": "#E5ECF6",
          "polar": {
           "angularaxis": {
            "gridcolor": "white",
            "linecolor": "white",
            "ticks": ""
           },
           "bgcolor": "#E5ECF6",
           "radialaxis": {
            "gridcolor": "white",
            "linecolor": "white",
            "ticks": ""
           }
          },
          "scene": {
           "xaxis": {
            "backgroundcolor": "#E5ECF6",
            "gridcolor": "white",
            "gridwidth": 2,
            "linecolor": "white",
            "showbackground": true,
            "ticks": "",
            "zerolinecolor": "white"
           },
           "yaxis": {
            "backgroundcolor": "#E5ECF6",
            "gridcolor": "white",
            "gridwidth": 2,
            "linecolor": "white",
            "showbackground": true,
            "ticks": "",
            "zerolinecolor": "white"
           },
           "zaxis": {
            "backgroundcolor": "#E5ECF6",
            "gridcolor": "white",
            "gridwidth": 2,
            "linecolor": "white",
            "showbackground": true,
            "ticks": "",
            "zerolinecolor": "white"
           }
          },
          "shapedefaults": {
           "line": {
            "color": "#2a3f5f"
           }
          },
          "ternary": {
           "aaxis": {
            "gridcolor": "white",
            "linecolor": "white",
            "ticks": ""
           },
           "baxis": {
            "gridcolor": "white",
            "linecolor": "white",
            "ticks": ""
           },
           "bgcolor": "#E5ECF6",
           "caxis": {
            "gridcolor": "white",
            "linecolor": "white",
            "ticks": ""
           }
          },
          "title": {
           "x": 0.05
          },
          "xaxis": {
           "automargin": true,
           "gridcolor": "white",
           "linecolor": "white",
           "ticks": "",
           "title": {
            "standoff": 15
           },
           "zerolinecolor": "white",
           "zerolinewidth": 2
          },
          "yaxis": {
           "automargin": true,
           "gridcolor": "white",
           "linecolor": "white",
           "ticks": "",
           "title": {
            "standoff": 15
           },
           "zerolinecolor": "white",
           "zerolinewidth": 2
          }
         }
        },
        "xaxis": {
         "anchor": "y",
         "domain": [
          0,
          0.235
         ],
         "range": [
          0,
          110
         ],
         "title": {
          "text": "n_streams"
         },
         "type": "linear"
        },
        "xaxis2": {
         "anchor": "y2",
         "domain": [
          0.255,
          0.49
         ],
         "matches": "x",
         "range": [
          0,
          110
         ],
         "title": {
          "text": "n_streams"
         },
         "type": "linear"
        },
        "xaxis3": {
         "anchor": "y3",
         "domain": [
          0.51,
          0.745
         ],
         "matches": "x",
         "range": [
          0,
          110
         ],
         "title": {
          "text": "n_streams"
         },
         "type": "linear"
        },
        "xaxis4": {
         "anchor": "y4",
         "domain": [
          0.7649999999999999,
          0.9999999999999999
         ],
         "matches": "x",
         "range": [
          0,
          110
         ],
         "title": {
          "text": "n_streams"
         },
         "type": "linear"
        },
        "yaxis": {
         "anchor": "x",
         "domain": [
          0,
          1
         ],
         "range": [
          100000,
          2500000
         ],
         "title": {
          "text": "pps"
         },
         "type": "linear"
        },
        "yaxis2": {
         "anchor": "x2",
         "domain": [
          0,
          1
         ],
         "matches": "y",
         "showticklabels": false,
         "type": "linear"
        },
        "yaxis3": {
         "anchor": "x3",
         "domain": [
          0,
          1
         ],
         "matches": "y",
         "showticklabels": false,
         "type": "linear"
        },
        "yaxis4": {
         "anchor": "x4",
         "domain": [
          0,
          1
         ],
         "matches": "y",
         "showticklabels": false,
         "type": "linear"
        }
       }
      },
      "image/png": "[encoded data removed]",
      "text/html": [
       "<div>                            <div id=\"275a48bb-63f3-4377-98dc-3e144fea4b32\" class=\"plotly-graph-div\" style=\"height:525px; width:100%;\"></div>            <script type=\"text/javascript\">                require([\"plotly\"], function(Plotly) {                    window.PLOTLYENV=window.PLOTLYENV || {};                                    if (document.getElementById(\"275a48bb-63f3-4377-98dc-3e144fea4b32\")) {                    Plotly.newPlot(                        \"275a48bb-63f3-4377-98dc-3e144fea4b32\",                        [{\"error_y\":{\"array\":[10481.749559914591,27957.51367511544,26315.93249545861,54469.82253427963,53937.0140686961,26834.681025921334]},\"hovertemplate\":\"func_name=time_streamset_arrow_multistream_raw_values_non_timesnapped\\u003cbr\\u003en_points=10000\\u003cbr\\u003en_streams=%{x}\\u003cbr\\u003epps=%{y}\\u003cextra\\u003e\\u003c\\u002fextra\\u003e\",\"legendgroup\":\"time_streamset_arrow_multistream_raw_values_non_timesnapped\",\"line\":{\"color\":\"#636efa\",\"dash\":\"solid\"},\"marker\":{\"symbol\":\"circle\"},\"mode\":\"lines+markers\",\"name\":\"time_streamset_arrow_multistream_raw_values_non_timesnapped\",\"orientation\":\"v\",\"showlegend\":true,\"x\":[1,5,10,20,50,100],\"xaxis\":\"x\",\"y\":[184270.28867668926,610582.1198474104,806509.3915212203,970385.5713043435,1157101.3471414337,1271077.5510163812],\"yaxis\":\"y\",\"type\":\"scatter\"},{\"error_y\":{\"array\":[38088.85215960955,202941.3191181111,209349.00576637755,231648.87448708428,165016.1489393306,93976.22517559375]},\"hovertemplate\":\"func_name=time_streamset_arrow_multistream_raw_values_non_timesnapped\\u003cbr\\u003en_points=100000\\u003cbr\\u003en_streams=%{x}\\u003cbr\\u003epps=%{y}\\u003cextra\\u003e\\u003c\\u002fextra\\u003e\",\"legendgroup\":\"time_streamset_arrow_multistream_raw_values_non_timesnapped\",\"line\":{\"color\":\"#636efa\",\"dash\":\"solid\"},\"marker\":{\"symbol\":\"circle\"},\"mode\":\"lines+markers\",\"name\":\"time_streamset_arrow_multistream_raw_values_non_timesnapped\",\"orientation\":\"v\",\"showlegend\":false,\"x\":[1,5,10,20,50,100],\"xaxis\":\"x2\",\"y\":[768415.2146880098,1154761.747207087,1208459.1899656865,1231639.2479979156,1265085.8430315482,1138668.5084289678],\"yaxis\":\"y2\",\"type\":\"scatter\"},{\"error_y\":{\"array\":[115709.5905406329,299281.2780474494,410328.7567236421,567063.9944903117,129329.68919403476,138784.25203920508]},\"hovertemplate\":\"func_name=time_streamset_arrow_multistream_raw_values_non_timesnapped\\u003cbr\\u003en_points=1000000\\u003cbr\\u003en_streams=%{x}\\u003cbr\\u003epps=%{y}\\u003cextra\\u003e\\u003c\\u002fextra\\u003e\",\"legendgroup\":\"time_streamset_arrow_multistream_raw_values_non_timesnapped\",\"line\":{\"color\":\"#636efa\",\"dash\":\"solid\"},\"marker\":{\"symbol\":\"circle\"},\"mode\":\"lines+markers\",\"name\":\"time_streamset_arrow_multistream_raw_values_non_timesnapped\",\"orientation\":\"v\",\"showlegend\":false,\"x\":[1,5,10,20,50,100],\"xaxis\":\"x3\",\"y\":[1014484.2652147824,1127755.0759795196,1203263.7506180666,1765596.0257437949,1458267.2176329936,1461009.5919578897],\"yaxis\":\"y3\",\"type\":\"scatter\"},{\"error_y\":{\"array\":[9690.434027887104,39079.52020828477,111768.51314357757,107934.44666132054,23514.89190128789,45914.892286068716]},\"hovertemplate\":\"func_name=time_streamset_arrow_multistream_raw_values_timesnapped\\u003cbr\\u003en_points=10000\\u003cbr\\u003en_streams=%{x}\\u003cbr\\u003epps=%{y}\\u003cextra\\u003e\\u003c\\u002fextra\\u003e\",\"legendgroup\":\"time_streamset_arrow_multistream_raw_values_timesnapped\",\"line\":{\"color\":\"#EF553B\",\"dash\":\"solid\"},\"marker\":{\"symbol\":\"circle\"},\"mode\":\"lines+markers\",\"name\":\"time_streamset_arrow_multistream_raw_values_timesnapped\",\"orientation\":\"v\",\"showlegend\":true,\"x\":[1,5,10,20,50,100],\"xaxis\":\"x\",\"y\":[182461.35744313477,609372.5777876324,795332.8279336349,939955.0818909779,1252382.501168759,1364162.077221833],\"yaxis\":\"y\",\"type\":\"scatter\"},{\"error_y\":{\"array\":[12578.683387227042,216367.10392544788,192405.91241568877,244429.0281717844,279194.40090967563,266535.3842669117]},\"hovertemplate\":\"func_name=time_streamset_arrow_multistream_raw_values_timesnapped\\u003cbr\\u003en_points=100000\\u003cbr\\u003en_streams=%{x}\\u003cbr\\u003epps=%{y}\\u003cextra\\u003e\\u003c\\u002fextra\\u003e\",\"legendgroup\":\"time_streamset_arrow_multistream_raw_values_timesnapped\",\"line\":{\"color\":\"#EF553B\",\"dash\":\"solid\"},\"marker\":{\"symbol\":\"circle\"},\"mode\":\"lines+markers\",\"name\":\"time_streamset_arrow_multistream_raw_values_timesnapped\",\"orientation\":\"v\",\"showlegend\":false,\"x\":[1,5,10,20,50,100],\"xaxis\":\"x2\",\"y\":[781340.6977554917,1146307.2436484282,1194369.2892146276,1269985.0200514405,1324642.2202934914,1314718.8442260746],\"yaxis\":\"y2\",\"type\":\"scatter\"},{\"error_y\":{\"array\":[22144.781135516747,602621.9926776766,617764.5252840894,191988.679070051,182677.96826202882,134317.7845148096]},\"hovertemplate\":\"func_name=time_streamset_arrow_multistream_raw_values_timesnapped\\u003cbr\\u003en_points=1000000\\u003cbr\\u003en_streams=%{x}\\u003cbr\\u003epps=%{y}\\u003cextra\\u003e\\u003c\\u002fextra\\u003e\",\"legendgroup\":\"time_streamset_arrow_multistream_raw_values_timesnapped\",\"line\":{\"color\":\"#EF553B\",\"dash\":\"solid\"},\"marker\":{\"symbol\":\"circle\"},\"mode\":\"lines+markers\",\"name\":\"time_streamset_arrow_multistream_raw_values_timesnapped\",\"orientation\":\"v\",\"showlegend\":false,\"x\":[1,5,10,20,50,100],\"xaxis\":\"x3\",\"y\":[1150072.8423437253,1478788.1518706249,1593420.0272200664,1807466.788113111,1444374.231086196,1476603.0593328346],\"yaxis\":\"y3\",\"type\":\"scatter\"},{\"error_y\":{\"array\":[80481.97345169925,187344.223787949,76396.80436431126,47800.52898697173,63136.22323428577,85797.8389833992]},\"hovertemplate\":\"func_name=time_streamset_arrow_raw_values\\u003cbr\\u003en_points=10000\\u003cbr\\u003en_streams=%{x}\\u003cbr\\u003epps=%{y}\\u003cextra\\u003e\\u003c\\u002fextra\\u003e\",\"legendgroup\":\"time_streamset_arrow_raw_values\",\"line\":{\"color\":\"#00cc96\",\"dash\":\"solid\"},\"marker\":{\"symbol\":\"circle\"},\"mode\":\"lines+markers\",\"name\":\"time_streamset_arrow_raw_values\",\"orientation\":\"v\",\"showlegend\":true,\"x\":[1,5,10,20,50,100],\"xaxis\":\"x\",\"y\":[130399.03246847635,514482.5452625127,772238.2941963992,942411.7451020037,1193163.444535994,1214052.520757249],\"yaxis\":\"y\",\"type\":\"scatter\"},{\"error_y\":{\"array\":[172534.85442283913,584024.8839468141,645271.6310257879,545996.824088395,432874.2771094783,360226.0279400478]},\"hovertemplate\":\"func_name=time_streamset_arrow_raw_values\\u003cbr\\u003en_points=100000\\u003cbr\\u003en_streams=%{x}\\u003cbr\\u003epps=%{y}\\u003cextra\\u003e\\u003c\\u002fextra\\u003e\",\"legendgroup\":\"time_streamset_arrow_raw_values\",\"line\":{\"color\":\"#00cc96\",\"dash\":\"solid\"},\"marker\":{\"symbol\":\"circle\"},\"mode\":\"lines+markers\",\"name\":\"time_streamset_arrow_raw_values\",\"orientation\":\"v\",\"showlegend\":false,\"x\":[1,5,10,20,50,100],\"xaxis\":\"x2\",\"y\":[690023.5458907208,1077018.1205758315,1174869.3745455204,1198955.7230569008,1197175.5258947248,1281986.791718487],\"yaxis\":\"y2\",\"type\":\"scatter\"},{\"error_y\":{\"array\":[1220.0200114746526,267087.6934450773,757579.0368477248,585965.6411622085,319514.3054103513,223992.0869847008]},\"hovertemplate\":\"func_name=time_streamset_arrow_raw_values\\u003cbr\\u003en_points=1000000\\u003cbr\\u003en_streams=%{x}\\u003cbr\\u003epps=%{y}\\u003cextra\\u003e\\u003c\\u002fextra\\u003e\",\"legendgroup\":\"time_streamset_arrow_raw_values\",\"line\":{\"color\":\"#00cc96\",\"dash\":\"solid\"},\"marker\":{\"symbol\":\"circle\"},\"mode\":\"lines+markers\",\"name\":\"time_streamset_arrow_raw_values\",\"orientation\":\"v\",\"showlegend\":false,\"x\":[1,5,10,20,50,100],\"xaxis\":\"x3\",\"y\":[1162858.348522485,2157130.256181785,2178694.054249683,2055020.1278653955,1949077.625865497,1787692.4281474187],\"yaxis\":\"y3\",\"type\":\"scatter\"},{\"error_y\":{\"array\":[null,null,null,null,null,null]},\"hovertemplate\":\"func_name=time_streamset_arrow_raw_values\\u003cbr\\u003en_points=3000000\\u003cbr\\u003en_streams=%{x}\\u003cbr\\u003epps=%{y}\\u003cextra\\u003e\\u003c\\u002fextra\\u003e\",\"legendgroup\":\"time_streamset_arrow_raw_values\",\"line\":{\"color\":\"#00cc96\",\"dash\":\"solid\"},\"marker\":{\"symbol\":\"circle\"},\"mode\":\"lines+markers\",\"name\":\"time_streamset_arrow_raw_values\",\"orientation\":\"v\",\"showlegend\":false,\"x\":[1,5,10,20,50,100],\"xaxis\":\"x4\",\"y\":[1185010.34489701,1218479.0367930173,946052.8428403229,1012486.1065709557,926943.2860997599,803384.4850056279],\"yaxis\":\"y4\",\"type\":\"scatter\"},{\"error_y\":{\"array\":[19285.40012208422,17961.136774891795,60422.07858691694,37126.7638942876,60768.06663344618,30078.048168860125]},\"hovertemplate\":\"func_name=time_streamset_raw_values\\u003cbr\\u003en_points=10000\\u003cbr\\u003en_streams=%{x}\\u003cbr\\u003epps=%{y}\\u003cextra\\u003e\\u003c\\u002fextra\\u003e\",\"legendgroup\":\"time_streamset_raw_values\",\"line\":{\"color\":\"#ab63fa\",\"dash\":\"solid\"},\"marker\":{\"symbol\":\"circle\"},\"mode\":\"lines+markers\",\"name\":\"time_streamset_raw_values\",\"orientation\":\"v\",\"showlegend\":true,\"x\":[1,5,10,20,50,100],\"xaxis\":\"x\",\"y\":[116909.78227001581,360213.7000284344,532186.4360829137,681328.2645213604,782945.2808385317,806387.9853799735],\"yaxis\":\"y\",\"type\":\"scatter\"},{\"error_y\":{\"array\":[8898.42470207713,181695.24073778812,223177.28678549506,88781.99216991299,60490.78339021316,66063.17496856528]},\"hovertemplate\":\"func_name=time_streamset_raw_values\\u003cbr\\u003en_points=100000\\u003cbr\\u003en_streams=%{x}\\u003cbr\\u003epps=%{y}\\u003cextra\\u003e\\u003c\\u002fextra\\u003e\",\"legendgroup\":\"time_streamset_raw_values\",\"line\":{\"color\":\"#ab63fa\",\"dash\":\"solid\"},\"marker\":{\"symbol\":\"circle\"},\"mode\":\"lines+markers\",\"name\":\"time_streamset_raw_values\",\"orientation\":\"v\",\"showlegend\":false,\"x\":[1,5,10,20,50,100],\"xaxis\":\"x2\",\"y\":[465579.5315664503,1093393.6993385137,1059857.0333397535,993916.3086449571,990485.3138836045,1040311.388326461],\"yaxis\":\"y2\",\"type\":\"scatter\"},{\"error_y\":{\"array\":[6195.028061970597,317970.3295715948,246837.89845813334,207527.8542370307,133096.78445032414,46923.61237693172]},\"hovertemplate\":\"func_name=time_streamset_raw_values\\u003cbr\\u003en_points=1000000\\u003cbr\\u003en_streams=%{x}\\u003cbr\\u003epps=%{y}\\u003cextra\\u003e\\u003c\\u002fextra\\u003e\",\"legendgroup\":\"time_streamset_raw_values\",\"line\":{\"color\":\"#ab63fa\",\"dash\":\"solid\"},\"marker\":{\"symbol\":\"circle\"},\"mode\":\"lines+markers\",\"name\":\"time_streamset_raw_values\",\"orientation\":\"v\",\"showlegend\":false,\"x\":[1,5,10,20,50,100],\"xaxis\":\"x3\",\"y\":[592470.0638844054,1087960.837688588,1026168.2024307441,815072.2749461076,547643.8398723003,378389.3779067563],\"yaxis\":\"y3\",\"type\":\"scatter\"}],                        {\"template\":{\"data\":{\"histogram2dcontour\":[{\"type\":\"histogram2dcontour\",\"colorbar\":{\"outlinewidth\":0,\"ticks\":\"\"},\"colorscale\":[[0.0,\"#0d0887\"],[0.1111111111111111,\"#46039f\"],[0.2222222222222222,\"#7201a8\"],[0.3333333333333333,\"#9c179e\"],[0.4444444444444444,\"#bd3786\"],[0.5555555555555556,\"#d8576b\"],[0.6666666666666666,\"#ed7953\"],[0.7777777777777778,\"#fb9f3a\"],[0.8888888888888888,\"#fdca26\"],[1.0,\"#f0f921\"]]}],\"choropleth\":[{\"type\":\"choropleth\",\"colorbar\":{\"outlinewidth\":0,\"ticks\":\"\"}}],\"histogram2d\":[{\"type\":\"histogram2d\",\"colorbar\":{\"outlinewidth\":0,\"ticks\":\"\"},\"colorscale\":[[0.0,\"#0d0887\"],[0.1111111111111111,\"#46039f\"],[0.2222222222222222,\"#7201a8\"],[0.3333333333333333,\"#9c179e\"],[0.4444444444444444,\"#bd3786\"],[0.5555555555555556,\"#d8576b\"],[0.6666666666666666,\"#ed7953\"],[0.7777777777777778,\"#fb9f3a\"],[0.8888888888888888,\"#fdca26\"],[1.0,\"#f0f921\"]]}],\"heatmap\":[{\"type\":\"heatmap\",\"colorbar\":{\"outlinewidth\":0,\"ticks\":\"\"},\"colorscale\":[[0.0,\"#0d0887\"],[0.1111111111111111,\"#46039f\"],[0.2222222222222222,\"#7201a8\"],[0.3333333333333333,\"#9c179e\"],[0.4444444444444444,\"#bd3786\"],[0.5555555555555556,\"#d8576b\"],[0.6666666666666666,\"#ed7953\"],[0.7777777777777778,\"#fb9f3a\"],[0.8888888888888888,\"#fdca26\"],[1.0,\"#f0f921\"]]}],\"heatmapgl\":[{\"type\":\"heatmapgl\",\"colorbar\":{\"outlinewidth\":0,\"ticks\":\"\"},\"colorscale\":[[0.0,\"#0d0887\"],[0.1111111111111111,\"#46039f\"],[0.2222222222222222,\"#7201a8\"],[0.3333333333333333,\"#9c179e\"],[0.4444444444444444,\"#bd3786\"],[0.5555555555555556,\"#d8576b\"],[0.6666666666666666,\"#ed7953\"],[0.7777777777777778,\"#fb9f3a\"],[0.8888888888888888,\"#fdca26\"],[1.0,\"#f0f921\"]]}],\"contourcarpet\":[{\"type\":\"contourcarpet\",\"colorbar\":{\"outlinewidth\":0,\"ticks\":\"\"}}],\"contour\":[{\"type\":\"contour\",\"colorbar\":{\"outlinewidth\":0,\"ticks\":\"\"},\"colorscale\":[[0.0,\"#0d0887\"],[0.1111111111111111,\"#46039f\"],[0.2222222222222222,\"#7201a8\"],[0.3333333333333333,\"#9c179e\"],[0.4444444444444444,\"#bd3786\"],[0.5555555555555556,\"#d8576b\"],[0.6666666666666666,\"#ed7953\"],[0.7777777777777778,\"#fb9f3a\"],[0.8888888888888888,\"#fdca26\"],[1.0,\"#f0f921\"]]}],\"surface\":[{\"type\":\"surface\",\"colorbar\":{\"outlinewidth\":0,\"ticks\":\"\"},\"colorscale\":[[0.0,\"#0d0887\"],[0.1111111111111111,\"#46039f\"],[0.2222222222222222,\"#7201a8\"],[0.3333333333333333,\"#9c179e\"],[0.4444444444444444,\"#bd3786\"],[0.5555555555555556,\"#d8576b\"],[0.6666666666666666,\"#ed7953\"],[0.7777777777777778,\"#fb9f3a\"],[0.8888888888888888,\"#fdca26\"],[1.0,\"#f0f921\"]]}],\"mesh3d\":[{\"type\":\"mesh3d\",\"colorbar\":{\"outlinewidth\":0,\"ticks\":\"\"}}],\"scatter\":[{\"fillpattern\":{\"fillmode\":\"overlay\",\"size\":10,\"solidity\":0.2},\"type\":\"scatter\"}],\"parcoords\":[{\"type\":\"parcoords\",\"line\":{\"colorbar\":{\"outlinewidth\":0,\"ticks\":\"\"}}}],\"scatterpolargl\":[{\"type\":\"scatterpolargl\",\"marker\":{\"colorbar\":{\"outlinewidth\":0,\"ticks\":\"\"}}}],\"bar\":[{\"error_x\":{\"color\":\"#2a3f5f\"},\"error_y\":{\"color\":\"#2a3f5f\"},\"marker\":{\"line\":{\"color\":\"#E5ECF6\",\"width\":0.5},\"pattern\":{\"fillmode\":\"overlay\",\"size\":10,\"solidity\":0.2}},\"type\":\"bar\"}],\"scattergeo\":[{\"type\":\"scattergeo\",\"marker\":{\"colorbar\":{\"outlinewidth\":0,\"ticks\":\"\"}}}],\"scatterpolar\":[{\"type\":\"scatterpolar\",\"marker\":{\"colorbar\":{\"outlinewidth\":0,\"ticks\":\"\"}}}],\"histogram\":[{\"marker\":{\"pattern\":{\"fillmode\":\"overlay\",\"size\":10,\"solidity\":0.2}},\"type\":\"histogram\"}],\"scattergl\":[{\"type\":\"scattergl\",\"marker\":{\"colorbar\":{\"outlinewidth\":0,\"ticks\":\"\"}}}],\"scatter3d\":[{\"type\":\"scatter3d\",\"line\":{\"colorbar\":{\"outlinewidth\":0,\"ticks\":\"\"}},\"marker\":{\"colorbar\":{\"outlinewidth\":0,\"ticks\":\"\"}}}],\"scattermapbox\":[{\"type\":\"scattermapbox\",\"marker\":{\"colorbar\":{\"outlinewidth\":0,\"ticks\":\"\"}}}],\"scatterternary\":[{\"type\":\"scatterternary\",\"marker\":{\"colorbar\":{\"outlinewidth\":0,\"ticks\":\"\"}}}],\"scattercarpet\":[{\"type\":\"scattercarpet\",\"marker\":{\"colorbar\":{\"outlinewidth\":0,\"ticks\":\"\"}}}],\"carpet\":[{\"aaxis\":{\"endlinecolor\":\"#2a3f5f\",\"gridcolor\":\"white\",\"linecolor\":\"white\",\"minorgridcolor\":\"white\",\"startlinecolor\":\"#2a3f5f\"},\"baxis\":{\"endlinecolor\":\"#2a3f5f\",\"gridcolor\":\"white\",\"linecolor\":\"white\",\"minorgridcolor\":\"white\",\"startlinecolor\":\"#2a3f5f\"},\"type\":\"carpet\"}],\"table\":[{\"cells\":{\"fill\":{\"color\":\"#EBF0F8\"},\"line\":{\"color\":\"white\"}},\"header\":{\"fill\":{\"color\":\"#C8D4E3\"},\"line\":{\"color\":\"white\"}},\"type\":\"table\"}],\"barpolar\":[{\"marker\":{\"line\":{\"color\":\"#E5ECF6\",\"width\":0.5},\"pattern\":{\"fillmode\":\"overlay\",\"size\":10,\"solidity\":0.2}},\"type\":\"barpolar\"}],\"pie\":[{\"automargin\":true,\"type\":\"pie\"}]},\"layout\":{\"autotypenumbers\":\"strict\",\"colorway\":[\"#636efa\",\"#EF553B\",\"#00cc96\",\"#ab63fa\",\"#FFA15A\",\"#19d3f3\",\"#FF6692\",\"#B6E880\",\"#FF97FF\",\"#FECB52\"],\"font\":{\"color\":\"#2a3f5f\"},\"hovermode\":\"closest\",\"hoverlabel\":{\"align\":\"left\"},\"paper_bgcolor\":\"white\",\"plot_bgcolor\":\"#E5ECF6\",\"polar\":{\"bgcolor\":\"#E5ECF6\",\"angularaxis\":{\"gridcolor\":\"white\",\"linecolor\":\"white\",\"ticks\":\"\"},\"radialaxis\":{\"gridcolor\":\"white\",\"linecolor\":\"white\",\"ticks\":\"\"}},\"ternary\":{\"bgcolor\":\"#E5ECF6\",\"aaxis\":{\"gridcolor\":\"white\",\"linecolor\":\"white\",\"ticks\":\"\"},\"baxis\":{\"gridcolor\":\"white\",\"linecolor\":\"white\",\"ticks\":\"\"},\"caxis\":{\"gridcolor\":\"white\",\"linecolor\":\"white\",\"ticks\":\"\"}},\"coloraxis\":{\"colorbar\":{\"outlinewidth\":0,\"ticks\":\"\"}},\"colorscale\":{\"sequential\":[[0.0,\"#0d0887\"],[0.1111111111111111,\"#46039f\"],[0.2222222222222222,\"#7201a8\"],[0.3333333333333333,\"#9c179e\"],[0.4444444444444444,\"#bd3786\"],[0.5555555555555556,\"#d8576b\"],[0.6666666666666666,\"#ed7953\"],[0.7777777777777778,\"#fb9f3a\"],[0.8888888888888888,\"#fdca26\"],[1.0,\"#f0f921\"]],\"sequentialminus\":[[0.0,\"#0d0887\"],[0.1111111111111111,\"#46039f\"],[0.2222222222222222,\"#7201a8\"],[0.3333333333333333,\"#9c179e\"],[0.4444444444444444,\"#bd3786\"],[0.5555555555555556,\"#d8576b\"],[0.6666666666666666,\"#ed7953\"],[0.7777777777777778,\"#fb9f3a\"],[0.8888888888888888,\"#fdca26\"],[1.0,\"#f0f921\"]],\"diverging\":[[0,\"#8e0152\"],[0.1,\"#c51b7d\"],[0.2,\"#de77ae\"],[0.3,\"#f1b6da\"],[0.4,\"#fde0ef\"],[0.5,\"#f7f7f7\"],[0.6,\"#e6f5d0\"],[0.7,\"#b8e186\"],[0.8,\"#7fbc41\"],[0.9,\"#4d9221\"],[1,\"#276419\"]]},\"xaxis\":{\"gridcolor\":\"white\",\"linecolor\":\"white\",\"ticks\":\"\",\"title\":{\"standoff\":15},\"zerolinecolor\":\"white\",\"automargin\":true,\"zerolinewidth\":2},\"yaxis\":{\"gridcolor\":\"white\",\"linecolor\":\"white\",\"ticks\":\"\",\"title\":{\"standoff\":15},\"zerolinecolor\":\"white\",\"automargin\":true,\"zerolinewidth\":2},\"scene\":{\"xaxis\":{\"backgroundcolor\":\"#E5ECF6\",\"gridcolor\":\"white\",\"linecolor\":\"white\",\"showbackground\":true,\"ticks\":\"\",\"zerolinecolor\":\"white\",\"gridwidth\":2},\"yaxis\":{\"backgroundcolor\":\"#E5ECF6\",\"gridcolor\":\"white\",\"linecolor\":\"white\",\"showbackground\":true,\"ticks\":\"\",\"zerolinecolor\":\"white\",\"gridwidth\":2},\"zaxis\":{\"backgroundcolor\":\"#E5ECF6\",\"gridcolor\":\"white\",\"linecolor\":\"white\",\"showbackground\":true,\"ticks\":\"\",\"zerolinecolor\":\"white\",\"gridwidth\":2}},\"shapedefaults\":{\"line\":{\"color\":\"#2a3f5f\"}},\"annotationdefaults\":{\"arrowcolor\":\"#2a3f5f\",\"arrowhead\":0,\"arrowwidth\":1},\"geo\":{\"bgcolor\":\"white\",\"landcolor\":\"#E5ECF6\",\"subunitcolor\":\"white\",\"showland\":true,\"showlakes\":true,\"lakecolor\":\"white\"},\"title\":{\"x\":0.05},\"mapbox\":{\"style\":\"light\"}}},\"xaxis\":{\"anchor\":\"y\",\"domain\":[0.0,0.235],\"title\":{\"text\":\"n_streams\"},\"range\":[0,110]},\"yaxis\":{\"anchor\":\"x\",\"domain\":[0.0,1.0],\"title\":{\"text\":\"pps\"},\"range\":[100000,2500000]},\"xaxis2\":{\"anchor\":\"y2\",\"domain\":[0.255,0.49],\"matches\":\"x\",\"title\":{\"text\":\"n_streams\"},\"range\":[0,110]},\"yaxis2\":{\"anchor\":\"x2\",\"domain\":[0.0,1.0],\"matches\":\"y\",\"showticklabels\":false},\"xaxis3\":{\"anchor\":\"y3\",\"domain\":[0.51,0.745],\"matches\":\"x\",\"title\":{\"text\":\"n_streams\"},\"range\":[0,110]},\"yaxis3\":{\"anchor\":\"x3\",\"domain\":[0.0,1.0],\"matches\":\"y\",\"showticklabels\":false},\"xaxis4\":{\"anchor\":\"y4\",\"domain\":[0.7649999999999999,0.9999999999999999],\"matches\":\"x\",\"title\":{\"text\":\"n_streams\"},\"range\":[0,110]},\"yaxis4\":{\"anchor\":\"x4\",\"domain\":[0.0,1.0],\"matches\":\"y\",\"showticklabels\":false},\"annotations\":[{\"font\":{},\"showarrow\":false,\"text\":\"n_points=10000\",\"x\":0.1175,\"xanchor\":\"center\",\"xref\":\"paper\",\"y\":1.0,\"yanchor\":\"bottom\",\"yref\":\"paper\"},{\"font\":{},\"showarrow\":false,\"text\":\"n_points=100000\",\"x\":0.3725,\"xanchor\":\"center\",\"xref\":\"paper\",\"y\":1.0,\"yanchor\":\"bottom\",\"yref\":\"paper\"},{\"font\":{},\"showarrow\":false,\"text\":\"n_points=1000000\",\"x\":0.6275,\"xanchor\":\"center\",\"xref\":\"paper\",\"y\":1.0,\"yanchor\":\"bottom\",\"yref\":\"paper\"},{\"font\":{},\"showarrow\":false,\"text\":\"n_points=3000000\",\"x\":0.8824999999999998,\"xanchor\":\"center\",\"xref\":\"paper\",\"y\":1.0,\"yanchor\":\"bottom\",\"yref\":\"paper\"}],\"legend\":{\"title\":{\"text\":\"func_name\"},\"tracegroupgap\":0},\"margin\":{\"t\":60}},                        {\"responsive\": true}                    ).then(function(){\n",
       "                            \n",
       "var gd = document.getElementById('275a48bb-63f3-4377-98dc-3e144fea4b32');\n",
       "var x = new MutationObserver(function (mutations, observer) {{\n",
       "        var display = window.getComputedStyle(gd).display;\n",
       "        if (!display || display === 'none') {{\n",
       "            console.log([gd, 'removed!']);\n",
       "            Plotly.purge(gd);\n",
       "            observer.disconnect();\n",
       "        }}\n",
       "}});\n",
       "\n",
       "// Listen for the removal of the full notebook cells\n",
       "var notebookContainer = gd.closest('#notebook-container');\n",
       "if (notebookContainer) {{\n",
       "    x.observe(notebookContainer, {childList: true});\n",
       "}}\n",
       "\n",
       "// Listen for the clearing of the current output cell\n",
       "var outputEl = gd.closest('.output');\n",
       "if (outputEl) {{\n",
       "    x.observe(outputEl, {childList: true});\n",
       "}}\n",
       "\n",
       "                        })                };                });            </script>        </div>"
      ]
     },
     "metadata": {},
     "output_type": "display_data"
    }
   ],
   "source": [
    "fig = px.line(\n",
    "    data_frame=streamset_avg_time_raw,\n",
    "    y=\"pps\",\n",
    "    x=\"n_streams\",\n",
    "    color=\"func_name\",\n",
    "    facet_col=\"n_points\",\n",
    "    range_x=[0, 110],\n",
    "    range_y=[100000, 2500000],\n",
    "    markers=True,\n",
    "    error_y=\"pps_err\",\n",
    ")\n",
    "fig"
   ]
  },
  {
   "cell_type": "code",
   "execution_count": 184,
   "id": "5f901f89-01d0-4eb7-bafe-a777a96c9614",
   "metadata": {
    "tags": []
   },
   "outputs": [],
   "source": [
    "fig.write_html(\"facet_col.html\")"
   ]
  },
  {
   "cell_type": "code",
   "execution_count": null,
   "id": "e6e8403d-f275-4c39-b908-2af21ae2f004",
   "metadata": {},
   "outputs": [],
   "source": []
  },
  {
   "cell_type": "code",
   "execution_count": null,
   "id": "e6f77b47-d4ee-4229-a871-c6bb63380d09",
   "metadata": {},
   "outputs": [],
   "source": []
  }
 ],
 "metadata": {
  "kernelspec": {
   "display_name": "Python 3 (ipykernel)",
   "language": "python",
   "name": "python3"
  },
  "language_info": {
   "codemirror_mode": {
    "name": "ipython",
    "version": 3
   },
   "file_extension": ".py",
   "mimetype": "text/x-python",
   "name": "python",
   "nbconvert_exporter": "python",
   "pygments_lexer": "ipython3",
   "version": "3.10.12"
  }
 },
 "nbformat": 4,
 "nbformat_minor": 5
}
